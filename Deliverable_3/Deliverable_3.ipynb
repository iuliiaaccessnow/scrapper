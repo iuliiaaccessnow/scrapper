{
 "cells": [
  {
   "cell_type": "markdown",
   "metadata": {
    "id": "AYtzqiFVEDWw"
   },
   "source": [
    "#Imports"
   ]
  },
  {
   "cell_type": "code",
   "execution_count": 2,
   "metadata": {
    "id": "mSZW86_D08Pw"
   },
   "outputs": [
    {
     "ename": "ModuleNotFoundError",
     "evalue": "No module named 'utils.loader_utils'",
     "output_type": "error",
     "traceback": [
      "\u001b[0;31m---------------------------------------------------------------------------\u001b[0m",
      "\u001b[0;31mModuleNotFoundError\u001b[0m                       Traceback (most recent call last)",
      "\u001b[0;32m<ipython-input-2-4944d3972d26>\u001b[0m in \u001b[0;36m<module>\u001b[0;34m\u001b[0m\n\u001b[1;32m     11\u001b[0m \u001b[0;34m\u001b[0m\u001b[0m\n\u001b[1;32m     12\u001b[0m \u001b[0;31m# import utils functions and classes\u001b[0m\u001b[0;34m\u001b[0m\u001b[0;34m\u001b[0m\u001b[0;34m\u001b[0m\u001b[0m\n\u001b[0;32m---> 13\u001b[0;31m \u001b[0;32mfrom\u001b[0m \u001b[0mDataLoader\u001b[0m \u001b[0;32mimport\u001b[0m \u001b[0mTADataLoader\u001b[0m\u001b[0;34m\u001b[0m\u001b[0;34m\u001b[0m\u001b[0m\n\u001b[0m\u001b[1;32m     14\u001b[0m \u001b[0;32mfrom\u001b[0m \u001b[0mTextPreprocessing\u001b[0m \u001b[0;32mimport\u001b[0m \u001b[0mTextPreprocessor\u001b[0m\u001b[0;34m\u001b[0m\u001b[0;34m\u001b[0m\u001b[0m\n\u001b[1;32m     15\u001b[0m \u001b[0;32mfrom\u001b[0m \u001b[0mLemmatizeCorpus\u001b[0m \u001b[0;32mimport\u001b[0m \u001b[0mLemmatizeCorpus\u001b[0m\u001b[0;34m\u001b[0m\u001b[0;34m\u001b[0m\u001b[0m\n",
      "\u001b[0;32m~/Documents/X-HEC/Y1/Capgemini/trip_advisor_scrap/Deliverable_2/DataLoader.py\u001b[0m in \u001b[0;36m<module>\u001b[0;34m\u001b[0m\n\u001b[1;32m      6\u001b[0m \u001b[0;32mimport\u001b[0m \u001b[0mcalendar\u001b[0m\u001b[0;34m\u001b[0m\u001b[0;34m\u001b[0m\u001b[0m\n\u001b[1;32m      7\u001b[0m \u001b[0;34m\u001b[0m\u001b[0m\n\u001b[0;32m----> 8\u001b[0;31m \u001b[0;32mfrom\u001b[0m \u001b[0mutils\u001b[0m\u001b[0;34m.\u001b[0m\u001b[0mloader_utils\u001b[0m \u001b[0;32mimport\u001b[0m \u001b[0mread_jl_file\u001b[0m\u001b[0;34m,\u001b[0m \u001b[0mextract_details\u001b[0m\u001b[0;34m,\u001b[0m \u001b[0mget_resto_id\u001b[0m\u001b[0;34m,\u001b[0m \u001b[0mconvert_date\u001b[0m\u001b[0;34m\u001b[0m\u001b[0;34m\u001b[0m\u001b[0m\n\u001b[0m\u001b[1;32m      9\u001b[0m \u001b[0;32mfrom\u001b[0m \u001b[0mutils\u001b[0m\u001b[0;34m.\u001b[0m\u001b[0mprocessing_utils\u001b[0m \u001b[0;32mimport\u001b[0m \u001b[0mlanguage_filter\u001b[0m\u001b[0;34m\u001b[0m\u001b[0;34m\u001b[0m\u001b[0m\n\u001b[1;32m     10\u001b[0m \u001b[0;34m\u001b[0m\u001b[0m\n",
      "\u001b[0;31mModuleNotFoundError\u001b[0m: No module named 'utils.loader_utils'"
     ]
    }
   ],
   "source": [
    "# add path\n",
    "import sys\n",
    "sys.path.append('../Deliverable_2/')\n",
    "\n",
    "import pandas as pd \n",
    "import numpy as np\n",
    "from numpy.random import randint\n",
    "import seaborn as sns\n",
    "from collections import Counter, OrderedDict\n",
    "import cld2\n",
    "\n",
    "# import utils functions and classes\n",
    "from DataLoader import TADataLoader\n",
    "from TextPreprocessing import TextPreprocessor\n",
    "from LemmatizeCorpus import LemmatizeCorpus\n",
    "from stem_corpus import stem_corpus\n",
    "from Embeddor import Embeddor\n",
    "from sklearn.feature_extraction.text import TfidfVectorizer\n",
    "from sklearn.decomposition import TruncatedSVD\n",
    "from sklearn.linear_model import LogisticRegression\n",
    "from sklearn.model_selection import train_test_split\n",
    "from sklearn.metrics import classification_report\n",
    "from sklearn.metrics import confusion_matrix\n",
    "from sklearn.model_selection import cross_val_score\n",
    "from sklearn.ensemble import RandomForestClassifier\n",
    "from ast import literal_eval\n",
    "\n",
    "import gensim.downloader as api\n",
    "\n",
    "import nltk\n",
    "nltk.download('punkt')\n",
    "nltk.download('stopwords')\n",
    "\n",
    "\n",
    "import matplotlib.pyplot as plt\n",
    "%matplotlib inline\n",
    "plt.rcParams[\"figure.figsize\"] = (10, 6)\n",
    "sns.set_palette(\"husl\")"
   ]
  },
<<<<<<< HEAD
  {
   "cell_type": "code",
   "execution_count": 4,
   "metadata": {},
   "outputs": [
    {
     "name": "stderr",
     "output_type": "stream",
     "text": [
      "/opt/anaconda3/lib/python3.7/site-packages/tensorflow_addons/utils/ensure_tf_install.py:67: UserWarning: Tensorflow Addons supports using Python ops for all Tensorflow versions above or equal to 2.3.0 and strictly below 2.5.0 (nightly versions are not supported). \n",
      " The versions of TensorFlow you are currently using is 2.2.0 and is not supported. \n",
      "Some things might work, some things might not.\n",
      "If you were to encounter a bug, do not file an issue.\n",
      "If you want to make sure you're using a tested and supported configuration, either change the TensorFlow version or the TensorFlow Addons's version. \n",
      "You can find the compatibility matrix in TensorFlow Addon's readme:\n",
      "https://github.com/tensorflow/addons\n",
      "  UserWarning,\n"
     ]
    },
    {
     "ename": "ImportError",
     "evalue": "cannot import name 'keras_tensor' from 'tensorflow.python.keras.engine' (/opt/anaconda3/lib/python3.7/site-packages/tensorflow/python/keras/engine/__init__.py)",
     "output_type": "error",
     "traceback": [
      "\u001b[0;31m---------------------------------------------------------------------------\u001b[0m",
      "\u001b[0;31mImportError\u001b[0m                               Traceback (most recent call last)",
      "\u001b[0;32m<ipython-input-4-86eccee498ab>\u001b[0m in \u001b[0;36m<module>\u001b[0;34m\u001b[0m\n\u001b[0;32m----> 1\u001b[0;31m \u001b[0;32mimport\u001b[0m \u001b[0mtensorflow_addons\u001b[0m\u001b[0;34m\u001b[0m\u001b[0;34m\u001b[0m\u001b[0m\n\u001b[0m",
      "\u001b[0;32m/opt/anaconda3/lib/python3.7/site-packages/tensorflow_addons/__init__.py\u001b[0m in \u001b[0;36m<module>\u001b[0;34m\u001b[0m\n\u001b[1;32m     19\u001b[0m \u001b[0;34m\u001b[0m\u001b[0m\n\u001b[1;32m     20\u001b[0m \u001b[0;31m# Local project imports\u001b[0m\u001b[0;34m\u001b[0m\u001b[0;34m\u001b[0m\u001b[0;34m\u001b[0m\u001b[0m\n\u001b[0;32m---> 21\u001b[0;31m \u001b[0;32mfrom\u001b[0m \u001b[0mtensorflow_addons\u001b[0m \u001b[0;32mimport\u001b[0m \u001b[0mactivations\u001b[0m\u001b[0;34m\u001b[0m\u001b[0;34m\u001b[0m\u001b[0m\n\u001b[0m\u001b[1;32m     22\u001b[0m \u001b[0;32mfrom\u001b[0m \u001b[0mtensorflow_addons\u001b[0m \u001b[0;32mimport\u001b[0m \u001b[0mcallbacks\u001b[0m\u001b[0;34m\u001b[0m\u001b[0;34m\u001b[0m\u001b[0m\n\u001b[1;32m     23\u001b[0m \u001b[0;32mfrom\u001b[0m \u001b[0mtensorflow_addons\u001b[0m \u001b[0;32mimport\u001b[0m \u001b[0mimage\u001b[0m\u001b[0;34m\u001b[0m\u001b[0;34m\u001b[0m\u001b[0m\n",
      "\u001b[0;32m/opt/anaconda3/lib/python3.7/site-packages/tensorflow_addons/activations/__init__.py\u001b[0m in \u001b[0;36m<module>\u001b[0;34m\u001b[0m\n\u001b[1;32m     15\u001b[0m \u001b[0;34m\"\"\"Additional activation functions.\"\"\"\u001b[0m\u001b[0;34m\u001b[0m\u001b[0;34m\u001b[0m\u001b[0m\n\u001b[1;32m     16\u001b[0m \u001b[0;34m\u001b[0m\u001b[0m\n\u001b[0;32m---> 17\u001b[0;31m \u001b[0;32mfrom\u001b[0m \u001b[0mtensorflow_addons\u001b[0m\u001b[0;34m.\u001b[0m\u001b[0mactivations\u001b[0m\u001b[0;34m.\u001b[0m\u001b[0mgelu\u001b[0m \u001b[0;32mimport\u001b[0m \u001b[0mgelu\u001b[0m\u001b[0;34m\u001b[0m\u001b[0;34m\u001b[0m\u001b[0m\n\u001b[0m\u001b[1;32m     18\u001b[0m \u001b[0;32mfrom\u001b[0m \u001b[0mtensorflow_addons\u001b[0m\u001b[0;34m.\u001b[0m\u001b[0mactivations\u001b[0m\u001b[0;34m.\u001b[0m\u001b[0mhardshrink\u001b[0m \u001b[0;32mimport\u001b[0m \u001b[0mhardshrink\u001b[0m\u001b[0;34m\u001b[0m\u001b[0;34m\u001b[0m\u001b[0m\n\u001b[1;32m     19\u001b[0m \u001b[0;32mfrom\u001b[0m \u001b[0mtensorflow_addons\u001b[0m\u001b[0;34m.\u001b[0m\u001b[0mactivations\u001b[0m\u001b[0;34m.\u001b[0m\u001b[0mlisht\u001b[0m \u001b[0;32mimport\u001b[0m \u001b[0mlisht\u001b[0m\u001b[0;34m\u001b[0m\u001b[0;34m\u001b[0m\u001b[0m\n",
      "\u001b[0;32m/opt/anaconda3/lib/python3.7/site-packages/tensorflow_addons/activations/gelu.py\u001b[0m in \u001b[0;36m<module>\u001b[0;34m\u001b[0m\n\u001b[1;32m     18\u001b[0m \u001b[0;32mimport\u001b[0m \u001b[0mwarnings\u001b[0m\u001b[0;34m\u001b[0m\u001b[0;34m\u001b[0m\u001b[0m\n\u001b[1;32m     19\u001b[0m \u001b[0;34m\u001b[0m\u001b[0m\n\u001b[0;32m---> 20\u001b[0;31m \u001b[0;32mfrom\u001b[0m \u001b[0mtensorflow_addons\u001b[0m\u001b[0;34m.\u001b[0m\u001b[0mutils\u001b[0m \u001b[0;32mimport\u001b[0m \u001b[0mtypes\u001b[0m\u001b[0;34m\u001b[0m\u001b[0;34m\u001b[0m\u001b[0m\n\u001b[0m\u001b[1;32m     21\u001b[0m \u001b[0;32mfrom\u001b[0m \u001b[0mdistutils\u001b[0m\u001b[0;34m.\u001b[0m\u001b[0mversion\u001b[0m \u001b[0;32mimport\u001b[0m \u001b[0mLooseVersion\u001b[0m\u001b[0;34m\u001b[0m\u001b[0;34m\u001b[0m\u001b[0m\n\u001b[1;32m     22\u001b[0m \u001b[0;34m\u001b[0m\u001b[0m\n",
      "\u001b[0;32m/opt/anaconda3/lib/python3.7/site-packages/tensorflow_addons/utils/types.py\u001b[0m in \u001b[0;36m<module>\u001b[0;34m\u001b[0m\n\u001b[1;32m     21\u001b[0m \u001b[0;34m\u001b[0m\u001b[0m\n\u001b[1;32m     22\u001b[0m \u001b[0;31m# TODO: Remove once https://github.com/tensorflow/tensorflow/issues/44613 is resolved\u001b[0m\u001b[0;34m\u001b[0m\u001b[0;34m\u001b[0m\u001b[0;34m\u001b[0m\u001b[0m\n\u001b[0;32m---> 23\u001b[0;31m \u001b[0;32mfrom\u001b[0m \u001b[0mtensorflow\u001b[0m\u001b[0;34m.\u001b[0m\u001b[0mpython\u001b[0m\u001b[0;34m.\u001b[0m\u001b[0mkeras\u001b[0m\u001b[0;34m.\u001b[0m\u001b[0mengine\u001b[0m \u001b[0;32mimport\u001b[0m \u001b[0mkeras_tensor\u001b[0m\u001b[0;34m\u001b[0m\u001b[0;34m\u001b[0m\u001b[0m\n\u001b[0m\u001b[1;32m     24\u001b[0m \u001b[0;34m\u001b[0m\u001b[0m\n\u001b[1;32m     25\u001b[0m \u001b[0;34m\u001b[0m\u001b[0m\n",
      "\u001b[0;31mImportError\u001b[0m: cannot import name 'keras_tensor' from 'tensorflow.python.keras.engine' (/opt/anaconda3/lib/python3.7/site-packages/tensorflow/python/keras/engine/__init__.py)"
     ]
=======
  "cells": [
    {
      "cell_type": "markdown",
      "metadata": {
        "id": "AYtzqiFVEDWw"
      },
      "source": [
        "#Imports"
      ]
    },
    {
      "cell_type": "code",
      "metadata": {
        "id": "mSZW86_D08Pw"
      },
      "source": [
        "# add path\r\n",
        "import sys\r\n",
        "sys.path.append('../Deliverable_2/')\r\n",
        "\r\n",
        "import pandas as pd \r\n",
        "import numpy as np\r\n",
        "from numpy.random import randint\r\n",
        "import seaborn as sns\r\n",
        "from collections import Counter, OrderedDict\r\n",
        "import cld2\r\n",
        "\r\n",
        "# import utils functions and classes\r\n",
        "from DataLoader import TADataLoader\r\n",
        "from TextPreprocessing import TextPreprocessor\r\n",
        "from LemmatizeCorpus import LemmatizeCorpus\r\n",
        "from stem_corpus import stem_corpus\r\n",
        "from Embeddor import Embeddor\r\n",
        "from sklearn.feature_extraction.text import TfidfVectorizer\r\n",
        "from sklearn.decomposition import TruncatedSVD\r\n",
        "from sklearn.linear_model import LogisticRegression\r\n",
        "from sklearn.model_selection import train_test_split\r\n",
        "from sklearn.metrics import classification_report\r\n",
        "from sklearn.metrics import confusion_matrix\r\n",
        "from sklearn.model_selection import cross_val_score\r\n",
        "from sklearn.ensemble import RandomForestClassifier\r\n",
        "from ast import literal_eval\r\n",
        "\r\n",
        "import gensim.downloader as api\r\n",
        "\r\n",
        "import nltk\r\n",
        "nltk.download('punkt')\r\n",
        "nltk.download('stopwords')\r\n",
        "\r\n",
        "\r\n",
        "import matplotlib.pyplot as plt\r\n",
        "%matplotlib inline\r\n",
        "plt.rcParams[\"figure.figsize\"] = (10, 6)\r\n",
        "sns.set_palette(\"husl\")"
      ],
      "execution_count": null,
      "outputs": []
    },
    {
      "cell_type": "markdown",
      "metadata": {
        "id": "vvYZ5F-cM6Ho"
      },
      "source": [
        "#Loading the data"
      ]
    },
    {
      "cell_type": "code",
      "metadata": {
        "id": "TTrQtpHx1Kvu"
      },
      "source": [
        "loader = TADataLoader()\r\n",
        "df_restos, df_reviews = loader.load_restos(drop_duplicates=True),\\\r\n",
        "                        loader.load_reviews(drop_duplicates=True)\r\n",
        "df_reviews = df_reviews.iloc[:5000]\r\n",
        "preprocessor = TextPreprocessor(df_reviews, column_to_clean='review_content')\r\n",
        "preprocessor.transform(n_grams=False)\r\n",
        "corpus = preprocessor.corpus"
      ],
      "execution_count": null,
      "outputs": []
    },
    {
      "cell_type": "markdown",
      "metadata": {
        "id": "MB2PToUU1qSM"
      },
      "source": [
        "#LSI"
      ]
    },
    {
      "cell_type": "markdown",
      "metadata": {
        "id": "N6c8GEQQ3_71"
      },
      "source": [
        "We first perform LSI with respect to the reviews on the the two first dimensions"
      ]
    },
    {
      "cell_type": "code",
      "metadata": {
        "colab": {
          "base_uri": "https://localhost:8080/",
          "height": 201
        },
        "id": "yv38a53r1r0w",
        "outputId": "769db82e-5891-43a1-d659-703addbcadbc"
      },
      "source": [
<<<<<<< HEAD
        "embeddor = Embeddor(corpus=corpus) #use our custom class to compute the embedding\r\n",
        "embeddor.transform(vec_method=\"tfidf\", how=\"SVD\", n=2)\r\n",
        "lsi = embeddor.review_embedding\r\n",
        "lsi['corpus'] = corpus  #add columns to link the embedding to the review\r\n",
        "lsi['rating'] = df_reviews['review_rating']\r\n",
=======
        "embeddor = Embeddor(corpus=corpus) # use our custom class to compute the embedding\n",
        "embeddor.transform(vec_method=\"tfidf\", how=\"SVD\", n=2)\n",
        "lsi = embeddor.review_embedding\n",
        "lsi['corpus'] = corpus  #add columns to link the embedding to the review\n",
        "lsi['rating'] = df_reviews['review_rating']\n",
>>>>>>> 688ba31e2918e53c916692cdf85c32a65feeaed9
        "lsi.head()"
      ],
      "execution_count": 7,
      "outputs": [
        {
          "output_type": "execute_result",
          "data": {
            "text/html": [
              "<div>\n",
              "<style scoped>\n",
              "    .dataframe tbody tr th:only-of-type {\n",
              "        vertical-align: middle;\n",
              "    }\n",
              "\n",
              "    .dataframe tbody tr th {\n",
              "        vertical-align: top;\n",
              "    }\n",
              "\n",
              "    .dataframe thead th {\n",
              "        text-align: right;\n",
              "    }\n",
              "</style>\n",
              "<table border=\"1\" class=\"dataframe\">\n",
              "  <thead>\n",
              "    <tr style=\"text-align: right;\">\n",
              "      <th></th>\n",
              "      <th>SV1</th>\n",
              "      <th>SV2</th>\n",
              "      <th>corpus</th>\n",
              "      <th>rating</th>\n",
              "    </tr>\n",
              "  </thead>\n",
              "  <tbody>\n",
              "    <tr>\n",
              "      <th>0</th>\n",
              "      <td>0.037762</td>\n",
              "      <td>-0.037917</td>\n",
              "      <td>[booked, mezzet, dar, realising, two, differen...</td>\n",
              "      <td>5</td>\n",
              "    </tr>\n",
              "    <tr>\n",
              "      <th>1</th>\n",
              "      <td>0.155685</td>\n",
              "      <td>-0.059758</td>\n",
              "      <td>[awesome, thai, worked, hard, lockdown, delive...</td>\n",
              "      <td>5</td>\n",
              "    </tr>\n",
              "    <tr>\n",
              "      <th>2</th>\n",
              "      <td>0.089527</td>\n",
              "      <td>-0.013222</td>\n",
              "      <td>[staff, kind, charming, food, always, delivers...</td>\n",
              "      <td>4</td>\n",
              "    </tr>\n",
              "    <tr>\n",
              "      <th>3</th>\n",
              "      <td>0.243794</td>\n",
              "      <td>0.145978</td>\n",
              "      <td>[awesome, experience, amazing, food, high, qua...</td>\n",
              "      <td>5</td>\n",
              "    </tr>\n",
              "    <tr>\n",
              "      <th>4</th>\n",
              "      <td>0.198566</td>\n",
              "      <td>-0.180747</td>\n",
              "      <td>[every, time, visit, restaurant, never, disapp...</td>\n",
              "      <td>5</td>\n",
              "    </tr>\n",
              "  </tbody>\n",
              "</table>\n",
              "</div>"
            ],
            "text/plain": [
              "        SV1  ...  rating\n",
              "0  0.037762  ...       5\n",
              "1  0.155685  ...       5\n",
              "2  0.089527  ...       4\n",
              "3  0.243794  ...       5\n",
              "4  0.198566  ...       5\n",
              "\n",
              "[5 rows x 4 columns]"
            ]
          },
          "metadata": {
            "tags": []
          },
          "execution_count": 7
        }
      ]
    },
    {
      "cell_type": "markdown",
      "metadata": {
        "id": "gs15-4xB43MH"
      },
      "source": [
        "Now, we compute LSI with as many dimensions as needed to explain a given percentage of the variance. "
      ]
    },
    {
      "cell_type": "code",
      "metadata": {
        "colab": {
          "base_uri": "https://localhost:8080/",
          "height": 646
        },
        "id": "a9mzD4M94qqj",
        "outputId": "4dc2882c-ecdd-454e-cee4-bc87bbd4e43f"
      },
      "source": [
        "embeddor = Embeddor(corpus=corpus)\r\n",
        "embeddor.transform(vec_method=\"tfidf\", how=\"SVD\", n=\"n_opt\", threshold=0.5)\r\n",
        "lsi = embeddor.review_embedding\r\n",
        "lsi['corpus'] = corpus\r\n",
        "lsi['rating'] = df_reviews['review_rating']\r\n",
        "lsi.head()"
      ],
      "execution_count": 8,
      "outputs": [
        {
          "output_type": "stream",
          "text": [
            "The optimal number of components is:  330\n"
          ],
          "name": "stdout"
        },
        {
          "output_type": "execute_result",
          "data": {
            "text/html": [
              "<div>\n",
              "<style scoped>\n",
              "    .dataframe tbody tr th:only-of-type {\n",
              "        vertical-align: middle;\n",
              "    }\n",
              "\n",
              "    .dataframe tbody tr th {\n",
              "        vertical-align: top;\n",
              "    }\n",
              "\n",
              "    .dataframe thead th {\n",
              "        text-align: right;\n",
              "    }\n",
              "</style>\n",
              "<table border=\"1\" class=\"dataframe\">\n",
              "  <thead>\n",
              "    <tr style=\"text-align: right;\">\n",
              "      <th></th>\n",
              "      <th>SV1</th>\n",
              "      <th>SV2</th>\n",
              "      <th>SV3</th>\n",
              "      <th>SV4</th>\n",
              "      <th>SV5</th>\n",
              "      <th>SV6</th>\n",
              "      <th>SV7</th>\n",
              "      <th>SV8</th>\n",
              "      <th>SV9</th>\n",
              "      <th>SV10</th>\n",
              "      <th>SV11</th>\n",
              "      <th>SV12</th>\n",
              "      <th>SV13</th>\n",
              "      <th>SV14</th>\n",
              "      <th>SV15</th>\n",
              "      <th>SV16</th>\n",
              "      <th>SV17</th>\n",
              "      <th>SV18</th>\n",
              "      <th>SV19</th>\n",
              "      <th>SV20</th>\n",
              "      <th>SV21</th>\n",
              "      <th>SV22</th>\n",
              "      <th>SV23</th>\n",
              "      <th>SV24</th>\n",
              "      <th>SV25</th>\n",
              "      <th>SV26</th>\n",
              "      <th>SV27</th>\n",
              "      <th>SV28</th>\n",
              "      <th>SV29</th>\n",
              "      <th>SV30</th>\n",
              "      <th>SV31</th>\n",
              "      <th>SV32</th>\n",
              "      <th>SV33</th>\n",
              "      <th>SV34</th>\n",
              "      <th>SV35</th>\n",
              "      <th>SV36</th>\n",
              "      <th>SV37</th>\n",
              "      <th>SV38</th>\n",
              "      <th>SV39</th>\n",
              "      <th>SV40</th>\n",
              "      <th>...</th>\n",
              "      <th>SV293</th>\n",
              "      <th>SV294</th>\n",
              "      <th>SV295</th>\n",
              "      <th>SV296</th>\n",
              "      <th>SV297</th>\n",
              "      <th>SV298</th>\n",
              "      <th>SV299</th>\n",
              "      <th>SV300</th>\n",
              "      <th>SV301</th>\n",
              "      <th>SV302</th>\n",
              "      <th>SV303</th>\n",
              "      <th>SV304</th>\n",
              "      <th>SV305</th>\n",
              "      <th>SV306</th>\n",
              "      <th>SV307</th>\n",
              "      <th>SV308</th>\n",
              "      <th>SV309</th>\n",
              "      <th>SV310</th>\n",
              "      <th>SV311</th>\n",
              "      <th>SV312</th>\n",
              "      <th>SV313</th>\n",
              "      <th>SV314</th>\n",
              "      <th>SV315</th>\n",
              "      <th>SV316</th>\n",
              "      <th>SV317</th>\n",
              "      <th>SV318</th>\n",
              "      <th>SV319</th>\n",
              "      <th>SV320</th>\n",
              "      <th>SV321</th>\n",
              "      <th>SV322</th>\n",
              "      <th>SV323</th>\n",
              "      <th>SV324</th>\n",
              "      <th>SV325</th>\n",
              "      <th>SV326</th>\n",
              "      <th>SV327</th>\n",
              "      <th>SV328</th>\n",
              "      <th>SV329</th>\n",
              "      <th>SV330</th>\n",
              "      <th>corpus</th>\n",
              "      <th>rating</th>\n",
              "    </tr>\n",
              "  </thead>\n",
              "  <tbody>\n",
              "    <tr>\n",
              "      <th>0</th>\n",
              "      <td>0.037762</td>\n",
              "      <td>-0.038408</td>\n",
              "      <td>-0.028882</td>\n",
              "      <td>-0.020539</td>\n",
              "      <td>0.033934</td>\n",
              "      <td>-0.029760</td>\n",
              "      <td>-0.028694</td>\n",
              "      <td>-0.011272</td>\n",
              "      <td>-0.007794</td>\n",
              "      <td>0.010161</td>\n",
              "      <td>-0.005978</td>\n",
              "      <td>0.016180</td>\n",
              "      <td>-0.014406</td>\n",
              "      <td>-0.046544</td>\n",
              "      <td>-0.023650</td>\n",
              "      <td>-0.032633</td>\n",
              "      <td>-0.047316</td>\n",
              "      <td>0.015539</td>\n",
              "      <td>0.025152</td>\n",
              "      <td>0.016066</td>\n",
              "      <td>0.033415</td>\n",
              "      <td>-0.044492</td>\n",
              "      <td>-0.052216</td>\n",
              "      <td>-0.052751</td>\n",
              "      <td>0.037426</td>\n",
              "      <td>-0.058028</td>\n",
              "      <td>-0.047801</td>\n",
              "      <td>-0.045284</td>\n",
              "      <td>-0.003779</td>\n",
              "      <td>-0.021668</td>\n",
              "      <td>-0.052443</td>\n",
              "      <td>-0.043003</td>\n",
              "      <td>-0.033823</td>\n",
              "      <td>0.020609</td>\n",
              "      <td>0.020277</td>\n",
              "      <td>0.027131</td>\n",
              "      <td>-0.012568</td>\n",
              "      <td>-0.000928</td>\n",
              "      <td>-0.050232</td>\n",
              "      <td>0.010634</td>\n",
              "      <td>...</td>\n",
              "      <td>0.024464</td>\n",
              "      <td>-0.001610</td>\n",
              "      <td>0.007158</td>\n",
              "      <td>0.002967</td>\n",
              "      <td>-0.016557</td>\n",
              "      <td>0.009704</td>\n",
              "      <td>-0.001562</td>\n",
              "      <td>-0.029040</td>\n",
              "      <td>0.008705</td>\n",
              "      <td>0.038508</td>\n",
              "      <td>-0.004568</td>\n",
              "      <td>0.011463</td>\n",
              "      <td>-0.022580</td>\n",
              "      <td>-0.013659</td>\n",
              "      <td>-0.013574</td>\n",
              "      <td>-0.003516</td>\n",
              "      <td>0.001548</td>\n",
              "      <td>-0.015977</td>\n",
              "      <td>0.012343</td>\n",
              "      <td>-0.032747</td>\n",
              "      <td>0.011069</td>\n",
              "      <td>0.018893</td>\n",
              "      <td>-0.020130</td>\n",
              "      <td>0.019079</td>\n",
              "      <td>0.001922</td>\n",
              "      <td>-0.014054</td>\n",
              "      <td>-0.011970</td>\n",
              "      <td>0.018160</td>\n",
              "      <td>0.017696</td>\n",
              "      <td>-0.000535</td>\n",
              "      <td>-0.011909</td>\n",
              "      <td>-0.002872</td>\n",
              "      <td>-0.012948</td>\n",
              "      <td>-0.010829</td>\n",
              "      <td>-0.017035</td>\n",
              "      <td>0.014880</td>\n",
              "      <td>-0.001286</td>\n",
              "      <td>0.003361</td>\n",
              "      <td>[booked, mezzet, dar, realising, two, differen...</td>\n",
              "      <td>5</td>\n",
              "    </tr>\n",
              "    <tr>\n",
              "      <th>1</th>\n",
              "      <td>0.155684</td>\n",
              "      <td>-0.060575</td>\n",
              "      <td>-0.002849</td>\n",
              "      <td>0.050418</td>\n",
              "      <td>0.061794</td>\n",
              "      <td>-0.022166</td>\n",
              "      <td>-0.028148</td>\n",
              "      <td>-0.063385</td>\n",
              "      <td>0.015957</td>\n",
              "      <td>0.018197</td>\n",
              "      <td>0.007239</td>\n",
              "      <td>-0.030288</td>\n",
              "      <td>-0.033092</td>\n",
              "      <td>0.042879</td>\n",
              "      <td>-0.075170</td>\n",
              "      <td>0.001385</td>\n",
              "      <td>0.047375</td>\n",
              "      <td>0.045367</td>\n",
              "      <td>-0.005229</td>\n",
              "      <td>-0.038564</td>\n",
              "      <td>-0.013721</td>\n",
              "      <td>-0.038513</td>\n",
              "      <td>-0.022007</td>\n",
              "      <td>0.035500</td>\n",
              "      <td>-0.011571</td>\n",
              "      <td>-0.029905</td>\n",
              "      <td>0.016787</td>\n",
              "      <td>-0.014547</td>\n",
              "      <td>0.003325</td>\n",
              "      <td>-0.033374</td>\n",
              "      <td>0.004122</td>\n",
              "      <td>0.018341</td>\n",
              "      <td>-0.027323</td>\n",
              "      <td>-0.012886</td>\n",
              "      <td>-0.021043</td>\n",
              "      <td>-0.015487</td>\n",
              "      <td>0.039677</td>\n",
              "      <td>-0.028077</td>\n",
              "      <td>-0.000742</td>\n",
              "      <td>-0.023304</td>\n",
              "      <td>...</td>\n",
              "      <td>-0.028127</td>\n",
              "      <td>0.056788</td>\n",
              "      <td>-0.048714</td>\n",
              "      <td>0.003549</td>\n",
              "      <td>-0.024355</td>\n",
              "      <td>-0.041733</td>\n",
              "      <td>0.003436</td>\n",
              "      <td>-0.063753</td>\n",
              "      <td>0.007164</td>\n",
              "      <td>-0.036110</td>\n",
              "      <td>-0.028534</td>\n",
              "      <td>-0.022692</td>\n",
              "      <td>-0.044670</td>\n",
              "      <td>0.020765</td>\n",
              "      <td>0.060148</td>\n",
              "      <td>-0.017396</td>\n",
              "      <td>-0.001520</td>\n",
              "      <td>-0.010122</td>\n",
              "      <td>0.022976</td>\n",
              "      <td>-0.047333</td>\n",
              "      <td>-0.026815</td>\n",
              "      <td>0.042008</td>\n",
              "      <td>-0.013321</td>\n",
              "      <td>-0.015582</td>\n",
              "      <td>-0.027802</td>\n",
              "      <td>-0.014785</td>\n",
              "      <td>0.035360</td>\n",
              "      <td>0.060499</td>\n",
              "      <td>-0.053473</td>\n",
              "      <td>0.005128</td>\n",
              "      <td>-0.002910</td>\n",
              "      <td>0.022806</td>\n",
              "      <td>-0.031848</td>\n",
              "      <td>-0.040784</td>\n",
              "      <td>-0.002871</td>\n",
              "      <td>0.032992</td>\n",
              "      <td>-0.016202</td>\n",
              "      <td>-0.013665</td>\n",
              "      <td>[awesome, thai, worked, hard, lockdown, delive...</td>\n",
              "      <td>5</td>\n",
              "    </tr>\n",
              "    <tr>\n",
              "      <th>2</th>\n",
              "      <td>0.089527</td>\n",
              "      <td>-0.013455</td>\n",
              "      <td>-0.013768</td>\n",
              "      <td>0.013359</td>\n",
              "      <td>-0.036510</td>\n",
              "      <td>0.006571</td>\n",
              "      <td>0.029307</td>\n",
              "      <td>-0.021307</td>\n",
              "      <td>-0.017234</td>\n",
              "      <td>-0.009693</td>\n",
              "      <td>-0.021004</td>\n",
              "      <td>-0.002503</td>\n",
              "      <td>-0.013464</td>\n",
              "      <td>-0.025041</td>\n",
              "      <td>-0.006812</td>\n",
              "      <td>-0.006214</td>\n",
              "      <td>-0.004510</td>\n",
              "      <td>-0.017730</td>\n",
              "      <td>-0.009796</td>\n",
              "      <td>-0.064176</td>\n",
              "      <td>0.023817</td>\n",
              "      <td>0.013942</td>\n",
              "      <td>-0.022581</td>\n",
              "      <td>-0.000413</td>\n",
              "      <td>0.012949</td>\n",
              "      <td>0.025067</td>\n",
              "      <td>0.024039</td>\n",
              "      <td>-0.009801</td>\n",
              "      <td>0.002695</td>\n",
              "      <td>0.000794</td>\n",
              "      <td>0.039977</td>\n",
              "      <td>0.006923</td>\n",
              "      <td>0.007844</td>\n",
              "      <td>-0.009766</td>\n",
              "      <td>0.001641</td>\n",
              "      <td>-0.014678</td>\n",
              "      <td>0.030447</td>\n",
              "      <td>0.014619</td>\n",
              "      <td>-0.038559</td>\n",
              "      <td>0.002990</td>\n",
              "      <td>...</td>\n",
              "      <td>-0.024843</td>\n",
              "      <td>0.013714</td>\n",
              "      <td>-0.012916</td>\n",
              "      <td>-0.000839</td>\n",
              "      <td>-0.086229</td>\n",
              "      <td>-0.030691</td>\n",
              "      <td>0.027212</td>\n",
              "      <td>0.005292</td>\n",
              "      <td>-0.005693</td>\n",
              "      <td>0.031807</td>\n",
              "      <td>-0.012038</td>\n",
              "      <td>-0.003670</td>\n",
              "      <td>0.004807</td>\n",
              "      <td>-0.015726</td>\n",
              "      <td>-0.036436</td>\n",
              "      <td>0.026672</td>\n",
              "      <td>0.004435</td>\n",
              "      <td>0.019301</td>\n",
              "      <td>-0.014724</td>\n",
              "      <td>0.010283</td>\n",
              "      <td>-0.012089</td>\n",
              "      <td>0.019236</td>\n",
              "      <td>0.031586</td>\n",
              "      <td>-0.001213</td>\n",
              "      <td>-0.014533</td>\n",
              "      <td>-0.018731</td>\n",
              "      <td>0.058607</td>\n",
              "      <td>0.016413</td>\n",
              "      <td>-0.041431</td>\n",
              "      <td>-0.003779</td>\n",
              "      <td>-0.009314</td>\n",
              "      <td>0.002273</td>\n",
              "      <td>0.030967</td>\n",
              "      <td>-0.032896</td>\n",
              "      <td>0.049972</td>\n",
              "      <td>-0.019946</td>\n",
              "      <td>-0.065791</td>\n",
              "      <td>-0.007602</td>\n",
              "      <td>[staff, kind, charming, food, always, delivers...</td>\n",
              "      <td>4</td>\n",
              "    </tr>\n",
              "    <tr>\n",
              "      <th>3</th>\n",
              "      <td>0.243794</td>\n",
              "      <td>0.146270</td>\n",
              "      <td>0.081960</td>\n",
              "      <td>-0.022791</td>\n",
              "      <td>0.171778</td>\n",
              "      <td>0.027331</td>\n",
              "      <td>0.121618</td>\n",
              "      <td>0.087024</td>\n",
              "      <td>-0.130207</td>\n",
              "      <td>-0.049663</td>\n",
              "      <td>0.007700</td>\n",
              "      <td>0.055521</td>\n",
              "      <td>0.043705</td>\n",
              "      <td>-0.036671</td>\n",
              "      <td>-0.073935</td>\n",
              "      <td>-0.059967</td>\n",
              "      <td>0.043851</td>\n",
              "      <td>-0.047116</td>\n",
              "      <td>0.037221</td>\n",
              "      <td>-0.038215</td>\n",
              "      <td>0.117468</td>\n",
              "      <td>0.062877</td>\n",
              "      <td>-0.020898</td>\n",
              "      <td>-0.032343</td>\n",
              "      <td>0.039242</td>\n",
              "      <td>-0.011851</td>\n",
              "      <td>0.098880</td>\n",
              "      <td>-0.065058</td>\n",
              "      <td>-0.097791</td>\n",
              "      <td>0.066573</td>\n",
              "      <td>0.109163</td>\n",
              "      <td>0.106840</td>\n",
              "      <td>0.076131</td>\n",
              "      <td>0.072645</td>\n",
              "      <td>0.019634</td>\n",
              "      <td>0.089881</td>\n",
              "      <td>0.198103</td>\n",
              "      <td>-0.139702</td>\n",
              "      <td>-0.043349</td>\n",
              "      <td>0.024898</td>\n",
              "      <td>...</td>\n",
              "      <td>0.013401</td>\n",
              "      <td>0.043491</td>\n",
              "      <td>0.019587</td>\n",
              "      <td>0.008938</td>\n",
              "      <td>-0.027699</td>\n",
              "      <td>-0.032372</td>\n",
              "      <td>-0.001170</td>\n",
              "      <td>-0.014369</td>\n",
              "      <td>-0.033785</td>\n",
              "      <td>0.007431</td>\n",
              "      <td>0.001869</td>\n",
              "      <td>-0.012255</td>\n",
              "      <td>-0.031784</td>\n",
              "      <td>-0.023066</td>\n",
              "      <td>0.043376</td>\n",
              "      <td>-0.050479</td>\n",
              "      <td>0.016575</td>\n",
              "      <td>-0.021188</td>\n",
              "      <td>-0.026999</td>\n",
              "      <td>-0.054494</td>\n",
              "      <td>0.003343</td>\n",
              "      <td>0.052208</td>\n",
              "      <td>-0.028511</td>\n",
              "      <td>-0.016131</td>\n",
              "      <td>0.009417</td>\n",
              "      <td>0.010119</td>\n",
              "      <td>-0.011403</td>\n",
              "      <td>0.038169</td>\n",
              "      <td>-0.015596</td>\n",
              "      <td>-0.004949</td>\n",
              "      <td>-0.022362</td>\n",
              "      <td>-0.013706</td>\n",
              "      <td>-0.005497</td>\n",
              "      <td>-0.063568</td>\n",
              "      <td>0.022257</td>\n",
              "      <td>0.029281</td>\n",
              "      <td>-0.003057</td>\n",
              "      <td>0.008546</td>\n",
              "      <td>[awesome, experience, amazing, food, high, qua...</td>\n",
              "      <td>5</td>\n",
              "    </tr>\n",
              "    <tr>\n",
              "      <th>4</th>\n",
              "      <td>0.198566</td>\n",
              "      <td>-0.175192</td>\n",
              "      <td>-0.104202</td>\n",
              "      <td>-0.126077</td>\n",
              "      <td>0.101698</td>\n",
              "      <td>0.006644</td>\n",
              "      <td>-0.136440</td>\n",
              "      <td>-0.154993</td>\n",
              "      <td>-0.118143</td>\n",
              "      <td>-0.084542</td>\n",
              "      <td>0.098235</td>\n",
              "      <td>0.277970</td>\n",
              "      <td>0.090921</td>\n",
              "      <td>-0.062838</td>\n",
              "      <td>-0.006737</td>\n",
              "      <td>0.278021</td>\n",
              "      <td>0.197363</td>\n",
              "      <td>0.022628</td>\n",
              "      <td>-0.271429</td>\n",
              "      <td>0.169157</td>\n",
              "      <td>0.084562</td>\n",
              "      <td>-0.064223</td>\n",
              "      <td>-0.008497</td>\n",
              "      <td>-0.024924</td>\n",
              "      <td>-0.022356</td>\n",
              "      <td>0.027171</td>\n",
              "      <td>-0.054895</td>\n",
              "      <td>0.133492</td>\n",
              "      <td>-0.092968</td>\n",
              "      <td>-0.168294</td>\n",
              "      <td>-0.145605</td>\n",
              "      <td>-0.067719</td>\n",
              "      <td>0.065444</td>\n",
              "      <td>-0.078481</td>\n",
              "      <td>-0.024526</td>\n",
              "      <td>-0.016024</td>\n",
              "      <td>0.043360</td>\n",
              "      <td>0.054878</td>\n",
              "      <td>0.003759</td>\n",
              "      <td>0.082107</td>\n",
              "      <td>...</td>\n",
              "      <td>-0.004585</td>\n",
              "      <td>-0.003817</td>\n",
              "      <td>0.017685</td>\n",
              "      <td>0.001533</td>\n",
              "      <td>0.017669</td>\n",
              "      <td>0.003412</td>\n",
              "      <td>0.004390</td>\n",
              "      <td>0.011098</td>\n",
              "      <td>0.016906</td>\n",
              "      <td>0.012349</td>\n",
              "      <td>-0.014239</td>\n",
              "      <td>-0.002515</td>\n",
              "      <td>-0.008713</td>\n",
              "      <td>-0.005920</td>\n",
              "      <td>0.006590</td>\n",
              "      <td>0.008336</td>\n",
              "      <td>0.010805</td>\n",
              "      <td>-0.020282</td>\n",
              "      <td>-0.003317</td>\n",
              "      <td>0.000911</td>\n",
              "      <td>-0.014970</td>\n",
              "      <td>-0.001302</td>\n",
              "      <td>0.009867</td>\n",
              "      <td>-0.022052</td>\n",
              "      <td>0.009602</td>\n",
              "      <td>-0.001995</td>\n",
              "      <td>0.014197</td>\n",
              "      <td>0.007065</td>\n",
              "      <td>-0.023564</td>\n",
              "      <td>-0.022877</td>\n",
              "      <td>0.009771</td>\n",
              "      <td>-0.000600</td>\n",
              "      <td>0.003093</td>\n",
              "      <td>0.009501</td>\n",
              "      <td>0.009834</td>\n",
              "      <td>0.010730</td>\n",
              "      <td>-0.005368</td>\n",
              "      <td>-0.002974</td>\n",
              "      <td>[every, time, visit, restaurant, never, disapp...</td>\n",
              "      <td>5</td>\n",
              "    </tr>\n",
              "  </tbody>\n",
              "</table>\n",
              "<p>5 rows × 332 columns</p>\n",
              "</div>"
            ],
            "text/plain": [
              "        SV1  ...  rating\n",
              "0  0.037762  ...       5\n",
              "1  0.155684  ...       5\n",
              "2  0.089527  ...       4\n",
              "3  0.243794  ...       5\n",
              "4  0.198566  ...       5\n",
              "\n",
              "[5 rows x 332 columns]"
            ]
          },
          "metadata": {
            "tags": []
          },
          "execution_count": 8
        }
      ]
    },
    {
      "cell_type": "markdown",
      "metadata": {
        "id": "rOZMWHDcZsUa"
      },
      "source": [
        "#Word2vec"
      ]
    },
    {
      "cell_type": "markdown",
      "metadata": {
        "id": "1MU6GH_LWZ8U"
      },
      "source": [
        "Now we will use the word2vec embedding"
      ]
    },
    {
      "cell_type": "code",
      "metadata": {
        "colab": {
          "base_uri": "https://localhost:8080/",
          "height": 255
        },
        "id": "75eHcKCZ_eqX",
        "outputId": "8c6892c6-f891-426b-f2a4-e31de862cbb1"
      },
      "source": [
        "embeddor = Embeddor(corpus=corpus)\r\n",
        "embeddor.transform(vec_method=\"word2vec\", how=\"PCA\", n=\"n_opt\", threshold=0.95)\r\n",
        "word2vec_embed = embeddor.review_embedding\r\n",
        "word2vec_model = embeddor.model\r\n",
        "word2vec_embed['corpus'] = corpus\r\n",
        "word2vec_embed['rating'] = df_reviews['review_rating']\r\n",
        "word2vec_embed.head()"
      ],
      "execution_count": 9,
      "outputs": [
        {
          "output_type": "stream",
          "text": [
            "/usr/local/lib/python3.6/dist-packages/ipykernel_launcher.py:52: DeprecationWarning: Call to deprecated `iter` (Attribute will be removed in 4.0.0, use self.epochs instead).\n"
          ],
          "name": "stderr"
        },
        {
          "output_type": "stream",
          "text": [
            "The optimal number of components is:  83\n"
          ],
          "name": "stdout"
        },
        {
          "output_type": "execute_result",
          "data": {
            "text/html": [
              "<div>\n",
              "<style scoped>\n",
              "    .dataframe tbody tr th:only-of-type {\n",
              "        vertical-align: middle;\n",
              "    }\n",
              "\n",
              "    .dataframe tbody tr th {\n",
              "        vertical-align: top;\n",
              "    }\n",
              "\n",
              "    .dataframe thead th {\n",
              "        text-align: right;\n",
              "    }\n",
              "</style>\n",
              "<table border=\"1\" class=\"dataframe\">\n",
              "  <thead>\n",
              "    <tr style=\"text-align: right;\">\n",
              "      <th></th>\n",
              "      <th>Dimension_1</th>\n",
              "      <th>Dimension_2</th>\n",
              "      <th>Dimension_3</th>\n",
              "      <th>corpus</th>\n",
              "      <th>rating</th>\n",
              "    </tr>\n",
              "  </thead>\n",
              "  <tbody>\n",
              "    <tr>\n",
              "      <th>0</th>\n",
              "      <td>17.415244</td>\n",
              "      <td>35.097396</td>\n",
              "      <td>-46.748853</td>\n",
              "      <td>[booked, mezzet, dar, realising, two, differen...</td>\n",
              "      <td>5</td>\n",
              "    </tr>\n",
              "    <tr>\n",
              "      <th>1</th>\n",
              "      <td>-68.603914</td>\n",
              "      <td>56.028632</td>\n",
              "      <td>-38.980321</td>\n",
              "      <td>[awesome, thai, worked, hard, lockdown, delive...</td>\n",
              "      <td>5</td>\n",
              "    </tr>\n",
              "    <tr>\n",
              "      <th>2</th>\n",
              "      <td>-32.693717</td>\n",
              "      <td>-17.474337</td>\n",
              "      <td>-3.570293</td>\n",
              "      <td>[staff, kind, charming, food, always, delivers...</td>\n",
              "      <td>4</td>\n",
              "    </tr>\n",
              "    <tr>\n",
              "      <th>3</th>\n",
              "      <td>-73.452944</td>\n",
              "      <td>9.237461</td>\n",
              "      <td>3.450444</td>\n",
              "      <td>[awesome, experience, amazing, food, high, qua...</td>\n",
              "      <td>5</td>\n",
              "    </tr>\n",
              "    <tr>\n",
              "      <th>4</th>\n",
              "      <td>3.222983</td>\n",
              "      <td>7.814377</td>\n",
              "      <td>-20.606307</td>\n",
              "      <td>[every, time, visit, restaurant, never, disapp...</td>\n",
              "      <td>5</td>\n",
              "    </tr>\n",
              "  </tbody>\n",
              "</table>\n",
              "</div>"
            ],
            "text/plain": [
              "   Dimension_1  ...  rating\n",
              "0    17.415244  ...       5\n",
              "1   -68.603914  ...       5\n",
              "2   -32.693717  ...       4\n",
              "3   -73.452944  ...       5\n",
              "4     3.222983  ...       5\n",
              "\n",
              "[5 rows x 5 columns]"
            ]
          },
          "metadata": {
            "tags": []
          },
          "execution_count": 9
        }
      ]
    },
    {
      "cell_type": "markdown",
      "metadata": {
        "id": "J2ZQSDrja9e0"
      },
      "source": [
        "Thanks to the word2vec embedding we can see the proximity between terms in our dataset:"
      ]
    },
    {
      "cell_type": "code",
      "metadata": {
        "colab": {
          "base_uri": "https://localhost:8080/"
        },
        "id": "eiWancMhaq1S",
        "outputId": "7c8a0fe0-3c83-48e9-ec98-dda854e44d98"
      },
      "source": [
        "word2vec_model.wv.most_similar(\"waiter\", topn=10)"
      ],
      "execution_count": 11,
      "outputs": [
        {
          "output_type": "execute_result",
          "data": {
            "text/plain": [
              "[('server', 0.6490719318389893),\n",
              " ('waitress', 0.6256171464920044),\n",
              " ('alicia', 0.5935419797897339),\n",
              " ('julia', 0.5749818086624146),\n",
              " ('mr', 0.5489826202392578),\n",
              " ('henry', 0.5375887155532837),\n",
              " ('khadga', 0.5284546613693237),\n",
              " ('lee', 0.5188814997673035),\n",
              " ('fadi', 0.5132661461830139),\n",
              " ('chris', 0.508328914642334)]"
            ]
          },
          "metadata": {
            "tags": []
          },
          "execution_count": 11
        }
      ]
    },
    {
      "cell_type": "markdown",
      "metadata": {
        "id": "kBr_LeCpdTDM"
      },
      "source": [
        "As we observe what appears to be waiters' names, the embedding is quite accurate"
      ]
    },
    {
      "cell_type": "markdown",
      "metadata": {
        "id": "sRDL435wbVA7"
      },
      "source": [
        "#Fasttext"
      ]
    },
    {
      "cell_type": "markdown",
      "metadata": {
        "id": "iglpZsXeWlMA"
      },
      "source": [
        "Thnaks to our class we can also use a fattext embedding"
      ]
    },
    {
      "cell_type": "code",
      "metadata": {
        "colab": {
          "base_uri": "https://localhost:8080/",
          "height": 255
        },
        "id": "MlNv2gUzbYy9",
        "outputId": "51efc5a1-df32-4051-f15a-e027542052e4"
      },
      "source": [
        "embeddor = Embeddor(corpus=corpus)\r\n",
        "embeddor.transform(vec_method=\"fasttext\", how=\"PCA\", n=\"n_opt\", threshold=0.95)\r\n",
        "fasttext_embed = embeddor.review_embedding\r\n",
        "fasttext_model = embeddor.model\r\n",
        "fasttext_embed['corpus'] = corpus\r\n",
        "fasttext_embed['rating'] = df_reviews['review_rating']\r\n",
        "fasttext_embed.head()"
      ],
      "execution_count": 14,
      "outputs": [
        {
          "output_type": "stream",
          "text": [
            "/usr/local/lib/python3.6/dist-packages/ipykernel_launcher.py:52: DeprecationWarning: Call to deprecated `iter` (Attribute will be removed in 4.0.0, use self.epochs instead).\n"
          ],
          "name": "stderr"
        },
        {
          "output_type": "stream",
          "text": [
            "The optimal number of components is:  178\n"
          ],
          "name": "stdout"
        },
        {
          "output_type": "execute_result",
          "data": {
            "text/html": [
              "<div>\n",
              "<style scoped>\n",
              "    .dataframe tbody tr th:only-of-type {\n",
              "        vertical-align: middle;\n",
              "    }\n",
              "\n",
              "    .dataframe tbody tr th {\n",
              "        vertical-align: top;\n",
              "    }\n",
              "\n",
              "    .dataframe thead th {\n",
              "        text-align: right;\n",
              "    }\n",
              "</style>\n",
              "<table border=\"1\" class=\"dataframe\">\n",
              "  <thead>\n",
              "    <tr style=\"text-align: right;\">\n",
              "      <th></th>\n",
              "      <th>Dimension_1</th>\n",
              "      <th>Dimension_2</th>\n",
              "      <th>Dimension_3</th>\n",
              "      <th>corpus</th>\n",
              "      <th>rating</th>\n",
              "    </tr>\n",
              "  </thead>\n",
              "  <tbody>\n",
              "    <tr>\n",
              "      <th>0</th>\n",
              "      <td>-9.861196</td>\n",
              "      <td>13.054209</td>\n",
              "      <td>-42.835430</td>\n",
              "      <td>[booked, mezzet, dar, realising, two, differen...</td>\n",
              "      <td>5</td>\n",
              "    </tr>\n",
              "    <tr>\n",
              "      <th>1</th>\n",
              "      <td>-119.038229</td>\n",
              "      <td>369.094909</td>\n",
              "      <td>-58.517902</td>\n",
              "      <td>[awesome, thai, worked, hard, lockdown, delive...</td>\n",
              "      <td>5</td>\n",
              "    </tr>\n",
              "    <tr>\n",
              "      <th>2</th>\n",
              "      <td>150.361603</td>\n",
              "      <td>194.245774</td>\n",
              "      <td>112.471135</td>\n",
              "      <td>[staff, kind, charming, food, always, delivers...</td>\n",
              "      <td>4</td>\n",
              "    </tr>\n",
              "    <tr>\n",
              "      <th>3</th>\n",
              "      <td>-54.423569</td>\n",
              "      <td>350.607337</td>\n",
              "      <td>-79.777400</td>\n",
              "      <td>[awesome, experience, amazing, food, high, qua...</td>\n",
              "      <td>5</td>\n",
              "    </tr>\n",
              "    <tr>\n",
              "      <th>4</th>\n",
              "      <td>-80.272048</td>\n",
              "      <td>91.919531</td>\n",
              "      <td>-93.213101</td>\n",
              "      <td>[every, time, visit, restaurant, never, disapp...</td>\n",
              "      <td>5</td>\n",
              "    </tr>\n",
              "  </tbody>\n",
              "</table>\n",
              "</div>"
            ],
            "text/plain": [
              "   Dimension_1  ...  rating\n",
              "0    -9.861196  ...       5\n",
              "1  -119.038229  ...       5\n",
              "2   150.361603  ...       4\n",
              "3   -54.423569  ...       5\n",
              "4   -80.272048  ...       5\n",
              "\n",
              "[5 rows x 5 columns]"
            ]
          },
          "metadata": {
            "tags": []
          },
          "execution_count": 14
        }
      ]
    },
    {
      "cell_type": "code",
      "metadata": {
        "colab": {
          "base_uri": "https://localhost:8080/"
        },
        "id": "Ps0SK-5FccY8",
        "outputId": "4bc7fd4a-f288-48e3-b44d-11c379671e67"
      },
      "source": [
        "fasttext_model.wv.most_similar(\"waiter\", topn=10)"
      ],
      "execution_count": 15,
      "outputs": [
        {
          "output_type": "execute_result",
          "data": {
            "text/plain": [
              "[('waiters', 0.6924027800559998),\n",
              " ('waited', 0.5627243518829346),\n",
              " ('julia', 0.4575795531272888),\n",
              " ('waitress', 0.44011127948760986),\n",
              " ('jonas', 0.4312416911125183),\n",
              " ('waitresses', 0.42081767320632935),\n",
              " ('mr', 0.4171202778816223),\n",
              " ('wait', 0.3908810317516327),\n",
              " ('clifton', 0.3861899971961975),\n",
              " ('manger', 0.37505319714546204)]"
            ]
          },
          "metadata": {
            "tags": []
          },
          "execution_count": 15
        }
      ]
    },
    {
      "cell_type": "markdown",
      "metadata": {
        "id": "Badyhee0WuR6"
      },
      "source": [
        "The most similar words appear to be slightly less accurate thant the ones produced by the word2vec method"
      ]
    },
    {
      "cell_type": "markdown",
      "metadata": {
        "id": "rYz6ZfgScvG1"
      },
      "source": [
        "#Data augmentation"
      ]
    },
    {
      "cell_type": "markdown",
      "metadata": {
        "id": "MSPTr3x_At3N"
      },
      "source": [
        "We observe that our dataset is not balanced which isn't a good point if we want to cluster the different topics or if we want to build a classification model."
      ]
    },
    {
      "cell_type": "code",
      "metadata": {
        "colab": {
          "base_uri": "https://localhost:8080/",
          "height": 404
        },
        "id": "JL4gX8G_YytN",
        "outputId": "9d30271f-aa1b-4f89-e196-aabdf829eb0f"
      },
      "source": [
        "sns.countplot(x='review_rating', data=df_reviews)\r\n",
        "plt.title('Number of reviews per rating')\r\n",
        "plt.xlabel('Rating')\r\n",
        "plt.ylabel(' ')\r\n",
        "plt.show()"
      ],
      "execution_count": 16,
      "outputs": [
        {
          "output_type": "display_data",
          "data": {
            "image/png": "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\n",
            "text/plain": [
              "<Figure size 720x432 with 1 Axes>"
            ]
          },
          "metadata": {
            "tags": [],
            "needs_background": "light"
          }
        }
      ]
    },
    {
      "cell_type": "markdown",
      "metadata": {
        "id": "d3OeCSCddSf3"
      },
      "source": [
        "To overcome the skewness of our dataset we perform data augmentation. In order to achieve this we create new reviews with similar terms (according to the general word2vec pretrained model). "
      ]
    },
    {
      "cell_type": "markdown",
      "metadata": {
        "id": "_U2Ht71uXQhU"
      },
      "source": [
        "At this point we can either load the augmented corpus that has been obtained or rerun the following steps."
      ]
    },
    {
      "cell_type": "code",
      "metadata": {
        "id": "3f-NVkP4Xut1"
      },
      "source": [
        "#load augmented corpus\r\n",
        "path = 'balanced_corpus.txt'\r\n",
        "with open(path, 'r') as f:\r\n",
        "  corpus_augmented = literal_eval(f.read())"
      ],
      "execution_count": 17,
      "outputs": []
    },
    {
      "cell_type": "markdown",
      "metadata": {
        "id": "jeeOuL1iZIHY"
      },
      "source": [
        "##Creating augmented corpus"
      ]
    },
    {
      "cell_type": "code",
      "metadata": {
        "id": "dFL6FqNnbn0Y",
        "colab": {
          "base_uri": "https://localhost:8080/"
        },
        "outputId": "5697d208-1bf3-4203-cee5-2a2ff567f6aa"
      },
      "source": [
        "#load pretrained model for augmentation\r\n",
        "wv = api.load('word2vec-google-news-300')\r\n"
      ],
      "execution_count": 39,
      "outputs": [
        {
          "output_type": "stream",
          "text": [
            "[==================================================] 100.0% 1662.8/1662.8MB downloaded\n"
          ],
          "name": "stdout"
        }
      ]
    },
    {
      "cell_type": "code",
      "metadata": {
        "id": "thfiPZ_qf5NL"
      },
      "source": [
        "#corpus per rating\r\n",
        "for i in range(1,6):\r\n",
        "    exec(f'r{i} = df_reviews[df_reviews.loc[:,\"review_rating\"]==i]')\r\n",
        "    exec(f\"preprocessor = TextPreprocessor(r{i}, column_to_clean='review_content')\")\r\n",
        "    preprocessor.transform(n_grams=False)\r\n",
        "    exec(f'corpus{i} = preprocessor.corpus')"
      ],
      "execution_count": 46,
      "outputs": []
    },
    {
      "cell_type": "code",
      "metadata": {
        "id": "dK_eH4UVqnY8"
      },
      "source": [
        "def similar(corp):\r\n",
        "    for i in range(len(corp)):\r\n",
        "        print(i)                                      \r\n",
        "        for j in range(len(corp[i])):\r\n",
        "            n = randint(2)\r\n",
        "            try:\r\n",
        "                corp[i][j] = wv.most_similar(corp[i][j], topn=3)[n][0]\r\n",
        "            except:\r\n",
        "                continue\r\n",
        "    return corp"
      ],
      "execution_count": 42,
      "outputs": []
    },
    {
      "cell_type": "code",
      "metadata": {
        "id": "ICGhPFGsjG8T"
      },
      "source": [
        "#we augment the number of reviews for ratings 1 and 2\r\n",
        "corpus1_augmented = corpus1.copy()\r\n",
        "corpus1_augmented = similar(corpus1_augmented)\r\n",
        "corpus2_augmented = corpus2.copy()\r\n",
        "corpus2_augmented = similar(corpus2_augmented)"
      ],
      "execution_count": null,
      "outputs": []
    },
    {
      "cell_type": "code",
      "metadata": {
        "id": "7SBl2BBLTf2I"
      },
      "source": [
        "#create a balanced datset\r\n",
        "corpus_augmented = corpus1 + corpus1_augmented[1:36] + corpus2\\\r\n",
        "                   + corpus2_augmented + corpus3[:110] + corpus4[:110]\\\r\n",
        "                   + corpus5[:110]"
      ],
      "execution_count": 49,
      "outputs": []
    },
    {
      "cell_type": "markdown",
      "metadata": {
        "id": "gdKkShHTZMxQ"
      },
      "source": [
        "##Augmented corpus results"
      ]
    },
    {
      "cell_type": "code",
      "metadata": {
        "colab": {
          "base_uri": "https://localhost:8080/",
          "height": 450
        },
        "id": "ApulvO0bLmLO",
        "outputId": "b6b00d05-fc4c-4ac1-835c-64556a708623"
      },
      "source": [
        "embeddor = Embeddor(corpus=corpus_augmented)\r\n",
        "embeddor.transform(vec_method=\"tfidf\", how=\"SVD\", n=\"n_opt\", threshold=0.5)\r\n",
        "lsi = embeddor.review_embedding\r\n",
        "lsi"
      ],
      "execution_count": 19,
      "outputs": [
        {
          "output_type": "stream",
          "text": [
            "The optimal number of components is:  145\n"
          ],
          "name": "stdout"
        },
        {
          "output_type": "execute_result",
          "data": {
            "text/html": [
              "<div>\n",
              "<style scoped>\n",
              "    .dataframe tbody tr th:only-of-type {\n",
              "        vertical-align: middle;\n",
              "    }\n",
              "\n",
              "    .dataframe tbody tr th {\n",
              "        vertical-align: top;\n",
              "    }\n",
              "\n",
              "    .dataframe thead th {\n",
              "        text-align: right;\n",
              "    }\n",
              "</style>\n",
              "<table border=\"1\" class=\"dataframe\">\n",
              "  <thead>\n",
              "    <tr style=\"text-align: right;\">\n",
              "      <th></th>\n",
              "      <th>SV1</th>\n",
              "      <th>SV2</th>\n",
              "      <th>SV3</th>\n",
              "      <th>SV4</th>\n",
              "      <th>SV5</th>\n",
              "      <th>SV6</th>\n",
              "      <th>SV7</th>\n",
              "      <th>SV8</th>\n",
              "      <th>SV9</th>\n",
              "      <th>SV10</th>\n",
              "      <th>SV11</th>\n",
              "      <th>SV12</th>\n",
              "      <th>SV13</th>\n",
              "      <th>SV14</th>\n",
              "      <th>SV15</th>\n",
              "      <th>SV16</th>\n",
              "      <th>SV17</th>\n",
              "      <th>SV18</th>\n",
              "      <th>SV19</th>\n",
              "      <th>SV20</th>\n",
              "      <th>SV21</th>\n",
              "      <th>SV22</th>\n",
              "      <th>SV23</th>\n",
              "      <th>SV24</th>\n",
              "      <th>SV25</th>\n",
              "      <th>SV26</th>\n",
              "      <th>SV27</th>\n",
              "      <th>SV28</th>\n",
              "      <th>SV29</th>\n",
              "      <th>SV30</th>\n",
              "      <th>SV31</th>\n",
              "      <th>SV32</th>\n",
              "      <th>SV33</th>\n",
              "      <th>SV34</th>\n",
              "      <th>SV35</th>\n",
              "      <th>SV36</th>\n",
              "      <th>SV37</th>\n",
              "      <th>SV38</th>\n",
              "      <th>SV39</th>\n",
              "      <th>SV40</th>\n",
              "      <th>...</th>\n",
              "      <th>SV106</th>\n",
              "      <th>SV107</th>\n",
              "      <th>SV108</th>\n",
              "      <th>SV109</th>\n",
              "      <th>SV110</th>\n",
              "      <th>SV111</th>\n",
              "      <th>SV112</th>\n",
              "      <th>SV113</th>\n",
              "      <th>SV114</th>\n",
              "      <th>SV115</th>\n",
              "      <th>SV116</th>\n",
              "      <th>SV117</th>\n",
              "      <th>SV118</th>\n",
              "      <th>SV119</th>\n",
              "      <th>SV120</th>\n",
              "      <th>SV121</th>\n",
              "      <th>SV122</th>\n",
              "      <th>SV123</th>\n",
              "      <th>SV124</th>\n",
              "      <th>SV125</th>\n",
              "      <th>SV126</th>\n",
              "      <th>SV127</th>\n",
              "      <th>SV128</th>\n",
              "      <th>SV129</th>\n",
              "      <th>SV130</th>\n",
              "      <th>SV131</th>\n",
              "      <th>SV132</th>\n",
              "      <th>SV133</th>\n",
              "      <th>SV134</th>\n",
              "      <th>SV135</th>\n",
              "      <th>SV136</th>\n",
              "      <th>SV137</th>\n",
              "      <th>SV138</th>\n",
              "      <th>SV139</th>\n",
              "      <th>SV140</th>\n",
              "      <th>SV141</th>\n",
              "      <th>SV142</th>\n",
              "      <th>SV143</th>\n",
              "      <th>SV144</th>\n",
              "      <th>SV145</th>\n",
              "    </tr>\n",
              "  </thead>\n",
              "  <tbody>\n",
              "    <tr>\n",
              "      <th>0</th>\n",
              "      <td>0.164573</td>\n",
              "      <td>0.030447</td>\n",
              "      <td>0.107054</td>\n",
              "      <td>-0.051252</td>\n",
              "      <td>0.122012</td>\n",
              "      <td>0.045479</td>\n",
              "      <td>0.127784</td>\n",
              "      <td>-0.035865</td>\n",
              "      <td>-0.061791</td>\n",
              "      <td>-0.077306</td>\n",
              "      <td>0.001881</td>\n",
              "      <td>0.057948</td>\n",
              "      <td>0.076197</td>\n",
              "      <td>0.032030</td>\n",
              "      <td>0.054061</td>\n",
              "      <td>-0.095614</td>\n",
              "      <td>-0.052024</td>\n",
              "      <td>0.012326</td>\n",
              "      <td>-0.000451</td>\n",
              "      <td>-0.071382</td>\n",
              "      <td>0.166544</td>\n",
              "      <td>-0.081601</td>\n",
              "      <td>0.009221</td>\n",
              "      <td>-0.032198</td>\n",
              "      <td>0.029896</td>\n",
              "      <td>0.052704</td>\n",
              "      <td>-0.068969</td>\n",
              "      <td>-0.010664</td>\n",
              "      <td>-0.062463</td>\n",
              "      <td>-0.054089</td>\n",
              "      <td>-0.067473</td>\n",
              "      <td>0.064310</td>\n",
              "      <td>0.081484</td>\n",
              "      <td>-0.099869</td>\n",
              "      <td>0.009327</td>\n",
              "      <td>-0.017395</td>\n",
              "      <td>0.023700</td>\n",
              "      <td>0.038493</td>\n",
              "      <td>0.019508</td>\n",
              "      <td>0.013143</td>\n",
              "      <td>...</td>\n",
              "      <td>-0.024383</td>\n",
              "      <td>-0.052947</td>\n",
              "      <td>-0.034714</td>\n",
              "      <td>-0.053191</td>\n",
              "      <td>-0.041587</td>\n",
              "      <td>0.074920</td>\n",
              "      <td>0.003088</td>\n",
              "      <td>0.094860</td>\n",
              "      <td>-0.032811</td>\n",
              "      <td>-0.060053</td>\n",
              "      <td>0.084695</td>\n",
              "      <td>0.016593</td>\n",
              "      <td>-0.066206</td>\n",
              "      <td>0.001819</td>\n",
              "      <td>0.010023</td>\n",
              "      <td>0.043652</td>\n",
              "      <td>0.012693</td>\n",
              "      <td>-0.032268</td>\n",
              "      <td>0.029291</td>\n",
              "      <td>0.003510</td>\n",
              "      <td>0.037934</td>\n",
              "      <td>-0.059610</td>\n",
              "      <td>0.030140</td>\n",
              "      <td>0.048641</td>\n",
              "      <td>-0.042269</td>\n",
              "      <td>0.011482</td>\n",
              "      <td>-0.022687</td>\n",
              "      <td>0.028572</td>\n",
              "      <td>0.020254</td>\n",
              "      <td>-0.032991</td>\n",
              "      <td>-0.047745</td>\n",
              "      <td>0.005325</td>\n",
              "      <td>0.029031</td>\n",
              "      <td>0.000598</td>\n",
              "      <td>-0.078663</td>\n",
              "      <td>0.007791</td>\n",
              "      <td>0.052144</td>\n",
              "      <td>-0.043054</td>\n",
              "      <td>-0.025305</td>\n",
              "      <td>-0.011848</td>\n",
              "    </tr>\n",
              "    <tr>\n",
              "      <th>1</th>\n",
              "      <td>0.108511</td>\n",
              "      <td>-0.073898</td>\n",
              "      <td>0.038356</td>\n",
              "      <td>-0.041706</td>\n",
              "      <td>-0.006548</td>\n",
              "      <td>-0.018364</td>\n",
              "      <td>-0.049889</td>\n",
              "      <td>0.064243</td>\n",
              "      <td>0.018475</td>\n",
              "      <td>0.021088</td>\n",
              "      <td>0.036540</td>\n",
              "      <td>0.119869</td>\n",
              "      <td>-0.015139</td>\n",
              "      <td>-0.048648</td>\n",
              "      <td>-0.056904</td>\n",
              "      <td>0.001026</td>\n",
              "      <td>-0.030782</td>\n",
              "      <td>0.099820</td>\n",
              "      <td>-0.029585</td>\n",
              "      <td>0.013228</td>\n",
              "      <td>-0.003338</td>\n",
              "      <td>-0.043280</td>\n",
              "      <td>-0.033878</td>\n",
              "      <td>0.045138</td>\n",
              "      <td>-0.040589</td>\n",
              "      <td>0.046329</td>\n",
              "      <td>-0.078717</td>\n",
              "      <td>0.054144</td>\n",
              "      <td>0.010250</td>\n",
              "      <td>-0.075990</td>\n",
              "      <td>-0.024598</td>\n",
              "      <td>0.029606</td>\n",
              "      <td>0.040085</td>\n",
              "      <td>0.023995</td>\n",
              "      <td>0.029815</td>\n",
              "      <td>0.055260</td>\n",
              "      <td>-0.005048</td>\n",
              "      <td>0.031425</td>\n",
              "      <td>-0.091801</td>\n",
              "      <td>-0.065267</td>\n",
              "      <td>...</td>\n",
              "      <td>-0.040608</td>\n",
              "      <td>0.129502</td>\n",
              "      <td>-0.048267</td>\n",
              "      <td>-0.050693</td>\n",
              "      <td>0.060681</td>\n",
              "      <td>-0.068700</td>\n",
              "      <td>-0.013566</td>\n",
              "      <td>0.144292</td>\n",
              "      <td>0.046469</td>\n",
              "      <td>0.061628</td>\n",
              "      <td>0.129998</td>\n",
              "      <td>0.015696</td>\n",
              "      <td>-0.079932</td>\n",
              "      <td>0.053958</td>\n",
              "      <td>-0.055090</td>\n",
              "      <td>0.028524</td>\n",
              "      <td>-0.018828</td>\n",
              "      <td>-0.072027</td>\n",
              "      <td>0.014704</td>\n",
              "      <td>-0.018194</td>\n",
              "      <td>-0.036750</td>\n",
              "      <td>-0.038548</td>\n",
              "      <td>0.055302</td>\n",
              "      <td>0.000512</td>\n",
              "      <td>0.077772</td>\n",
              "      <td>0.027784</td>\n",
              "      <td>-0.001697</td>\n",
              "      <td>-0.045194</td>\n",
              "      <td>0.003104</td>\n",
              "      <td>0.008850</td>\n",
              "      <td>0.024215</td>\n",
              "      <td>0.008350</td>\n",
              "      <td>-0.007985</td>\n",
              "      <td>-0.074456</td>\n",
              "      <td>0.004560</td>\n",
              "      <td>-0.014316</td>\n",
              "      <td>0.060682</td>\n",
              "      <td>-0.020519</td>\n",
              "      <td>-0.070003</td>\n",
              "      <td>0.023953</td>\n",
              "    </tr>\n",
              "    <tr>\n",
              "      <th>2</th>\n",
              "      <td>0.222860</td>\n",
              "      <td>-0.195895</td>\n",
              "      <td>0.123339</td>\n",
              "      <td>-0.019157</td>\n",
              "      <td>0.053501</td>\n",
              "      <td>-0.012551</td>\n",
              "      <td>-0.084252</td>\n",
              "      <td>0.003263</td>\n",
              "      <td>-0.046900</td>\n",
              "      <td>0.112870</td>\n",
              "      <td>-0.054273</td>\n",
              "      <td>0.018808</td>\n",
              "      <td>0.013333</td>\n",
              "      <td>-0.004214</td>\n",
              "      <td>0.019757</td>\n",
              "      <td>0.001216</td>\n",
              "      <td>-0.065607</td>\n",
              "      <td>-0.085280</td>\n",
              "      <td>-0.025764</td>\n",
              "      <td>-0.044639</td>\n",
              "      <td>0.012091</td>\n",
              "      <td>-0.041296</td>\n",
              "      <td>-0.069097</td>\n",
              "      <td>0.076210</td>\n",
              "      <td>-0.075480</td>\n",
              "      <td>-0.014765</td>\n",
              "      <td>-0.073468</td>\n",
              "      <td>-0.026624</td>\n",
              "      <td>0.131263</td>\n",
              "      <td>0.008508</td>\n",
              "      <td>-0.093291</td>\n",
              "      <td>-0.007750</td>\n",
              "      <td>-0.008704</td>\n",
              "      <td>0.009430</td>\n",
              "      <td>-0.044609</td>\n",
              "      <td>0.008748</td>\n",
              "      <td>-0.081937</td>\n",
              "      <td>-0.059791</td>\n",
              "      <td>-0.017289</td>\n",
              "      <td>-0.003761</td>\n",
              "      <td>...</td>\n",
              "      <td>-0.011312</td>\n",
              "      <td>0.051890</td>\n",
              "      <td>0.015963</td>\n",
              "      <td>0.029579</td>\n",
              "      <td>0.075718</td>\n",
              "      <td>-0.002672</td>\n",
              "      <td>0.075482</td>\n",
              "      <td>-0.008709</td>\n",
              "      <td>-0.020599</td>\n",
              "      <td>-0.072416</td>\n",
              "      <td>0.059464</td>\n",
              "      <td>-0.020952</td>\n",
              "      <td>-0.067615</td>\n",
              "      <td>-0.015629</td>\n",
              "      <td>-0.051896</td>\n",
              "      <td>-0.012387</td>\n",
              "      <td>-0.008193</td>\n",
              "      <td>0.000437</td>\n",
              "      <td>0.055015</td>\n",
              "      <td>0.057544</td>\n",
              "      <td>0.001587</td>\n",
              "      <td>0.011646</td>\n",
              "      <td>-0.015764</td>\n",
              "      <td>0.027602</td>\n",
              "      <td>-0.018808</td>\n",
              "      <td>0.060633</td>\n",
              "      <td>0.056889</td>\n",
              "      <td>-0.017511</td>\n",
              "      <td>-0.039051</td>\n",
              "      <td>-0.014086</td>\n",
              "      <td>0.030816</td>\n",
              "      <td>-0.022733</td>\n",
              "      <td>0.015562</td>\n",
              "      <td>-0.032106</td>\n",
              "      <td>-0.041049</td>\n",
              "      <td>-0.000558</td>\n",
              "      <td>-0.043713</td>\n",
              "      <td>0.036494</td>\n",
              "      <td>-0.053839</td>\n",
              "      <td>-0.081798</td>\n",
              "    </tr>\n",
              "    <tr>\n",
              "      <th>3</th>\n",
              "      <td>0.224990</td>\n",
              "      <td>-0.072025</td>\n",
              "      <td>-0.115535</td>\n",
              "      <td>-0.095457</td>\n",
              "      <td>-0.035995</td>\n",
              "      <td>-0.199975</td>\n",
              "      <td>0.062767</td>\n",
              "      <td>-0.057808</td>\n",
              "      <td>0.000626</td>\n",
              "      <td>0.016185</td>\n",
              "      <td>-0.000382</td>\n",
              "      <td>0.028356</td>\n",
              "      <td>-0.150395</td>\n",
              "      <td>0.068355</td>\n",
              "      <td>0.152222</td>\n",
              "      <td>-0.097642</td>\n",
              "      <td>-0.007912</td>\n",
              "      <td>-0.132725</td>\n",
              "      <td>-0.146485</td>\n",
              "      <td>0.075520</td>\n",
              "      <td>-0.024846</td>\n",
              "      <td>-0.026610</td>\n",
              "      <td>-0.056208</td>\n",
              "      <td>-0.135792</td>\n",
              "      <td>-0.045927</td>\n",
              "      <td>-0.055886</td>\n",
              "      <td>0.047797</td>\n",
              "      <td>0.015830</td>\n",
              "      <td>-0.038919</td>\n",
              "      <td>0.077984</td>\n",
              "      <td>0.003173</td>\n",
              "      <td>-0.056673</td>\n",
              "      <td>-0.153405</td>\n",
              "      <td>0.039998</td>\n",
              "      <td>0.066958</td>\n",
              "      <td>0.038325</td>\n",
              "      <td>0.149619</td>\n",
              "      <td>0.020383</td>\n",
              "      <td>0.061566</td>\n",
              "      <td>0.045445</td>\n",
              "      <td>...</td>\n",
              "      <td>-0.104855</td>\n",
              "      <td>-0.008866</td>\n",
              "      <td>0.000419</td>\n",
              "      <td>0.044333</td>\n",
              "      <td>-0.021992</td>\n",
              "      <td>0.039463</td>\n",
              "      <td>0.068734</td>\n",
              "      <td>0.047716</td>\n",
              "      <td>-0.054772</td>\n",
              "      <td>0.068047</td>\n",
              "      <td>-0.012134</td>\n",
              "      <td>-0.023574</td>\n",
              "      <td>0.009124</td>\n",
              "      <td>0.013902</td>\n",
              "      <td>0.085977</td>\n",
              "      <td>-0.017618</td>\n",
              "      <td>0.019431</td>\n",
              "      <td>-0.003189</td>\n",
              "      <td>0.030942</td>\n",
              "      <td>0.086756</td>\n",
              "      <td>-0.071940</td>\n",
              "      <td>-0.053611</td>\n",
              "      <td>-0.024505</td>\n",
              "      <td>-0.021075</td>\n",
              "      <td>-0.107040</td>\n",
              "      <td>-0.004675</td>\n",
              "      <td>-0.038440</td>\n",
              "      <td>0.048068</td>\n",
              "      <td>0.014746</td>\n",
              "      <td>0.072968</td>\n",
              "      <td>0.012904</td>\n",
              "      <td>0.017931</td>\n",
              "      <td>-0.006480</td>\n",
              "      <td>-0.041424</td>\n",
              "      <td>0.041077</td>\n",
              "      <td>-0.052369</td>\n",
              "      <td>-0.050320</td>\n",
              "      <td>-0.046599</td>\n",
              "      <td>-0.041609</td>\n",
              "      <td>0.057708</td>\n",
              "    </tr>\n",
              "    <tr>\n",
              "      <th>4</th>\n",
              "      <td>0.066585</td>\n",
              "      <td>-0.081236</td>\n",
              "      <td>-0.010249</td>\n",
              "      <td>-0.028133</td>\n",
              "      <td>-0.046112</td>\n",
              "      <td>-0.076663</td>\n",
              "      <td>0.049821</td>\n",
              "      <td>0.030339</td>\n",
              "      <td>-0.119067</td>\n",
              "      <td>-0.114143</td>\n",
              "      <td>0.048487</td>\n",
              "      <td>0.012427</td>\n",
              "      <td>0.186105</td>\n",
              "      <td>0.069901</td>\n",
              "      <td>0.053297</td>\n",
              "      <td>0.010330</td>\n",
              "      <td>-0.175854</td>\n",
              "      <td>-0.037989</td>\n",
              "      <td>-0.034209</td>\n",
              "      <td>-0.091951</td>\n",
              "      <td>-0.174026</td>\n",
              "      <td>-0.086533</td>\n",
              "      <td>0.103321</td>\n",
              "      <td>-0.064229</td>\n",
              "      <td>0.018545</td>\n",
              "      <td>-0.059384</td>\n",
              "      <td>-0.045601</td>\n",
              "      <td>-0.063505</td>\n",
              "      <td>-0.141051</td>\n",
              "      <td>0.053085</td>\n",
              "      <td>0.131615</td>\n",
              "      <td>-0.099409</td>\n",
              "      <td>-0.021605</td>\n",
              "      <td>0.143874</td>\n",
              "      <td>-0.009126</td>\n",
              "      <td>0.033338</td>\n",
              "      <td>0.000829</td>\n",
              "      <td>-0.006875</td>\n",
              "      <td>-0.022349</td>\n",
              "      <td>0.119897</td>\n",
              "      <td>...</td>\n",
              "      <td>0.015692</td>\n",
              "      <td>0.011067</td>\n",
              "      <td>0.023865</td>\n",
              "      <td>-0.002197</td>\n",
              "      <td>0.017576</td>\n",
              "      <td>-0.012872</td>\n",
              "      <td>-0.056831</td>\n",
              "      <td>-0.036449</td>\n",
              "      <td>0.033087</td>\n",
              "      <td>-0.074022</td>\n",
              "      <td>0.003610</td>\n",
              "      <td>0.015658</td>\n",
              "      <td>-0.057318</td>\n",
              "      <td>0.009359</td>\n",
              "      <td>0.089557</td>\n",
              "      <td>0.032296</td>\n",
              "      <td>-0.035498</td>\n",
              "      <td>0.052591</td>\n",
              "      <td>0.043182</td>\n",
              "      <td>-0.018001</td>\n",
              "      <td>0.007485</td>\n",
              "      <td>0.035544</td>\n",
              "      <td>0.026563</td>\n",
              "      <td>0.019432</td>\n",
              "      <td>0.069736</td>\n",
              "      <td>0.009671</td>\n",
              "      <td>0.005121</td>\n",
              "      <td>-0.047638</td>\n",
              "      <td>0.034903</td>\n",
              "      <td>0.018547</td>\n",
              "      <td>0.026034</td>\n",
              "      <td>-0.018674</td>\n",
              "      <td>-0.045514</td>\n",
              "      <td>-0.055725</td>\n",
              "      <td>-0.034641</td>\n",
              "      <td>-0.034990</td>\n",
              "      <td>-0.007090</td>\n",
              "      <td>-0.028881</td>\n",
              "      <td>0.022308</td>\n",
              "      <td>-0.046098</td>\n",
              "    </tr>\n",
              "    <tr>\n",
              "      <th>...</th>\n",
              "      <td>...</td>\n",
              "      <td>...</td>\n",
              "      <td>...</td>\n",
              "      <td>...</td>\n",
              "      <td>...</td>\n",
              "      <td>...</td>\n",
              "      <td>...</td>\n",
              "      <td>...</td>\n",
              "      <td>...</td>\n",
              "      <td>...</td>\n",
              "      <td>...</td>\n",
              "      <td>...</td>\n",
              "      <td>...</td>\n",
              "      <td>...</td>\n",
              "      <td>...</td>\n",
              "      <td>...</td>\n",
              "      <td>...</td>\n",
              "      <td>...</td>\n",
              "      <td>...</td>\n",
              "      <td>...</td>\n",
              "      <td>...</td>\n",
              "      <td>...</td>\n",
              "      <td>...</td>\n",
              "      <td>...</td>\n",
              "      <td>...</td>\n",
              "      <td>...</td>\n",
              "      <td>...</td>\n",
              "      <td>...</td>\n",
              "      <td>...</td>\n",
              "      <td>...</td>\n",
              "      <td>...</td>\n",
              "      <td>...</td>\n",
              "      <td>...</td>\n",
              "      <td>...</td>\n",
              "      <td>...</td>\n",
              "      <td>...</td>\n",
              "      <td>...</td>\n",
              "      <td>...</td>\n",
              "      <td>...</td>\n",
              "      <td>...</td>\n",
              "      <td>...</td>\n",
              "      <td>...</td>\n",
              "      <td>...</td>\n",
              "      <td>...</td>\n",
              "      <td>...</td>\n",
              "      <td>...</td>\n",
              "      <td>...</td>\n",
              "      <td>...</td>\n",
              "      <td>...</td>\n",
              "      <td>...</td>\n",
              "      <td>...</td>\n",
              "      <td>...</td>\n",
              "      <td>...</td>\n",
              "      <td>...</td>\n",
              "      <td>...</td>\n",
              "      <td>...</td>\n",
              "      <td>...</td>\n",
              "      <td>...</td>\n",
              "      <td>...</td>\n",
              "      <td>...</td>\n",
              "      <td>...</td>\n",
              "      <td>...</td>\n",
              "      <td>...</td>\n",
              "      <td>...</td>\n",
              "      <td>...</td>\n",
              "      <td>...</td>\n",
              "      <td>...</td>\n",
              "      <td>...</td>\n",
              "      <td>...</td>\n",
              "      <td>...</td>\n",
              "      <td>...</td>\n",
              "      <td>...</td>\n",
              "      <td>...</td>\n",
              "      <td>...</td>\n",
              "      <td>...</td>\n",
              "      <td>...</td>\n",
              "      <td>...</td>\n",
              "      <td>...</td>\n",
              "      <td>...</td>\n",
              "      <td>...</td>\n",
              "      <td>...</td>\n",
              "    </tr>\n",
              "    <tr>\n",
              "      <th>545</th>\n",
              "      <td>0.068686</td>\n",
              "      <td>-0.064208</td>\n",
              "      <td>-0.020622</td>\n",
              "      <td>-0.010108</td>\n",
              "      <td>-0.037196</td>\n",
              "      <td>-0.095725</td>\n",
              "      <td>0.038142</td>\n",
              "      <td>-0.025372</td>\n",
              "      <td>-0.082494</td>\n",
              "      <td>-0.075040</td>\n",
              "      <td>-0.013291</td>\n",
              "      <td>-0.012559</td>\n",
              "      <td>0.056377</td>\n",
              "      <td>-0.026005</td>\n",
              "      <td>0.072045</td>\n",
              "      <td>-0.059774</td>\n",
              "      <td>0.010836</td>\n",
              "      <td>-0.032624</td>\n",
              "      <td>-0.185359</td>\n",
              "      <td>-0.171825</td>\n",
              "      <td>-0.141436</td>\n",
              "      <td>-0.101258</td>\n",
              "      <td>-0.004404</td>\n",
              "      <td>-0.017132</td>\n",
              "      <td>0.066622</td>\n",
              "      <td>-0.069511</td>\n",
              "      <td>0.029256</td>\n",
              "      <td>0.052550</td>\n",
              "      <td>-0.079720</td>\n",
              "      <td>0.109890</td>\n",
              "      <td>0.151687</td>\n",
              "      <td>-0.045834</td>\n",
              "      <td>0.093853</td>\n",
              "      <td>0.120169</td>\n",
              "      <td>0.016852</td>\n",
              "      <td>-0.037413</td>\n",
              "      <td>-0.077168</td>\n",
              "      <td>0.076344</td>\n",
              "      <td>0.080536</td>\n",
              "      <td>0.141301</td>\n",
              "      <td>...</td>\n",
              "      <td>0.019576</td>\n",
              "      <td>-0.040207</td>\n",
              "      <td>0.035747</td>\n",
              "      <td>-0.074319</td>\n",
              "      <td>-0.004115</td>\n",
              "      <td>0.046343</td>\n",
              "      <td>-0.054435</td>\n",
              "      <td>-0.017486</td>\n",
              "      <td>-0.044745</td>\n",
              "      <td>0.050138</td>\n",
              "      <td>0.041442</td>\n",
              "      <td>-0.006338</td>\n",
              "      <td>-0.058550</td>\n",
              "      <td>0.019291</td>\n",
              "      <td>-0.015842</td>\n",
              "      <td>-0.008608</td>\n",
              "      <td>-0.018143</td>\n",
              "      <td>0.020200</td>\n",
              "      <td>-0.026450</td>\n",
              "      <td>-0.002279</td>\n",
              "      <td>-0.083544</td>\n",
              "      <td>-0.030160</td>\n",
              "      <td>-0.047531</td>\n",
              "      <td>0.046358</td>\n",
              "      <td>-0.023471</td>\n",
              "      <td>-0.037657</td>\n",
              "      <td>-0.027472</td>\n",
              "      <td>0.007552</td>\n",
              "      <td>0.021632</td>\n",
              "      <td>0.029110</td>\n",
              "      <td>-0.041714</td>\n",
              "      <td>0.036032</td>\n",
              "      <td>0.106996</td>\n",
              "      <td>-0.002730</td>\n",
              "      <td>-0.008351</td>\n",
              "      <td>-0.015955</td>\n",
              "      <td>-0.064035</td>\n",
              "      <td>0.011149</td>\n",
              "      <td>0.032213</td>\n",
              "      <td>0.032549</td>\n",
              "    </tr>\n",
              "    <tr>\n",
              "      <th>546</th>\n",
              "      <td>0.335902</td>\n",
              "      <td>0.323994</td>\n",
              "      <td>0.262975</td>\n",
              "      <td>0.123374</td>\n",
              "      <td>0.088497</td>\n",
              "      <td>0.108164</td>\n",
              "      <td>0.074029</td>\n",
              "      <td>0.029278</td>\n",
              "      <td>0.060705</td>\n",
              "      <td>-0.017543</td>\n",
              "      <td>0.080359</td>\n",
              "      <td>-0.065954</td>\n",
              "      <td>0.051983</td>\n",
              "      <td>0.099158</td>\n",
              "      <td>0.013338</td>\n",
              "      <td>0.017631</td>\n",
              "      <td>-0.046422</td>\n",
              "      <td>0.119502</td>\n",
              "      <td>-0.047105</td>\n",
              "      <td>-0.047841</td>\n",
              "      <td>0.047897</td>\n",
              "      <td>0.124839</td>\n",
              "      <td>-0.146268</td>\n",
              "      <td>0.124025</td>\n",
              "      <td>0.127340</td>\n",
              "      <td>0.025957</td>\n",
              "      <td>0.093729</td>\n",
              "      <td>0.174750</td>\n",
              "      <td>-0.160824</td>\n",
              "      <td>0.067536</td>\n",
              "      <td>0.031998</td>\n",
              "      <td>-0.020914</td>\n",
              "      <td>0.033455</td>\n",
              "      <td>0.013358</td>\n",
              "      <td>-0.168802</td>\n",
              "      <td>0.159789</td>\n",
              "      <td>-0.023656</td>\n",
              "      <td>-0.014714</td>\n",
              "      <td>0.080837</td>\n",
              "      <td>-0.016700</td>\n",
              "      <td>...</td>\n",
              "      <td>0.036248</td>\n",
              "      <td>-0.031308</td>\n",
              "      <td>0.012562</td>\n",
              "      <td>-0.001881</td>\n",
              "      <td>-0.005797</td>\n",
              "      <td>0.010542</td>\n",
              "      <td>-0.009770</td>\n",
              "      <td>0.018925</td>\n",
              "      <td>0.022035</td>\n",
              "      <td>0.061004</td>\n",
              "      <td>0.010040</td>\n",
              "      <td>-0.002211</td>\n",
              "      <td>0.010547</td>\n",
              "      <td>0.008945</td>\n",
              "      <td>0.018176</td>\n",
              "      <td>0.038557</td>\n",
              "      <td>-0.011360</td>\n",
              "      <td>0.006670</td>\n",
              "      <td>0.048126</td>\n",
              "      <td>-0.003256</td>\n",
              "      <td>0.004466</td>\n",
              "      <td>-0.001746</td>\n",
              "      <td>-0.031399</td>\n",
              "      <td>0.001725</td>\n",
              "      <td>0.015461</td>\n",
              "      <td>-0.051163</td>\n",
              "      <td>-0.031119</td>\n",
              "      <td>0.007557</td>\n",
              "      <td>0.016937</td>\n",
              "      <td>0.037303</td>\n",
              "      <td>0.013847</td>\n",
              "      <td>-0.031824</td>\n",
              "      <td>0.006803</td>\n",
              "      <td>0.017402</td>\n",
              "      <td>-0.047478</td>\n",
              "      <td>-0.006816</td>\n",
              "      <td>0.008665</td>\n",
              "      <td>-0.010302</td>\n",
              "      <td>0.016996</td>\n",
              "      <td>-0.014591</td>\n",
              "    </tr>\n",
              "    <tr>\n",
              "      <th>547</th>\n",
              "      <td>0.139757</td>\n",
              "      <td>-0.021903</td>\n",
              "      <td>-0.081114</td>\n",
              "      <td>0.109114</td>\n",
              "      <td>0.216387</td>\n",
              "      <td>-0.118983</td>\n",
              "      <td>0.036444</td>\n",
              "      <td>0.052227</td>\n",
              "      <td>-0.108812</td>\n",
              "      <td>-0.049652</td>\n",
              "      <td>0.012393</td>\n",
              "      <td>-0.109103</td>\n",
              "      <td>0.165887</td>\n",
              "      <td>-0.061288</td>\n",
              "      <td>-0.060608</td>\n",
              "      <td>-0.012890</td>\n",
              "      <td>-0.050969</td>\n",
              "      <td>0.038726</td>\n",
              "      <td>-0.019109</td>\n",
              "      <td>0.007289</td>\n",
              "      <td>-0.106367</td>\n",
              "      <td>0.006004</td>\n",
              "      <td>0.142057</td>\n",
              "      <td>0.001202</td>\n",
              "      <td>-0.094004</td>\n",
              "      <td>0.040553</td>\n",
              "      <td>-0.051353</td>\n",
              "      <td>-0.094822</td>\n",
              "      <td>0.057780</td>\n",
              "      <td>-0.085104</td>\n",
              "      <td>-0.026349</td>\n",
              "      <td>-0.003145</td>\n",
              "      <td>-0.058410</td>\n",
              "      <td>-0.011864</td>\n",
              "      <td>-0.027082</td>\n",
              "      <td>0.038539</td>\n",
              "      <td>0.029511</td>\n",
              "      <td>0.002266</td>\n",
              "      <td>0.019028</td>\n",
              "      <td>-0.095130</td>\n",
              "      <td>...</td>\n",
              "      <td>-0.026380</td>\n",
              "      <td>0.113034</td>\n",
              "      <td>-0.016302</td>\n",
              "      <td>-0.040842</td>\n",
              "      <td>0.086822</td>\n",
              "      <td>-0.052729</td>\n",
              "      <td>0.107870</td>\n",
              "      <td>-0.029303</td>\n",
              "      <td>-0.026563</td>\n",
              "      <td>0.073877</td>\n",
              "      <td>0.067217</td>\n",
              "      <td>-0.000897</td>\n",
              "      <td>-0.025170</td>\n",
              "      <td>0.010909</td>\n",
              "      <td>-0.028195</td>\n",
              "      <td>-0.027142</td>\n",
              "      <td>0.070450</td>\n",
              "      <td>-0.001099</td>\n",
              "      <td>-0.038763</td>\n",
              "      <td>-0.136973</td>\n",
              "      <td>0.086778</td>\n",
              "      <td>-0.038237</td>\n",
              "      <td>-0.021568</td>\n",
              "      <td>0.012125</td>\n",
              "      <td>-0.041678</td>\n",
              "      <td>-0.028489</td>\n",
              "      <td>-0.007052</td>\n",
              "      <td>-0.024930</td>\n",
              "      <td>-0.070162</td>\n",
              "      <td>0.095194</td>\n",
              "      <td>-0.088780</td>\n",
              "      <td>-0.021179</td>\n",
              "      <td>-0.041641</td>\n",
              "      <td>-0.013043</td>\n",
              "      <td>0.043531</td>\n",
              "      <td>-0.061701</td>\n",
              "      <td>-0.043831</td>\n",
              "      <td>-0.022592</td>\n",
              "      <td>0.005237</td>\n",
              "      <td>0.028674</td>\n",
              "    </tr>\n",
              "    <tr>\n",
              "      <th>548</th>\n",
              "      <td>0.111481</td>\n",
              "      <td>-0.086861</td>\n",
              "      <td>0.016316</td>\n",
              "      <td>0.064553</td>\n",
              "      <td>-0.011769</td>\n",
              "      <td>0.035347</td>\n",
              "      <td>-0.083576</td>\n",
              "      <td>0.097423</td>\n",
              "      <td>-0.156240</td>\n",
              "      <td>0.025770</td>\n",
              "      <td>0.013730</td>\n",
              "      <td>-0.014582</td>\n",
              "      <td>0.117401</td>\n",
              "      <td>0.089173</td>\n",
              "      <td>0.010139</td>\n",
              "      <td>0.064580</td>\n",
              "      <td>-0.075608</td>\n",
              "      <td>0.183215</td>\n",
              "      <td>0.024931</td>\n",
              "      <td>0.022802</td>\n",
              "      <td>-0.024704</td>\n",
              "      <td>0.021370</td>\n",
              "      <td>-0.173058</td>\n",
              "      <td>0.092740</td>\n",
              "      <td>-0.084230</td>\n",
              "      <td>-0.055790</td>\n",
              "      <td>0.013948</td>\n",
              "      <td>0.088839</td>\n",
              "      <td>0.025920</td>\n",
              "      <td>0.074488</td>\n",
              "      <td>-0.063194</td>\n",
              "      <td>-0.043458</td>\n",
              "      <td>0.027768</td>\n",
              "      <td>0.057500</td>\n",
              "      <td>0.153855</td>\n",
              "      <td>0.070611</td>\n",
              "      <td>0.057048</td>\n",
              "      <td>-0.043764</td>\n",
              "      <td>0.105774</td>\n",
              "      <td>0.011300</td>\n",
              "      <td>...</td>\n",
              "      <td>-0.066967</td>\n",
              "      <td>-0.027343</td>\n",
              "      <td>0.013226</td>\n",
              "      <td>0.097915</td>\n",
              "      <td>-0.063064</td>\n",
              "      <td>-0.024692</td>\n",
              "      <td>-0.051420</td>\n",
              "      <td>0.018838</td>\n",
              "      <td>-0.019792</td>\n",
              "      <td>0.024005</td>\n",
              "      <td>-0.060348</td>\n",
              "      <td>0.003905</td>\n",
              "      <td>0.011421</td>\n",
              "      <td>-0.019119</td>\n",
              "      <td>-0.081110</td>\n",
              "      <td>-0.009530</td>\n",
              "      <td>0.106138</td>\n",
              "      <td>-0.066090</td>\n",
              "      <td>-0.055641</td>\n",
              "      <td>-0.028723</td>\n",
              "      <td>-0.008845</td>\n",
              "      <td>-0.031518</td>\n",
              "      <td>0.019901</td>\n",
              "      <td>-0.009040</td>\n",
              "      <td>0.022339</td>\n",
              "      <td>0.013631</td>\n",
              "      <td>0.050686</td>\n",
              "      <td>0.021590</td>\n",
              "      <td>0.006735</td>\n",
              "      <td>-0.067067</td>\n",
              "      <td>0.068269</td>\n",
              "      <td>-0.008593</td>\n",
              "      <td>0.043235</td>\n",
              "      <td>0.114646</td>\n",
              "      <td>0.056118</td>\n",
              "      <td>0.063144</td>\n",
              "      <td>0.006965</td>\n",
              "      <td>-0.063239</td>\n",
              "      <td>0.044374</td>\n",
              "      <td>0.068027</td>\n",
              "    </tr>\n",
              "    <tr>\n",
              "      <th>549</th>\n",
              "      <td>0.270505</td>\n",
              "      <td>0.042997</td>\n",
              "      <td>-0.090531</td>\n",
              "      <td>0.131080</td>\n",
              "      <td>-0.114673</td>\n",
              "      <td>0.004771</td>\n",
              "      <td>-0.006032</td>\n",
              "      <td>-0.088350</td>\n",
              "      <td>0.028280</td>\n",
              "      <td>-0.096556</td>\n",
              "      <td>0.069131</td>\n",
              "      <td>0.088252</td>\n",
              "      <td>-0.079745</td>\n",
              "      <td>-0.064130</td>\n",
              "      <td>0.008324</td>\n",
              "      <td>0.037840</td>\n",
              "      <td>-0.057872</td>\n",
              "      <td>-0.018884</td>\n",
              "      <td>-0.021675</td>\n",
              "      <td>-0.023965</td>\n",
              "      <td>-0.034218</td>\n",
              "      <td>0.023280</td>\n",
              "      <td>-0.036010</td>\n",
              "      <td>0.006755</td>\n",
              "      <td>-0.062624</td>\n",
              "      <td>0.201263</td>\n",
              "      <td>0.055669</td>\n",
              "      <td>0.079151</td>\n",
              "      <td>0.059393</td>\n",
              "      <td>0.098718</td>\n",
              "      <td>-0.068652</td>\n",
              "      <td>-0.108423</td>\n",
              "      <td>0.055223</td>\n",
              "      <td>0.160625</td>\n",
              "      <td>-0.024401</td>\n",
              "      <td>-0.036227</td>\n",
              "      <td>-0.072927</td>\n",
              "      <td>0.008783</td>\n",
              "      <td>-0.033072</td>\n",
              "      <td>-0.078129</td>\n",
              "      <td>...</td>\n",
              "      <td>0.094654</td>\n",
              "      <td>0.039134</td>\n",
              "      <td>0.048823</td>\n",
              "      <td>0.081375</td>\n",
              "      <td>0.061545</td>\n",
              "      <td>0.002092</td>\n",
              "      <td>0.006269</td>\n",
              "      <td>-0.001814</td>\n",
              "      <td>0.008338</td>\n",
              "      <td>-0.058035</td>\n",
              "      <td>-0.001971</td>\n",
              "      <td>-0.100926</td>\n",
              "      <td>0.038170</td>\n",
              "      <td>0.063312</td>\n",
              "      <td>0.025947</td>\n",
              "      <td>-0.007582</td>\n",
              "      <td>0.020294</td>\n",
              "      <td>-0.041530</td>\n",
              "      <td>-0.020710</td>\n",
              "      <td>-0.018716</td>\n",
              "      <td>-0.016847</td>\n",
              "      <td>-0.021953</td>\n",
              "      <td>0.057859</td>\n",
              "      <td>0.025011</td>\n",
              "      <td>-0.014147</td>\n",
              "      <td>0.093608</td>\n",
              "      <td>0.029192</td>\n",
              "      <td>-0.024901</td>\n",
              "      <td>0.014966</td>\n",
              "      <td>-0.023552</td>\n",
              "      <td>-0.040844</td>\n",
              "      <td>-0.014233</td>\n",
              "      <td>0.016408</td>\n",
              "      <td>0.051833</td>\n",
              "      <td>-0.029855</td>\n",
              "      <td>0.055338</td>\n",
              "      <td>0.033470</td>\n",
              "      <td>-0.051197</td>\n",
              "      <td>-0.009976</td>\n",
              "      <td>-0.046312</td>\n",
              "    </tr>\n",
              "  </tbody>\n",
              "</table>\n",
              "<p>550 rows × 145 columns</p>\n",
              "</div>"
            ],
            "text/plain": [
              "          SV1       SV2       SV3  ...     SV143     SV144     SV145\n",
              "0    0.164573  0.030447  0.107054  ... -0.043054 -0.025305 -0.011848\n",
              "1    0.108511 -0.073898  0.038356  ... -0.020519 -0.070003  0.023953\n",
              "2    0.222860 -0.195895  0.123339  ...  0.036494 -0.053839 -0.081798\n",
              "3    0.224990 -0.072025 -0.115535  ... -0.046599 -0.041609  0.057708\n",
              "4    0.066585 -0.081236 -0.010249  ... -0.028881  0.022308 -0.046098\n",
              "..        ...       ...       ...  ...       ...       ...       ...\n",
              "545  0.068686 -0.064208 -0.020622  ...  0.011149  0.032213  0.032549\n",
              "546  0.335902  0.323994  0.262975  ... -0.010302  0.016996 -0.014591\n",
              "547  0.139757 -0.021903 -0.081114  ... -0.022592  0.005237  0.028674\n",
              "548  0.111481 -0.086861  0.016316  ... -0.063239  0.044374  0.068027\n",
              "549  0.270505  0.042997 -0.090531  ... -0.051197 -0.009976 -0.046312\n",
              "\n",
              "[550 rows x 145 columns]"
            ]
          },
          "metadata": {
            "tags": []
          },
          "execution_count": 19
        }
      ]
    },
    {
      "cell_type": "code",
      "metadata": {
        "id": "EEmJ5KlQahCJ"
      },
      "source": [
        "ratings = [1]*104 + [2]*116 + [3]*110 + [4]*110 + [5]*110"
      ],
      "execution_count": 21,
      "outputs": []
    },
    {
      "cell_type": "code",
      "metadata": {
        "colab": {
          "base_uri": "https://localhost:8080/",
          "height": 629
        },
        "id": "6nL7WHkccYeJ",
        "outputId": "44606920-0256-4d22-dd9a-c3b123efc31b"
      },
      "source": [
        "embeddor = Embeddor(corpus=corpus_augmented)\r\n",
        "embeddor.transform(vec_method=\"tfidf\", how=\"SVD\", n=\"n_opt\", threshold=0.5)\r\n",
        "lsi = embeddor.review_embedding\r\n",
        "lsi['corpus'] = corpus_augmented\r\n",
        "lsi['rating'] = ratings\r\n",
        "lsi.head()"
      ],
      "execution_count": 22,
      "outputs": [
        {
          "output_type": "stream",
          "text": [
            "The optimal number of components is:  145\n"
          ],
          "name": "stdout"
        },
        {
          "output_type": "execute_result",
          "data": {
            "text/html": [
              "<div>\n",
              "<style scoped>\n",
              "    .dataframe tbody tr th:only-of-type {\n",
              "        vertical-align: middle;\n",
              "    }\n",
              "\n",
              "    .dataframe tbody tr th {\n",
              "        vertical-align: top;\n",
              "    }\n",
              "\n",
              "    .dataframe thead th {\n",
              "        text-align: right;\n",
              "    }\n",
              "</style>\n",
              "<table border=\"1\" class=\"dataframe\">\n",
              "  <thead>\n",
              "    <tr style=\"text-align: right;\">\n",
              "      <th></th>\n",
              "      <th>SV1</th>\n",
              "      <th>SV2</th>\n",
              "      <th>SV3</th>\n",
              "      <th>SV4</th>\n",
              "      <th>SV5</th>\n",
              "      <th>SV6</th>\n",
              "      <th>SV7</th>\n",
              "      <th>SV8</th>\n",
              "      <th>SV9</th>\n",
              "      <th>SV10</th>\n",
              "      <th>SV11</th>\n",
              "      <th>SV12</th>\n",
              "      <th>SV13</th>\n",
              "      <th>SV14</th>\n",
              "      <th>SV15</th>\n",
              "      <th>SV16</th>\n",
              "      <th>SV17</th>\n",
              "      <th>SV18</th>\n",
              "      <th>SV19</th>\n",
              "      <th>SV20</th>\n",
              "      <th>SV21</th>\n",
              "      <th>SV22</th>\n",
              "      <th>SV23</th>\n",
              "      <th>SV24</th>\n",
              "      <th>SV25</th>\n",
              "      <th>SV26</th>\n",
              "      <th>SV27</th>\n",
              "      <th>SV28</th>\n",
              "      <th>SV29</th>\n",
              "      <th>SV30</th>\n",
              "      <th>SV31</th>\n",
              "      <th>SV32</th>\n",
              "      <th>SV33</th>\n",
              "      <th>SV34</th>\n",
              "      <th>SV35</th>\n",
              "      <th>SV36</th>\n",
              "      <th>SV37</th>\n",
              "      <th>SV38</th>\n",
              "      <th>SV39</th>\n",
              "      <th>SV40</th>\n",
              "      <th>...</th>\n",
              "      <th>SV108</th>\n",
              "      <th>SV109</th>\n",
              "      <th>SV110</th>\n",
              "      <th>SV111</th>\n",
              "      <th>SV112</th>\n",
              "      <th>SV113</th>\n",
              "      <th>SV114</th>\n",
              "      <th>SV115</th>\n",
              "      <th>SV116</th>\n",
              "      <th>SV117</th>\n",
              "      <th>SV118</th>\n",
              "      <th>SV119</th>\n",
              "      <th>SV120</th>\n",
              "      <th>SV121</th>\n",
              "      <th>SV122</th>\n",
              "      <th>SV123</th>\n",
              "      <th>SV124</th>\n",
              "      <th>SV125</th>\n",
              "      <th>SV126</th>\n",
              "      <th>SV127</th>\n",
              "      <th>SV128</th>\n",
              "      <th>SV129</th>\n",
              "      <th>SV130</th>\n",
              "      <th>SV131</th>\n",
              "      <th>SV132</th>\n",
              "      <th>SV133</th>\n",
              "      <th>SV134</th>\n",
              "      <th>SV135</th>\n",
              "      <th>SV136</th>\n",
              "      <th>SV137</th>\n",
              "      <th>SV138</th>\n",
              "      <th>SV139</th>\n",
              "      <th>SV140</th>\n",
              "      <th>SV141</th>\n",
              "      <th>SV142</th>\n",
              "      <th>SV143</th>\n",
              "      <th>SV144</th>\n",
              "      <th>SV145</th>\n",
              "      <th>corpus</th>\n",
              "      <th>rating</th>\n",
              "    </tr>\n",
              "  </thead>\n",
              "  <tbody>\n",
              "    <tr>\n",
              "      <th>0</th>\n",
              "      <td>0.164573</td>\n",
              "      <td>0.030479</td>\n",
              "      <td>0.107056</td>\n",
              "      <td>-0.051299</td>\n",
              "      <td>0.122077</td>\n",
              "      <td>0.045392</td>\n",
              "      <td>0.128019</td>\n",
              "      <td>-0.035820</td>\n",
              "      <td>-0.061632</td>\n",
              "      <td>-0.077051</td>\n",
              "      <td>0.002032</td>\n",
              "      <td>0.058011</td>\n",
              "      <td>0.076623</td>\n",
              "      <td>0.030740</td>\n",
              "      <td>0.053416</td>\n",
              "      <td>-0.094845</td>\n",
              "      <td>-0.052788</td>\n",
              "      <td>0.009550</td>\n",
              "      <td>-0.000351</td>\n",
              "      <td>-0.070800</td>\n",
              "      <td>0.166041</td>\n",
              "      <td>-0.080670</td>\n",
              "      <td>0.009879</td>\n",
              "      <td>-0.030651</td>\n",
              "      <td>0.031286</td>\n",
              "      <td>0.054536</td>\n",
              "      <td>-0.070241</td>\n",
              "      <td>-0.006133</td>\n",
              "      <td>-0.063166</td>\n",
              "      <td>-0.051761</td>\n",
              "      <td>-0.065472</td>\n",
              "      <td>0.062610</td>\n",
              "      <td>0.079041</td>\n",
              "      <td>-0.099435</td>\n",
              "      <td>0.010456</td>\n",
              "      <td>-0.017932</td>\n",
              "      <td>0.021332</td>\n",
              "      <td>0.039747</td>\n",
              "      <td>0.016599</td>\n",
              "      <td>0.015699</td>\n",
              "      <td>...</td>\n",
              "      <td>-0.027650</td>\n",
              "      <td>0.055575</td>\n",
              "      <td>-0.005965</td>\n",
              "      <td>-0.039857</td>\n",
              "      <td>0.047871</td>\n",
              "      <td>0.030885</td>\n",
              "      <td>0.034907</td>\n",
              "      <td>0.026629</td>\n",
              "      <td>0.054555</td>\n",
              "      <td>-0.014402</td>\n",
              "      <td>0.096642</td>\n",
              "      <td>-0.052213</td>\n",
              "      <td>-0.092282</td>\n",
              "      <td>0.065633</td>\n",
              "      <td>0.045179</td>\n",
              "      <td>-0.026541</td>\n",
              "      <td>0.062990</td>\n",
              "      <td>-0.009004</td>\n",
              "      <td>-0.019253</td>\n",
              "      <td>-0.040887</td>\n",
              "      <td>-0.040218</td>\n",
              "      <td>-0.011788</td>\n",
              "      <td>-0.031538</td>\n",
              "      <td>-0.030330</td>\n",
              "      <td>-0.072665</td>\n",
              "      <td>-0.088151</td>\n",
              "      <td>-0.003880</td>\n",
              "      <td>-0.093818</td>\n",
              "      <td>-0.015950</td>\n",
              "      <td>0.046700</td>\n",
              "      <td>0.074148</td>\n",
              "      <td>0.054537</td>\n",
              "      <td>0.004466</td>\n",
              "      <td>0.036288</td>\n",
              "      <td>0.056841</td>\n",
              "      <td>-0.010208</td>\n",
              "      <td>0.054684</td>\n",
              "      <td>-0.009317</td>\n",
              "      <td>[wanted, support, restaurants, 2nd, lockdown, ...</td>\n",
              "      <td>1</td>\n",
              "    </tr>\n",
              "    <tr>\n",
              "      <th>1</th>\n",
              "      <td>0.108511</td>\n",
              "      <td>-0.073893</td>\n",
              "      <td>0.038322</td>\n",
              "      <td>-0.041757</td>\n",
              "      <td>-0.006412</td>\n",
              "      <td>-0.018389</td>\n",
              "      <td>-0.050118</td>\n",
              "      <td>0.064179</td>\n",
              "      <td>0.018750</td>\n",
              "      <td>0.021264</td>\n",
              "      <td>0.035969</td>\n",
              "      <td>0.119552</td>\n",
              "      <td>-0.015889</td>\n",
              "      <td>-0.046476</td>\n",
              "      <td>-0.058432</td>\n",
              "      <td>0.001111</td>\n",
              "      <td>-0.029664</td>\n",
              "      <td>0.101305</td>\n",
              "      <td>-0.028011</td>\n",
              "      <td>0.013441</td>\n",
              "      <td>-0.002539</td>\n",
              "      <td>-0.043273</td>\n",
              "      <td>-0.034510</td>\n",
              "      <td>0.047749</td>\n",
              "      <td>-0.040114</td>\n",
              "      <td>0.045430</td>\n",
              "      <td>-0.074401</td>\n",
              "      <td>0.058967</td>\n",
              "      <td>0.010347</td>\n",
              "      <td>-0.074859</td>\n",
              "      <td>-0.023624</td>\n",
              "      <td>0.030190</td>\n",
              "      <td>0.038525</td>\n",
              "      <td>0.027392</td>\n",
              "      <td>0.027101</td>\n",
              "      <td>0.057136</td>\n",
              "      <td>-0.004962</td>\n",
              "      <td>0.031589</td>\n",
              "      <td>-0.096618</td>\n",
              "      <td>-0.069683</td>\n",
              "      <td>...</td>\n",
              "      <td>0.030215</td>\n",
              "      <td>0.114189</td>\n",
              "      <td>0.090280</td>\n",
              "      <td>-0.059375</td>\n",
              "      <td>0.011191</td>\n",
              "      <td>0.045245</td>\n",
              "      <td>0.069395</td>\n",
              "      <td>-0.011370</td>\n",
              "      <td>0.110310</td>\n",
              "      <td>-0.013643</td>\n",
              "      <td>-0.022306</td>\n",
              "      <td>0.056682</td>\n",
              "      <td>-0.135396</td>\n",
              "      <td>0.076397</td>\n",
              "      <td>-0.045354</td>\n",
              "      <td>-0.011285</td>\n",
              "      <td>0.114796</td>\n",
              "      <td>0.087079</td>\n",
              "      <td>0.072299</td>\n",
              "      <td>0.012657</td>\n",
              "      <td>0.026525</td>\n",
              "      <td>0.000431</td>\n",
              "      <td>-0.093031</td>\n",
              "      <td>0.117822</td>\n",
              "      <td>0.065373</td>\n",
              "      <td>-0.024794</td>\n",
              "      <td>-0.009550</td>\n",
              "      <td>-0.017632</td>\n",
              "      <td>0.021202</td>\n",
              "      <td>-0.101412</td>\n",
              "      <td>0.009511</td>\n",
              "      <td>0.038643</td>\n",
              "      <td>-0.009837</td>\n",
              "      <td>-0.079872</td>\n",
              "      <td>0.040987</td>\n",
              "      <td>0.002323</td>\n",
              "      <td>0.035213</td>\n",
              "      <td>-0.030303</td>\n",
              "      <td>[food, ok, nothing, special, nothing, complain...</td>\n",
              "      <td>1</td>\n",
              "    </tr>\n",
              "    <tr>\n",
              "      <th>2</th>\n",
              "      <td>0.222860</td>\n",
              "      <td>-0.195890</td>\n",
              "      <td>0.123265</td>\n",
              "      <td>-0.019191</td>\n",
              "      <td>0.053599</td>\n",
              "      <td>-0.012513</td>\n",
              "      <td>-0.084151</td>\n",
              "      <td>0.003358</td>\n",
              "      <td>-0.047495</td>\n",
              "      <td>0.112908</td>\n",
              "      <td>-0.053921</td>\n",
              "      <td>0.018159</td>\n",
              "      <td>0.013493</td>\n",
              "      <td>-0.005590</td>\n",
              "      <td>0.019405</td>\n",
              "      <td>0.002307</td>\n",
              "      <td>-0.064625</td>\n",
              "      <td>-0.086337</td>\n",
              "      <td>-0.027194</td>\n",
              "      <td>-0.045190</td>\n",
              "      <td>0.011602</td>\n",
              "      <td>-0.038553</td>\n",
              "      <td>-0.069952</td>\n",
              "      <td>0.076428</td>\n",
              "      <td>-0.078176</td>\n",
              "      <td>-0.012778</td>\n",
              "      <td>-0.073768</td>\n",
              "      <td>-0.027421</td>\n",
              "      <td>0.128645</td>\n",
              "      <td>0.007655</td>\n",
              "      <td>-0.090249</td>\n",
              "      <td>-0.009794</td>\n",
              "      <td>-0.009844</td>\n",
              "      <td>0.008721</td>\n",
              "      <td>-0.045323</td>\n",
              "      <td>0.011210</td>\n",
              "      <td>-0.079177</td>\n",
              "      <td>-0.063255</td>\n",
              "      <td>-0.015561</td>\n",
              "      <td>-0.008578</td>\n",
              "      <td>...</td>\n",
              "      <td>0.090869</td>\n",
              "      <td>0.028279</td>\n",
              "      <td>0.050961</td>\n",
              "      <td>0.012692</td>\n",
              "      <td>-0.056239</td>\n",
              "      <td>-0.034610</td>\n",
              "      <td>0.021316</td>\n",
              "      <td>0.022629</td>\n",
              "      <td>-0.046080</td>\n",
              "      <td>0.016848</td>\n",
              "      <td>-0.035050</td>\n",
              "      <td>0.042975</td>\n",
              "      <td>-0.047252</td>\n",
              "      <td>-0.013246</td>\n",
              "      <td>0.050827</td>\n",
              "      <td>-0.017879</td>\n",
              "      <td>-0.015967</td>\n",
              "      <td>-0.047560</td>\n",
              "      <td>-0.057897</td>\n",
              "      <td>-0.012616</td>\n",
              "      <td>-0.026648</td>\n",
              "      <td>0.027628</td>\n",
              "      <td>-0.044742</td>\n",
              "      <td>0.062223</td>\n",
              "      <td>-0.053006</td>\n",
              "      <td>-0.071251</td>\n",
              "      <td>0.022088</td>\n",
              "      <td>-0.017597</td>\n",
              "      <td>0.035496</td>\n",
              "      <td>0.013549</td>\n",
              "      <td>0.047527</td>\n",
              "      <td>0.106678</td>\n",
              "      <td>0.019056</td>\n",
              "      <td>0.002115</td>\n",
              "      <td>-0.093275</td>\n",
              "      <td>-0.034171</td>\n",
              "      <td>-0.014544</td>\n",
              "      <td>-0.025576</td>\n",
              "      <td>[reserved, table, name, day, celebrations, arr...</td>\n",
              "      <td>1</td>\n",
              "    </tr>\n",
              "    <tr>\n",
              "      <th>3</th>\n",
              "      <td>0.224990</td>\n",
              "      <td>-0.071993</td>\n",
              "      <td>-0.115572</td>\n",
              "      <td>-0.095506</td>\n",
              "      <td>-0.036033</td>\n",
              "      <td>-0.200164</td>\n",
              "      <td>0.062530</td>\n",
              "      <td>-0.057779</td>\n",
              "      <td>0.000778</td>\n",
              "      <td>0.016198</td>\n",
              "      <td>-0.000484</td>\n",
              "      <td>0.028899</td>\n",
              "      <td>-0.150472</td>\n",
              "      <td>0.066964</td>\n",
              "      <td>0.152991</td>\n",
              "      <td>-0.098630</td>\n",
              "      <td>-0.009154</td>\n",
              "      <td>-0.130685</td>\n",
              "      <td>-0.146240</td>\n",
              "      <td>0.074355</td>\n",
              "      <td>-0.024968</td>\n",
              "      <td>-0.026390</td>\n",
              "      <td>-0.056575</td>\n",
              "      <td>-0.135269</td>\n",
              "      <td>-0.044715</td>\n",
              "      <td>-0.055521</td>\n",
              "      <td>0.048562</td>\n",
              "      <td>0.015686</td>\n",
              "      <td>-0.040088</td>\n",
              "      <td>0.080151</td>\n",
              "      <td>0.002936</td>\n",
              "      <td>-0.058709</td>\n",
              "      <td>-0.149485</td>\n",
              "      <td>0.043348</td>\n",
              "      <td>0.065305</td>\n",
              "      <td>0.034969</td>\n",
              "      <td>0.151172</td>\n",
              "      <td>0.019548</td>\n",
              "      <td>0.060135</td>\n",
              "      <td>0.048062</td>\n",
              "      <td>...</td>\n",
              "      <td>-0.041890</td>\n",
              "      <td>0.098745</td>\n",
              "      <td>0.019552</td>\n",
              "      <td>0.035819</td>\n",
              "      <td>0.014934</td>\n",
              "      <td>-0.018837</td>\n",
              "      <td>0.032320</td>\n",
              "      <td>0.007338</td>\n",
              "      <td>-0.036523</td>\n",
              "      <td>0.051049</td>\n",
              "      <td>0.008407</td>\n",
              "      <td>-0.124931</td>\n",
              "      <td>0.039023</td>\n",
              "      <td>0.021887</td>\n",
              "      <td>-0.036886</td>\n",
              "      <td>-0.011762</td>\n",
              "      <td>0.071234</td>\n",
              "      <td>-0.072951</td>\n",
              "      <td>-0.011101</td>\n",
              "      <td>0.007382</td>\n",
              "      <td>0.016299</td>\n",
              "      <td>0.010277</td>\n",
              "      <td>0.012607</td>\n",
              "      <td>-0.002755</td>\n",
              "      <td>-0.033401</td>\n",
              "      <td>0.007580</td>\n",
              "      <td>-0.000482</td>\n",
              "      <td>-0.029870</td>\n",
              "      <td>-0.013508</td>\n",
              "      <td>-0.022690</td>\n",
              "      <td>-0.055433</td>\n",
              "      <td>0.041725</td>\n",
              "      <td>0.005083</td>\n",
              "      <td>-0.093328</td>\n",
              "      <td>0.021102</td>\n",
              "      <td>0.011174</td>\n",
              "      <td>-0.080703</td>\n",
              "      <td>-0.002646</td>\n",
              "      <td>[reading, positive, reviews, really, excited, ...</td>\n",
              "      <td>1</td>\n",
              "    </tr>\n",
              "    <tr>\n",
              "      <th>4</th>\n",
              "      <td>0.066585</td>\n",
              "      <td>-0.081224</td>\n",
              "      <td>-0.010357</td>\n",
              "      <td>-0.028151</td>\n",
              "      <td>-0.046078</td>\n",
              "      <td>-0.076838</td>\n",
              "      <td>0.049782</td>\n",
              "      <td>0.030711</td>\n",
              "      <td>-0.118611</td>\n",
              "      <td>-0.114271</td>\n",
              "      <td>0.048081</td>\n",
              "      <td>0.012869</td>\n",
              "      <td>0.186123</td>\n",
              "      <td>0.069679</td>\n",
              "      <td>0.054180</td>\n",
              "      <td>0.012800</td>\n",
              "      <td>-0.175432</td>\n",
              "      <td>-0.038174</td>\n",
              "      <td>-0.033689</td>\n",
              "      <td>-0.092632</td>\n",
              "      <td>-0.175561</td>\n",
              "      <td>-0.088076</td>\n",
              "      <td>0.102464</td>\n",
              "      <td>-0.062476</td>\n",
              "      <td>0.019433</td>\n",
              "      <td>-0.060130</td>\n",
              "      <td>-0.049656</td>\n",
              "      <td>-0.058409</td>\n",
              "      <td>-0.141190</td>\n",
              "      <td>0.055871</td>\n",
              "      <td>0.131590</td>\n",
              "      <td>-0.097081</td>\n",
              "      <td>-0.020112</td>\n",
              "      <td>0.143379</td>\n",
              "      <td>-0.005786</td>\n",
              "      <td>0.034923</td>\n",
              "      <td>0.002631</td>\n",
              "      <td>-0.003579</td>\n",
              "      <td>-0.021302</td>\n",
              "      <td>0.118488</td>\n",
              "      <td>...</td>\n",
              "      <td>-0.024909</td>\n",
              "      <td>-0.079727</td>\n",
              "      <td>-0.010075</td>\n",
              "      <td>-0.035647</td>\n",
              "      <td>0.006813</td>\n",
              "      <td>-0.036856</td>\n",
              "      <td>-0.000386</td>\n",
              "      <td>-0.002095</td>\n",
              "      <td>0.046849</td>\n",
              "      <td>-0.051110</td>\n",
              "      <td>-0.016687</td>\n",
              "      <td>0.006765</td>\n",
              "      <td>-0.055561</td>\n",
              "      <td>-0.014470</td>\n",
              "      <td>0.039349</td>\n",
              "      <td>-0.012721</td>\n",
              "      <td>-0.045641</td>\n",
              "      <td>0.002558</td>\n",
              "      <td>0.006302</td>\n",
              "      <td>-0.023606</td>\n",
              "      <td>0.058999</td>\n",
              "      <td>-0.017719</td>\n",
              "      <td>0.004203</td>\n",
              "      <td>0.058023</td>\n",
              "      <td>0.018157</td>\n",
              "      <td>0.016725</td>\n",
              "      <td>-0.014583</td>\n",
              "      <td>0.037445</td>\n",
              "      <td>0.004347</td>\n",
              "      <td>-0.002793</td>\n",
              "      <td>-0.044847</td>\n",
              "      <td>0.023648</td>\n",
              "      <td>0.007276</td>\n",
              "      <td>-0.047329</td>\n",
              "      <td>-0.018329</td>\n",
              "      <td>0.017109</td>\n",
              "      <td>0.012121</td>\n",
              "      <td>0.080682</td>\n",
              "      <td>[went, 6, months, ago, american, friend, mine,...</td>\n",
              "      <td>1</td>\n",
              "    </tr>\n",
              "  </tbody>\n",
              "</table>\n",
              "<p>5 rows × 147 columns</p>\n",
              "</div>"
            ],
            "text/plain": [
              "        SV1  ...  rating\n",
              "0  0.164573  ...       1\n",
              "1  0.108511  ...       1\n",
              "2  0.222860  ...       1\n",
              "3  0.224990  ...       1\n",
              "4  0.066585  ...       1\n",
              "\n",
              "[5 rows x 147 columns]"
            ]
          },
          "metadata": {
            "tags": []
          },
          "execution_count": 22
        }
      ]
    },
    {
      "cell_type": "code",
      "metadata": {
        "colab": {
          "base_uri": "https://localhost:8080/",
          "height": 404
        },
        "id": "54poCxBaUV4u",
        "outputId": "8dd344a0-f5c8-4cd6-b578-d140d115ca72"
      },
      "source": [
        "sns.countplot(x='rating', data=lsi)\r\n",
        "plt.title('Number of reviews per rating after data augmentation')\r\n",
        "plt.xlabel('Rating')\r\n",
        "plt.ylabel(' ')\r\n",
        "plt.show()"
      ],
      "execution_count": 23,
      "outputs": [
        {
          "output_type": "display_data",
          "data": {
            "image/png": "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\n",
            "text/plain": [
              "<Figure size 720x432 with 1 Axes>"
            ]
          },
          "metadata": {
            "tags": [],
            "needs_background": "light"
          }
        }
      ]
    },
    {
      "cell_type": "markdown",
      "metadata": {
        "id": "sMGCl4BhDBfZ"
      },
      "source": [
        "Let's see how the different topics are linked to the quality of the reviews (for the first 25 directions):"
      ]
    },
    {
      "cell_type": "code",
      "metadata": {
        "colab": {
          "base_uri": "https://localhost:8080/"
        },
        "id": "gk3iwuv6a4Kf",
        "outputId": "7f268fb0-863a-4d49-bd7b-780ba6501187"
      },
      "source": [
        "for i in range(25):\r\n",
        "    rat_list = []\r\n",
        "    lsi[f'SV{i+1}'] = np.abs(lsi[f'SV{i+1}'])\r\n",
        "    top_words = lsi.sort_values(f'SV{i+1}', ascending=False).index[:20]\r\n",
        "    print(f\"Average rating for topic {i} is : \")\r\n",
        "    for ind in list(top_words):\r\n",
        "        rat_list.append(ratings[ind])\r\n",
        "    print(sum(rat_list)/20)"
      ],
      "execution_count": 24,
      "outputs": [
        {
          "output_type": "stream",
          "text": [
            "Average rating for topic 0 is : 4.5\n",
            "Average rating for topic 1 is : 3.6\n",
            "Average rating for topic 2 is : 3.55\n",
            "Average rating for topic 3 is : 4.15\n",
            "Average rating for topic 4 is : 3.95\n",
            "Average rating for topic 5 is : 3.65\n",
            "Average rating for topic 6 is : 3.55\n",
            "Average rating for topic 7 is : 3.05\n",
            "Average rating for topic 8 is : 3.65\n",
            "Average rating for topic 9 is : 3.75\n",
            "Average rating for topic 10 is : 3.55\n",
            "Average rating for topic 11 is : 3.55\n",
            "Average rating for topic 12 is : 3.65\n",
            "Average rating for topic 13 is : 3.35\n",
            "Average rating for topic 14 is : 3.9\n",
            "Average rating for topic 15 is : 3.35\n",
            "Average rating for topic 16 is : 3.8\n",
            "Average rating for topic 17 is : 3.05\n",
            "Average rating for topic 18 is : 3.55\n",
            "Average rating for topic 19 is : 3.5\n",
            "Average rating for topic 20 is : 2.95\n",
            "Average rating for topic 21 is : 3.45\n",
            "Average rating for topic 22 is : 3.5\n",
            "Average rating for topic 23 is : 2.85\n",
            "Average rating for topic 24 is : 4.1\n"
          ],
          "name": "stdout"
        }
      ]
    },
    {
      "cell_type": "markdown",
      "metadata": {
        "id": "F_0HVHgCBUlD"
      },
      "source": [
        "We can now visualize how the quality of a review is related to a topic. In the following example the topic 1 is mostly associated with good reviews while the second topic is mostly associated with bad reviews. "
      ]
    },
    {
      "cell_type": "code",
      "metadata": {
        "colab": {
          "base_uri": "https://localhost:8080/",
          "height": 623
        },
        "id": "WhxlWJpq8p3A",
        "outputId": "081ce043-efaf-4f5d-9ab6-374a35a814f5"
      },
      "source": [
        "fig, ax = plt.subplots(figsize=(10,10))\r\n",
        "\r\n",
        "colors = ['red', 'orange', 'yellow', 'yellowgreen', 'green']\r\n",
        "\r\n",
        "for val in lsi['rating'].unique():\r\n",
        "    topic_1 = np.abs(lsi[lsi['rating']==val]['SV1'].values)\r\n",
        "    topic_2 = np.abs(lsi[lsi['rating']==val]['SV66'].values)\r\n",
        "    color = colors[val-1]\r\n",
        "    ax.scatter(topic_1, topic_2, alpha=0.7, label=val, color=color)\r\n",
        "    \r\n",
        "ax.set_xlabel('First Topic')\r\n",
        "ax.set_ylabel('Second Topic')\r\n",
        "ax.axvline(linewidth=0.5)\r\n",
        "ax.axhline(linewidth=0.5)\r\n",
        "ax.legend()"
      ],
      "execution_count": 145,
      "outputs": [
        {
          "output_type": "execute_result",
          "data": {
            "text/plain": [
              "<matplotlib.legend.Legend at 0x7f58999dc358>"
            ]
          },
          "metadata": {
            "tags": []
          },
          "execution_count": 145
        },
        {
          "output_type": "display_data",
          "data": {
            "image/png": "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\n",
            "text/plain": [
              "<Figure size 720x720 with 1 Axes>"
            ]
          },
          "metadata": {
            "tags": [],
            "needs_background": "light"
          }
        }
      ]
    },
    {
      "cell_type": "markdown",
      "metadata": {
        "id": "k5UZYUhWCL8u"
      },
      "source": [
        "Let's see what are the top reviews associated with each topic. We observe that \"food\" is often mentioned in the reviews associated with the first topics while the service appears several times in the reviews associated with the second topic. We conclude that food is the differentiating factor for restaurants and bars while service is only a requirement. \r\n"
      ]
    },
    {
      "cell_type": "code",
      "metadata": {
        "colab": {
          "base_uri": "https://localhost:8080/"
        },
        "id": "7MKwyAw3bjf2",
        "outputId": "aa06958b-1668-4b1d-a91c-e90419edc71d"
      },
      "source": [
        "for i in [0, 65]:\r\n",
        "    rat_list = []\r\n",
        "    lsi[f'SV{i+1}'] = np.abs(lsi[f'SV{i+1}'])\r\n",
        "    top_words = lsi.sort_values(f'SV{i+1}', ascending=False).index[:5]\r\n",
        "    print(f\"Top review for topic {i} is: \")\r\n",
        "    for ind in list(top_words):\r\n",
        "        print(lsi.corpus[ind])"
      ],
      "execution_count": 26,
      "outputs": [
        {
          "output_type": "stream",
          "text": [
            "Top review for topic 0 is:\n",
            "['excellent', 'food', 'friendly', 'staff', 'food', 'delicious', 'arrived', 'quickly', 'would', 'definitely', 'recommend']\n",
            "Top review for topic 65 is: \n",
            "['extremely', 'disappointed', 'service', 'received', 'toscana', 'visited', 'restaurant', 'occassions', 'found', 'food', 'good', 'standard', 'however', 'receiving', 'steak', 'cooked', 'rare', 'cold', 'medium', 'requested', 'kindly', 'asked', 'could', 'heated', 'little', 'longer', 'confronted', 'manager', 'told', 'us', 'wrong', 'request', 'paying', 'customer', 'ask', 'rudely', 'felt', 'unacceptable', 'manager', 'continued', 'argue', 'us', 'much', 'wait', 'dinner', 'return', 'promptly', 'left', 'showing', 'good', 'service', 'also', 'tried', 'make', 'us', 'pay', 'full', 'price', 'steak', 'didnt', 'get', 'chance', 'eat', 'would', 'recommend', 'restaurant', 'dining']\n"
          ],
          "name": "stdout"
        }
      ]
    },
    {
      "cell_type": "markdown",
      "metadata": {
        "id": "ssS-PsilOMur"
      },
      "source": [
        "#Classification Model"
      ]
    },
    {
      "cell_type": "markdown",
      "metadata": {
        "id": "qPSGLQjgo09R"
      },
      "source": [
        "##LSI embedding"
      ]
    },
    {
      "cell_type": "markdown",
      "metadata": {
        "id": "ftOKyB69o3iR"
      },
      "source": [
        "###Logistic regression"
      ]
    },
    {
      "cell_type": "code",
      "metadata": {
        "colab": {
          "base_uri": "https://localhost:8080/",
          "height": 450
        },
        "id": "W7lcKxpbRUkH",
        "outputId": "d1dbe20c-c02f-43b6-d2e7-196a436e126a"
      },
      "source": [
        "embeddor = Embeddor(corpus=corpus_augmented)\r\n",
        "embeddor.transform(vec_method=\"tfidf\", how=\"SVD\", n=\"n_opt\", threshold=0.5)\r\n",
        "lsi = embeddor.review_embedding\r\n",
        "lsi['rating'] = ratings\r\n",
        "lsi"
      ],
      "execution_count": 28,
      "outputs": [
        {
          "output_type": "stream",
          "text": [
            "The optimal number of components is:  145\n"
          ],
          "name": "stdout"
        },
        {
          "output_type": "execute_result",
          "data": {
            "text/html": [
              "<div>\n",
              "<style scoped>\n",
              "    .dataframe tbody tr th:only-of-type {\n",
              "        vertical-align: middle;\n",
              "    }\n",
              "\n",
              "    .dataframe tbody tr th {\n",
              "        vertical-align: top;\n",
              "    }\n",
              "\n",
              "    .dataframe thead th {\n",
              "        text-align: right;\n",
              "    }\n",
              "</style>\n",
              "<table border=\"1\" class=\"dataframe\">\n",
              "  <thead>\n",
              "    <tr style=\"text-align: right;\">\n",
              "      <th></th>\n",
              "      <th>SV1</th>\n",
              "      <th>SV2</th>\n",
              "      <th>SV3</th>\n",
              "      <th>SV4</th>\n",
              "      <th>SV5</th>\n",
              "      <th>SV6</th>\n",
              "      <th>SV7</th>\n",
              "      <th>SV8</th>\n",
              "      <th>SV9</th>\n",
              "      <th>SV10</th>\n",
              "      <th>SV11</th>\n",
              "      <th>SV12</th>\n",
              "      <th>SV13</th>\n",
              "      <th>SV14</th>\n",
              "      <th>SV15</th>\n",
              "      <th>SV16</th>\n",
              "      <th>SV17</th>\n",
              "      <th>SV18</th>\n",
              "      <th>SV19</th>\n",
              "      <th>SV20</th>\n",
              "      <th>SV21</th>\n",
              "      <th>SV22</th>\n",
              "      <th>SV23</th>\n",
              "      <th>SV24</th>\n",
              "      <th>SV25</th>\n",
              "      <th>SV26</th>\n",
              "      <th>SV27</th>\n",
              "      <th>SV28</th>\n",
              "      <th>SV29</th>\n",
              "      <th>SV30</th>\n",
              "      <th>SV31</th>\n",
              "      <th>SV32</th>\n",
              "      <th>SV33</th>\n",
              "      <th>SV34</th>\n",
              "      <th>SV35</th>\n",
              "      <th>SV36</th>\n",
              "      <th>SV37</th>\n",
              "      <th>SV38</th>\n",
              "      <th>SV39</th>\n",
              "      <th>SV40</th>\n",
              "      <th>...</th>\n",
              "      <th>SV107</th>\n",
              "      <th>SV108</th>\n",
              "      <th>SV109</th>\n",
              "      <th>SV110</th>\n",
              "      <th>SV111</th>\n",
              "      <th>SV112</th>\n",
              "      <th>SV113</th>\n",
              "      <th>SV114</th>\n",
              "      <th>SV115</th>\n",
              "      <th>SV116</th>\n",
              "      <th>SV117</th>\n",
              "      <th>SV118</th>\n",
              "      <th>SV119</th>\n",
              "      <th>SV120</th>\n",
              "      <th>SV121</th>\n",
              "      <th>SV122</th>\n",
              "      <th>SV123</th>\n",
              "      <th>SV124</th>\n",
              "      <th>SV125</th>\n",
              "      <th>SV126</th>\n",
              "      <th>SV127</th>\n",
              "      <th>SV128</th>\n",
              "      <th>SV129</th>\n",
              "      <th>SV130</th>\n",
              "      <th>SV131</th>\n",
              "      <th>SV132</th>\n",
              "      <th>SV133</th>\n",
              "      <th>SV134</th>\n",
              "      <th>SV135</th>\n",
              "      <th>SV136</th>\n",
              "      <th>SV137</th>\n",
              "      <th>SV138</th>\n",
              "      <th>SV139</th>\n",
              "      <th>SV140</th>\n",
              "      <th>SV141</th>\n",
              "      <th>SV142</th>\n",
              "      <th>SV143</th>\n",
              "      <th>SV144</th>\n",
              "      <th>SV145</th>\n",
              "      <th>rating</th>\n",
              "    </tr>\n",
              "  </thead>\n",
              "  <tbody>\n",
              "    <tr>\n",
              "      <th>0</th>\n",
              "      <td>0.164573</td>\n",
              "      <td>0.030458</td>\n",
              "      <td>0.107080</td>\n",
              "      <td>-0.051245</td>\n",
              "      <td>0.122121</td>\n",
              "      <td>0.045379</td>\n",
              "      <td>0.127930</td>\n",
              "      <td>-0.035564</td>\n",
              "      <td>-0.061691</td>\n",
              "      <td>-0.077284</td>\n",
              "      <td>0.001540</td>\n",
              "      <td>0.058157</td>\n",
              "      <td>0.076178</td>\n",
              "      <td>0.031854</td>\n",
              "      <td>0.053978</td>\n",
              "      <td>-0.094094</td>\n",
              "      <td>-0.055020</td>\n",
              "      <td>0.010053</td>\n",
              "      <td>-0.001067</td>\n",
              "      <td>-0.071465</td>\n",
              "      <td>0.165660</td>\n",
              "      <td>-0.082909</td>\n",
              "      <td>0.008103</td>\n",
              "      <td>-0.033107</td>\n",
              "      <td>0.031250</td>\n",
              "      <td>0.053527</td>\n",
              "      <td>-0.068080</td>\n",
              "      <td>-0.008995</td>\n",
              "      <td>-0.062301</td>\n",
              "      <td>-0.054143</td>\n",
              "      <td>-0.065893</td>\n",
              "      <td>0.060821</td>\n",
              "      <td>0.080333</td>\n",
              "      <td>-0.099279</td>\n",
              "      <td>0.008174</td>\n",
              "      <td>-0.019936</td>\n",
              "      <td>0.019052</td>\n",
              "      <td>0.039699</td>\n",
              "      <td>0.018833</td>\n",
              "      <td>0.015700</td>\n",
              "      <td>...</td>\n",
              "      <td>-0.010809</td>\n",
              "      <td>0.040911</td>\n",
              "      <td>0.025017</td>\n",
              "      <td>-0.069231</td>\n",
              "      <td>0.046166</td>\n",
              "      <td>0.008493</td>\n",
              "      <td>0.083993</td>\n",
              "      <td>0.055361</td>\n",
              "      <td>0.022819</td>\n",
              "      <td>-0.006330</td>\n",
              "      <td>0.044622</td>\n",
              "      <td>-0.064843</td>\n",
              "      <td>0.004748</td>\n",
              "      <td>-0.032685</td>\n",
              "      <td>0.052444</td>\n",
              "      <td>0.034507</td>\n",
              "      <td>-0.061143</td>\n",
              "      <td>0.006180</td>\n",
              "      <td>0.031588</td>\n",
              "      <td>-0.048555</td>\n",
              "      <td>0.023775</td>\n",
              "      <td>-0.036194</td>\n",
              "      <td>0.037155</td>\n",
              "      <td>-0.021218</td>\n",
              "      <td>0.001853</td>\n",
              "      <td>-0.031137</td>\n",
              "      <td>-0.019535</td>\n",
              "      <td>0.006067</td>\n",
              "      <td>0.031134</td>\n",
              "      <td>-0.010303</td>\n",
              "      <td>-0.044388</td>\n",
              "      <td>-0.008560</td>\n",
              "      <td>-0.011987</td>\n",
              "      <td>-0.015088</td>\n",
              "      <td>-0.019137</td>\n",
              "      <td>-0.030520</td>\n",
              "      <td>0.035118</td>\n",
              "      <td>-0.003138</td>\n",
              "      <td>-0.018855</td>\n",
              "      <td>1</td>\n",
              "    </tr>\n",
              "    <tr>\n",
              "      <th>1</th>\n",
              "      <td>0.108511</td>\n",
              "      <td>-0.073923</td>\n",
              "      <td>0.038268</td>\n",
              "      <td>-0.041829</td>\n",
              "      <td>-0.006737</td>\n",
              "      <td>-0.018477</td>\n",
              "      <td>-0.049660</td>\n",
              "      <td>0.064499</td>\n",
              "      <td>0.018495</td>\n",
              "      <td>0.020391</td>\n",
              "      <td>0.035885</td>\n",
              "      <td>0.119173</td>\n",
              "      <td>-0.016620</td>\n",
              "      <td>-0.046680</td>\n",
              "      <td>-0.058241</td>\n",
              "      <td>0.001477</td>\n",
              "      <td>-0.031475</td>\n",
              "      <td>0.100273</td>\n",
              "      <td>-0.026988</td>\n",
              "      <td>0.015207</td>\n",
              "      <td>-0.002745</td>\n",
              "      <td>-0.044550</td>\n",
              "      <td>-0.034889</td>\n",
              "      <td>0.048729</td>\n",
              "      <td>-0.041328</td>\n",
              "      <td>0.045228</td>\n",
              "      <td>-0.077924</td>\n",
              "      <td>0.059674</td>\n",
              "      <td>0.006074</td>\n",
              "      <td>-0.073539</td>\n",
              "      <td>-0.025137</td>\n",
              "      <td>0.032012</td>\n",
              "      <td>0.046227</td>\n",
              "      <td>0.024784</td>\n",
              "      <td>0.036279</td>\n",
              "      <td>0.053377</td>\n",
              "      <td>-0.008257</td>\n",
              "      <td>0.031505</td>\n",
              "      <td>-0.092411</td>\n",
              "      <td>-0.063200</td>\n",
              "      <td>...</td>\n",
              "      <td>0.093574</td>\n",
              "      <td>0.066266</td>\n",
              "      <td>0.059236</td>\n",
              "      <td>-0.013934</td>\n",
              "      <td>0.081805</td>\n",
              "      <td>-0.122087</td>\n",
              "      <td>0.029037</td>\n",
              "      <td>0.040752</td>\n",
              "      <td>-0.010550</td>\n",
              "      <td>0.034998</td>\n",
              "      <td>0.099166</td>\n",
              "      <td>0.009163</td>\n",
              "      <td>-0.023549</td>\n",
              "      <td>-0.081836</td>\n",
              "      <td>-0.061116</td>\n",
              "      <td>-0.017383</td>\n",
              "      <td>-0.009244</td>\n",
              "      <td>-0.046991</td>\n",
              "      <td>0.020836</td>\n",
              "      <td>0.038086</td>\n",
              "      <td>0.039374</td>\n",
              "      <td>-0.027928</td>\n",
              "      <td>-0.000434</td>\n",
              "      <td>0.054221</td>\n",
              "      <td>0.008364</td>\n",
              "      <td>0.055877</td>\n",
              "      <td>0.004263</td>\n",
              "      <td>-0.070759</td>\n",
              "      <td>0.028825</td>\n",
              "      <td>-0.069444</td>\n",
              "      <td>-0.031076</td>\n",
              "      <td>-0.070553</td>\n",
              "      <td>0.062631</td>\n",
              "      <td>-0.061090</td>\n",
              "      <td>-0.064184</td>\n",
              "      <td>-0.064311</td>\n",
              "      <td>-0.017888</td>\n",
              "      <td>-0.054838</td>\n",
              "      <td>-0.001724</td>\n",
              "      <td>1</td>\n",
              "    </tr>\n",
              "    <tr>\n",
              "      <th>2</th>\n",
              "      <td>0.222860</td>\n",
              "      <td>-0.195912</td>\n",
              "      <td>0.123332</td>\n",
              "      <td>-0.019099</td>\n",
              "      <td>0.053646</td>\n",
              "      <td>-0.012557</td>\n",
              "      <td>-0.083971</td>\n",
              "      <td>0.003502</td>\n",
              "      <td>-0.047721</td>\n",
              "      <td>0.112645</td>\n",
              "      <td>-0.054224</td>\n",
              "      <td>0.018292</td>\n",
              "      <td>0.013183</td>\n",
              "      <td>-0.004750</td>\n",
              "      <td>0.019828</td>\n",
              "      <td>0.003269</td>\n",
              "      <td>-0.065537</td>\n",
              "      <td>-0.086081</td>\n",
              "      <td>-0.026748</td>\n",
              "      <td>-0.044141</td>\n",
              "      <td>0.011388</td>\n",
              "      <td>-0.039202</td>\n",
              "      <td>-0.071642</td>\n",
              "      <td>0.076607</td>\n",
              "      <td>-0.074729</td>\n",
              "      <td>-0.014923</td>\n",
              "      <td>-0.071340</td>\n",
              "      <td>-0.023187</td>\n",
              "      <td>0.128811</td>\n",
              "      <td>0.008553</td>\n",
              "      <td>-0.092734</td>\n",
              "      <td>-0.005543</td>\n",
              "      <td>-0.007609</td>\n",
              "      <td>0.009358</td>\n",
              "      <td>-0.044550</td>\n",
              "      <td>0.016542</td>\n",
              "      <td>-0.078809</td>\n",
              "      <td>-0.058393</td>\n",
              "      <td>-0.017680</td>\n",
              "      <td>-0.005594</td>\n",
              "      <td>...</td>\n",
              "      <td>0.033243</td>\n",
              "      <td>0.071380</td>\n",
              "      <td>0.005926</td>\n",
              "      <td>0.047380</td>\n",
              "      <td>-0.021027</td>\n",
              "      <td>-0.065847</td>\n",
              "      <td>-0.044562</td>\n",
              "      <td>0.020535</td>\n",
              "      <td>0.083863</td>\n",
              "      <td>0.059154</td>\n",
              "      <td>-0.041868</td>\n",
              "      <td>-0.035561</td>\n",
              "      <td>0.036971</td>\n",
              "      <td>0.021913</td>\n",
              "      <td>0.003314</td>\n",
              "      <td>0.062321</td>\n",
              "      <td>0.039823</td>\n",
              "      <td>-0.022890</td>\n",
              "      <td>-0.013434</td>\n",
              "      <td>-0.018370</td>\n",
              "      <td>0.038566</td>\n",
              "      <td>-0.019452</td>\n",
              "      <td>0.052213</td>\n",
              "      <td>-0.061164</td>\n",
              "      <td>0.019424</td>\n",
              "      <td>-0.055519</td>\n",
              "      <td>0.027316</td>\n",
              "      <td>0.094306</td>\n",
              "      <td>-0.049691</td>\n",
              "      <td>0.001554</td>\n",
              "      <td>0.020970</td>\n",
              "      <td>-0.010071</td>\n",
              "      <td>0.037227</td>\n",
              "      <td>-0.077531</td>\n",
              "      <td>-0.004676</td>\n",
              "      <td>-0.001116</td>\n",
              "      <td>0.040062</td>\n",
              "      <td>0.019078</td>\n",
              "      <td>0.057743</td>\n",
              "      <td>1</td>\n",
              "    </tr>\n",
              "    <tr>\n",
              "      <th>3</th>\n",
              "      <td>0.224990</td>\n",
              "      <td>-0.072010</td>\n",
              "      <td>-0.115481</td>\n",
              "      <td>-0.095460</td>\n",
              "      <td>-0.036067</td>\n",
              "      <td>-0.200276</td>\n",
              "      <td>0.062474</td>\n",
              "      <td>-0.057688</td>\n",
              "      <td>0.000346</td>\n",
              "      <td>0.015813</td>\n",
              "      <td>-0.000115</td>\n",
              "      <td>0.028270</td>\n",
              "      <td>-0.151382</td>\n",
              "      <td>0.067691</td>\n",
              "      <td>0.153102</td>\n",
              "      <td>-0.097756</td>\n",
              "      <td>-0.012175</td>\n",
              "      <td>-0.131428</td>\n",
              "      <td>-0.147162</td>\n",
              "      <td>0.075771</td>\n",
              "      <td>-0.026950</td>\n",
              "      <td>-0.025960</td>\n",
              "      <td>-0.056798</td>\n",
              "      <td>-0.135692</td>\n",
              "      <td>-0.046628</td>\n",
              "      <td>-0.056448</td>\n",
              "      <td>0.046486</td>\n",
              "      <td>0.014079</td>\n",
              "      <td>-0.040553</td>\n",
              "      <td>0.080054</td>\n",
              "      <td>0.001486</td>\n",
              "      <td>-0.056670</td>\n",
              "      <td>-0.148802</td>\n",
              "      <td>0.044296</td>\n",
              "      <td>0.070517</td>\n",
              "      <td>0.031158</td>\n",
              "      <td>0.145014</td>\n",
              "      <td>0.017060</td>\n",
              "      <td>0.061318</td>\n",
              "      <td>0.046375</td>\n",
              "      <td>...</td>\n",
              "      <td>0.069127</td>\n",
              "      <td>-0.017042</td>\n",
              "      <td>0.002437</td>\n",
              "      <td>0.010455</td>\n",
              "      <td>0.000274</td>\n",
              "      <td>-0.014398</td>\n",
              "      <td>-0.002985</td>\n",
              "      <td>0.000307</td>\n",
              "      <td>-0.002555</td>\n",
              "      <td>-0.013506</td>\n",
              "      <td>0.048471</td>\n",
              "      <td>0.009735</td>\n",
              "      <td>0.049532</td>\n",
              "      <td>0.002314</td>\n",
              "      <td>0.113849</td>\n",
              "      <td>0.088482</td>\n",
              "      <td>0.023101</td>\n",
              "      <td>0.089999</td>\n",
              "      <td>0.024420</td>\n",
              "      <td>-0.004252</td>\n",
              "      <td>0.018500</td>\n",
              "      <td>0.000641</td>\n",
              "      <td>0.042305</td>\n",
              "      <td>-0.006623</td>\n",
              "      <td>-0.070140</td>\n",
              "      <td>0.035089</td>\n",
              "      <td>0.035021</td>\n",
              "      <td>0.025960</td>\n",
              "      <td>-0.026811</td>\n",
              "      <td>0.088378</td>\n",
              "      <td>-0.023397</td>\n",
              "      <td>-0.048985</td>\n",
              "      <td>-0.037511</td>\n",
              "      <td>0.029020</td>\n",
              "      <td>0.045270</td>\n",
              "      <td>-0.011280</td>\n",
              "      <td>0.023877</td>\n",
              "      <td>0.040099</td>\n",
              "      <td>-0.023381</td>\n",
              "      <td>1</td>\n",
              "    </tr>\n",
              "    <tr>\n",
              "      <th>4</th>\n",
              "      <td>0.066585</td>\n",
              "      <td>-0.081237</td>\n",
              "      <td>-0.010339</td>\n",
              "      <td>-0.028076</td>\n",
              "      <td>-0.046231</td>\n",
              "      <td>-0.076613</td>\n",
              "      <td>0.049753</td>\n",
              "      <td>0.030345</td>\n",
              "      <td>-0.118965</td>\n",
              "      <td>-0.114173</td>\n",
              "      <td>0.048569</td>\n",
              "      <td>0.012406</td>\n",
              "      <td>0.186389</td>\n",
              "      <td>0.069966</td>\n",
              "      <td>0.052855</td>\n",
              "      <td>0.016867</td>\n",
              "      <td>-0.174470</td>\n",
              "      <td>-0.038356</td>\n",
              "      <td>-0.034188</td>\n",
              "      <td>-0.092186</td>\n",
              "      <td>-0.174828</td>\n",
              "      <td>-0.087205</td>\n",
              "      <td>0.102161</td>\n",
              "      <td>-0.062583</td>\n",
              "      <td>0.017823</td>\n",
              "      <td>-0.059467</td>\n",
              "      <td>-0.048317</td>\n",
              "      <td>-0.064099</td>\n",
              "      <td>-0.139172</td>\n",
              "      <td>0.055271</td>\n",
              "      <td>0.131047</td>\n",
              "      <td>-0.094750</td>\n",
              "      <td>-0.021285</td>\n",
              "      <td>0.144020</td>\n",
              "      <td>-0.005791</td>\n",
              "      <td>0.033930</td>\n",
              "      <td>0.002233</td>\n",
              "      <td>-0.009174</td>\n",
              "      <td>-0.021241</td>\n",
              "      <td>0.122871</td>\n",
              "      <td>...</td>\n",
              "      <td>-0.044919</td>\n",
              "      <td>-0.071226</td>\n",
              "      <td>0.024899</td>\n",
              "      <td>0.006085</td>\n",
              "      <td>-0.067137</td>\n",
              "      <td>-0.006199</td>\n",
              "      <td>0.060787</td>\n",
              "      <td>0.024566</td>\n",
              "      <td>-0.005908</td>\n",
              "      <td>0.001602</td>\n",
              "      <td>-0.068049</td>\n",
              "      <td>-0.040108</td>\n",
              "      <td>0.001914</td>\n",
              "      <td>-0.040409</td>\n",
              "      <td>-0.066178</td>\n",
              "      <td>0.019277</td>\n",
              "      <td>0.081757</td>\n",
              "      <td>-0.002096</td>\n",
              "      <td>-0.014972</td>\n",
              "      <td>0.024363</td>\n",
              "      <td>-0.001782</td>\n",
              "      <td>0.029517</td>\n",
              "      <td>0.018615</td>\n",
              "      <td>0.046627</td>\n",
              "      <td>-0.003338</td>\n",
              "      <td>0.055181</td>\n",
              "      <td>-0.015571</td>\n",
              "      <td>-0.014102</td>\n",
              "      <td>-0.040090</td>\n",
              "      <td>-0.026202</td>\n",
              "      <td>0.029547</td>\n",
              "      <td>0.000514</td>\n",
              "      <td>-0.032329</td>\n",
              "      <td>0.057057</td>\n",
              "      <td>-0.064273</td>\n",
              "      <td>-0.007289</td>\n",
              "      <td>-0.070631</td>\n",
              "      <td>0.043795</td>\n",
              "      <td>-0.017753</td>\n",
              "      <td>1</td>\n",
              "    </tr>\n",
              "    <tr>\n",
              "      <th>...</th>\n",
              "      <td>...</td>\n",
              "      <td>...</td>\n",
              "      <td>...</td>\n",
              "      <td>...</td>\n",
              "      <td>...</td>\n",
              "      <td>...</td>\n",
              "      <td>...</td>\n",
              "      <td>...</td>\n",
              "      <td>...</td>\n",
              "      <td>...</td>\n",
              "      <td>...</td>\n",
              "      <td>...</td>\n",
              "      <td>...</td>\n",
              "      <td>...</td>\n",
              "      <td>...</td>\n",
              "      <td>...</td>\n",
              "      <td>...</td>\n",
              "      <td>...</td>\n",
              "      <td>...</td>\n",
              "      <td>...</td>\n",
              "      <td>...</td>\n",
              "      <td>...</td>\n",
              "      <td>...</td>\n",
              "      <td>...</td>\n",
              "      <td>...</td>\n",
              "      <td>...</td>\n",
              "      <td>...</td>\n",
              "      <td>...</td>\n",
              "      <td>...</td>\n",
              "      <td>...</td>\n",
              "      <td>...</td>\n",
              "      <td>...</td>\n",
              "      <td>...</td>\n",
              "      <td>...</td>\n",
              "      <td>...</td>\n",
              "      <td>...</td>\n",
              "      <td>...</td>\n",
              "      <td>...</td>\n",
              "      <td>...</td>\n",
              "      <td>...</td>\n",
              "      <td>...</td>\n",
              "      <td>...</td>\n",
              "      <td>...</td>\n",
              "      <td>...</td>\n",
              "      <td>...</td>\n",
              "      <td>...</td>\n",
              "      <td>...</td>\n",
              "      <td>...</td>\n",
              "      <td>...</td>\n",
              "      <td>...</td>\n",
              "      <td>...</td>\n",
              "      <td>...</td>\n",
              "      <td>...</td>\n",
              "      <td>...</td>\n",
              "      <td>...</td>\n",
              "      <td>...</td>\n",
              "      <td>...</td>\n",
              "      <td>...</td>\n",
              "      <td>...</td>\n",
              "      <td>...</td>\n",
              "      <td>...</td>\n",
              "      <td>...</td>\n",
              "      <td>...</td>\n",
              "      <td>...</td>\n",
              "      <td>...</td>\n",
              "      <td>...</td>\n",
              "      <td>...</td>\n",
              "      <td>...</td>\n",
              "      <td>...</td>\n",
              "      <td>...</td>\n",
              "      <td>...</td>\n",
              "      <td>...</td>\n",
              "      <td>...</td>\n",
              "      <td>...</td>\n",
              "      <td>...</td>\n",
              "      <td>...</td>\n",
              "      <td>...</td>\n",
              "      <td>...</td>\n",
              "      <td>...</td>\n",
              "      <td>...</td>\n",
              "      <td>...</td>\n",
              "    </tr>\n",
              "    <tr>\n",
              "      <th>545</th>\n",
              "      <td>0.068686</td>\n",
              "      <td>-0.064232</td>\n",
              "      <td>-0.020515</td>\n",
              "      <td>-0.010045</td>\n",
              "      <td>-0.037292</td>\n",
              "      <td>-0.095578</td>\n",
              "      <td>0.038023</td>\n",
              "      <td>-0.025179</td>\n",
              "      <td>-0.082537</td>\n",
              "      <td>-0.075313</td>\n",
              "      <td>-0.014112</td>\n",
              "      <td>-0.013096</td>\n",
              "      <td>0.056529</td>\n",
              "      <td>-0.026288</td>\n",
              "      <td>0.071410</td>\n",
              "      <td>-0.061127</td>\n",
              "      <td>0.008580</td>\n",
              "      <td>-0.032377</td>\n",
              "      <td>-0.186418</td>\n",
              "      <td>-0.173534</td>\n",
              "      <td>-0.143144</td>\n",
              "      <td>-0.099194</td>\n",
              "      <td>-0.007710</td>\n",
              "      <td>-0.015991</td>\n",
              "      <td>0.064868</td>\n",
              "      <td>-0.070143</td>\n",
              "      <td>0.031553</td>\n",
              "      <td>0.051229</td>\n",
              "      <td>-0.079442</td>\n",
              "      <td>0.110316</td>\n",
              "      <td>0.151211</td>\n",
              "      <td>-0.046313</td>\n",
              "      <td>0.096272</td>\n",
              "      <td>0.121312</td>\n",
              "      <td>0.014722</td>\n",
              "      <td>-0.035649</td>\n",
              "      <td>-0.083766</td>\n",
              "      <td>0.069212</td>\n",
              "      <td>0.076766</td>\n",
              "      <td>0.143356</td>\n",
              "      <td>...</td>\n",
              "      <td>-0.015548</td>\n",
              "      <td>-0.003176</td>\n",
              "      <td>0.024502</td>\n",
              "      <td>-0.032762</td>\n",
              "      <td>0.040689</td>\n",
              "      <td>0.000838</td>\n",
              "      <td>0.065094</td>\n",
              "      <td>0.042082</td>\n",
              "      <td>0.030795</td>\n",
              "      <td>-0.031650</td>\n",
              "      <td>0.069223</td>\n",
              "      <td>0.027216</td>\n",
              "      <td>-0.004122</td>\n",
              "      <td>-0.068384</td>\n",
              "      <td>0.089884</td>\n",
              "      <td>0.002364</td>\n",
              "      <td>-0.038579</td>\n",
              "      <td>0.078074</td>\n",
              "      <td>0.040176</td>\n",
              "      <td>-0.009390</td>\n",
              "      <td>-0.024343</td>\n",
              "      <td>0.053093</td>\n",
              "      <td>-0.038695</td>\n",
              "      <td>-0.033514</td>\n",
              "      <td>-0.005355</td>\n",
              "      <td>-0.008753</td>\n",
              "      <td>0.019628</td>\n",
              "      <td>0.013366</td>\n",
              "      <td>0.064338</td>\n",
              "      <td>0.001725</td>\n",
              "      <td>0.003131</td>\n",
              "      <td>0.014210</td>\n",
              "      <td>0.012758</td>\n",
              "      <td>-0.016161</td>\n",
              "      <td>-0.040853</td>\n",
              "      <td>0.007620</td>\n",
              "      <td>0.021749</td>\n",
              "      <td>-0.009027</td>\n",
              "      <td>0.062650</td>\n",
              "      <td>5</td>\n",
              "    </tr>\n",
              "    <tr>\n",
              "      <th>546</th>\n",
              "      <td>0.335902</td>\n",
              "      <td>0.324001</td>\n",
              "      <td>0.262945</td>\n",
              "      <td>0.123433</td>\n",
              "      <td>0.088471</td>\n",
              "      <td>0.108158</td>\n",
              "      <td>0.074131</td>\n",
              "      <td>0.029463</td>\n",
              "      <td>0.060649</td>\n",
              "      <td>-0.017521</td>\n",
              "      <td>0.080773</td>\n",
              "      <td>-0.066045</td>\n",
              "      <td>0.051807</td>\n",
              "      <td>0.099383</td>\n",
              "      <td>0.013399</td>\n",
              "      <td>0.018949</td>\n",
              "      <td>-0.045816</td>\n",
              "      <td>0.119174</td>\n",
              "      <td>-0.047018</td>\n",
              "      <td>-0.047827</td>\n",
              "      <td>0.046825</td>\n",
              "      <td>0.126994</td>\n",
              "      <td>-0.146471</td>\n",
              "      <td>0.121965</td>\n",
              "      <td>0.126063</td>\n",
              "      <td>0.025984</td>\n",
              "      <td>0.099489</td>\n",
              "      <td>0.170299</td>\n",
              "      <td>-0.160054</td>\n",
              "      <td>0.068943</td>\n",
              "      <td>0.034429</td>\n",
              "      <td>-0.019122</td>\n",
              "      <td>0.035706</td>\n",
              "      <td>0.013680</td>\n",
              "      <td>-0.160926</td>\n",
              "      <td>0.167993</td>\n",
              "      <td>-0.019334</td>\n",
              "      <td>-0.009990</td>\n",
              "      <td>0.079626</td>\n",
              "      <td>-0.018155</td>\n",
              "      <td>...</td>\n",
              "      <td>0.013925</td>\n",
              "      <td>0.005918</td>\n",
              "      <td>-0.041718</td>\n",
              "      <td>0.006858</td>\n",
              "      <td>0.001503</td>\n",
              "      <td>0.003786</td>\n",
              "      <td>0.002755</td>\n",
              "      <td>0.054348</td>\n",
              "      <td>-0.018056</td>\n",
              "      <td>0.004231</td>\n",
              "      <td>0.067914</td>\n",
              "      <td>0.002558</td>\n",
              "      <td>-0.003458</td>\n",
              "      <td>0.019188</td>\n",
              "      <td>-0.022664</td>\n",
              "      <td>-0.038522</td>\n",
              "      <td>0.003097</td>\n",
              "      <td>0.023721</td>\n",
              "      <td>-0.038873</td>\n",
              "      <td>0.025510</td>\n",
              "      <td>-0.009025</td>\n",
              "      <td>0.041213</td>\n",
              "      <td>0.018994</td>\n",
              "      <td>-0.000381</td>\n",
              "      <td>-0.014174</td>\n",
              "      <td>0.004138</td>\n",
              "      <td>0.006758</td>\n",
              "      <td>-0.036024</td>\n",
              "      <td>-0.023462</td>\n",
              "      <td>-0.009109</td>\n",
              "      <td>-0.004822</td>\n",
              "      <td>-0.014959</td>\n",
              "      <td>0.013787</td>\n",
              "      <td>0.019468</td>\n",
              "      <td>-0.019848</td>\n",
              "      <td>0.007917</td>\n",
              "      <td>0.012982</td>\n",
              "      <td>0.032677</td>\n",
              "      <td>0.014813</td>\n",
              "      <td>5</td>\n",
              "    </tr>\n",
              "    <tr>\n",
              "      <th>547</th>\n",
              "      <td>0.139757</td>\n",
              "      <td>-0.021910</td>\n",
              "      <td>-0.081128</td>\n",
              "      <td>0.108923</td>\n",
              "      <td>0.216227</td>\n",
              "      <td>-0.119286</td>\n",
              "      <td>0.036341</td>\n",
              "      <td>0.052065</td>\n",
              "      <td>-0.109198</td>\n",
              "      <td>-0.049717</td>\n",
              "      <td>0.012242</td>\n",
              "      <td>-0.109148</td>\n",
              "      <td>0.165661</td>\n",
              "      <td>-0.060724</td>\n",
              "      <td>-0.061215</td>\n",
              "      <td>-0.011300</td>\n",
              "      <td>-0.051909</td>\n",
              "      <td>0.038161</td>\n",
              "      <td>-0.017354</td>\n",
              "      <td>0.008555</td>\n",
              "      <td>-0.104645</td>\n",
              "      <td>0.003614</td>\n",
              "      <td>0.140584</td>\n",
              "      <td>0.002446</td>\n",
              "      <td>-0.093243</td>\n",
              "      <td>0.041818</td>\n",
              "      <td>-0.053085</td>\n",
              "      <td>-0.092786</td>\n",
              "      <td>0.059208</td>\n",
              "      <td>-0.084599</td>\n",
              "      <td>-0.026294</td>\n",
              "      <td>-0.003183</td>\n",
              "      <td>-0.057972</td>\n",
              "      <td>-0.009871</td>\n",
              "      <td>-0.023094</td>\n",
              "      <td>0.036354</td>\n",
              "      <td>0.029969</td>\n",
              "      <td>0.001979</td>\n",
              "      <td>0.014269</td>\n",
              "      <td>-0.091858</td>\n",
              "      <td>...</td>\n",
              "      <td>-0.014016</td>\n",
              "      <td>0.134619</td>\n",
              "      <td>0.052505</td>\n",
              "      <td>-0.005523</td>\n",
              "      <td>-0.051682</td>\n",
              "      <td>-0.028604</td>\n",
              "      <td>-0.023950</td>\n",
              "      <td>0.052168</td>\n",
              "      <td>0.031039</td>\n",
              "      <td>-0.038300</td>\n",
              "      <td>0.018389</td>\n",
              "      <td>-0.009422</td>\n",
              "      <td>0.013903</td>\n",
              "      <td>0.013149</td>\n",
              "      <td>-0.020209</td>\n",
              "      <td>-0.001767</td>\n",
              "      <td>-0.122302</td>\n",
              "      <td>-0.033549</td>\n",
              "      <td>0.019009</td>\n",
              "      <td>0.011885</td>\n",
              "      <td>-0.033711</td>\n",
              "      <td>-0.011962</td>\n",
              "      <td>0.022216</td>\n",
              "      <td>-0.001874</td>\n",
              "      <td>-0.091313</td>\n",
              "      <td>-0.033812</td>\n",
              "      <td>-0.069204</td>\n",
              "      <td>-0.012241</td>\n",
              "      <td>0.031446</td>\n",
              "      <td>-0.053761</td>\n",
              "      <td>0.028460</td>\n",
              "      <td>-0.038535</td>\n",
              "      <td>-0.038319</td>\n",
              "      <td>0.027696</td>\n",
              "      <td>0.070266</td>\n",
              "      <td>0.080066</td>\n",
              "      <td>0.046788</td>\n",
              "      <td>-0.042547</td>\n",
              "      <td>0.066025</td>\n",
              "      <td>5</td>\n",
              "    </tr>\n",
              "    <tr>\n",
              "      <th>548</th>\n",
              "      <td>0.111481</td>\n",
              "      <td>-0.086832</td>\n",
              "      <td>0.016326</td>\n",
              "      <td>0.064540</td>\n",
              "      <td>-0.011941</td>\n",
              "      <td>0.035548</td>\n",
              "      <td>-0.083513</td>\n",
              "      <td>0.097339</td>\n",
              "      <td>-0.156188</td>\n",
              "      <td>0.026393</td>\n",
              "      <td>0.012959</td>\n",
              "      <td>-0.013559</td>\n",
              "      <td>0.118121</td>\n",
              "      <td>0.088526</td>\n",
              "      <td>0.010805</td>\n",
              "      <td>0.067011</td>\n",
              "      <td>-0.073729</td>\n",
              "      <td>0.183876</td>\n",
              "      <td>0.025626</td>\n",
              "      <td>0.022503</td>\n",
              "      <td>-0.022991</td>\n",
              "      <td>0.024048</td>\n",
              "      <td>-0.173153</td>\n",
              "      <td>0.089897</td>\n",
              "      <td>-0.083598</td>\n",
              "      <td>-0.055301</td>\n",
              "      <td>0.014737</td>\n",
              "      <td>0.089259</td>\n",
              "      <td>0.024325</td>\n",
              "      <td>0.074828</td>\n",
              "      <td>-0.062792</td>\n",
              "      <td>-0.042922</td>\n",
              "      <td>0.024580</td>\n",
              "      <td>0.057272</td>\n",
              "      <td>0.155218</td>\n",
              "      <td>0.062587</td>\n",
              "      <td>0.060966</td>\n",
              "      <td>-0.044021</td>\n",
              "      <td>0.097390</td>\n",
              "      <td>0.008883</td>\n",
              "      <td>...</td>\n",
              "      <td>0.037914</td>\n",
              "      <td>-0.085844</td>\n",
              "      <td>0.036422</td>\n",
              "      <td>-0.022426</td>\n",
              "      <td>0.000812</td>\n",
              "      <td>0.043086</td>\n",
              "      <td>-0.008654</td>\n",
              "      <td>-0.007232</td>\n",
              "      <td>0.056450</td>\n",
              "      <td>-0.116486</td>\n",
              "      <td>0.002875</td>\n",
              "      <td>-0.043637</td>\n",
              "      <td>-0.055102</td>\n",
              "      <td>-0.076372</td>\n",
              "      <td>-0.008309</td>\n",
              "      <td>-0.016105</td>\n",
              "      <td>-0.056564</td>\n",
              "      <td>-0.065441</td>\n",
              "      <td>0.071379</td>\n",
              "      <td>0.036105</td>\n",
              "      <td>0.005234</td>\n",
              "      <td>-0.092702</td>\n",
              "      <td>-0.028180</td>\n",
              "      <td>0.025233</td>\n",
              "      <td>-0.035669</td>\n",
              "      <td>0.067845</td>\n",
              "      <td>0.026482</td>\n",
              "      <td>-0.002328</td>\n",
              "      <td>0.032081</td>\n",
              "      <td>0.067635</td>\n",
              "      <td>0.006528</td>\n",
              "      <td>0.075633</td>\n",
              "      <td>0.038940</td>\n",
              "      <td>0.001174</td>\n",
              "      <td>0.037524</td>\n",
              "      <td>0.043151</td>\n",
              "      <td>-0.007007</td>\n",
              "      <td>-0.038171</td>\n",
              "      <td>0.005318</td>\n",
              "      <td>5</td>\n",
              "    </tr>\n",
              "    <tr>\n",
              "      <th>549</th>\n",
              "      <td>0.270505</td>\n",
              "      <td>0.042998</td>\n",
              "      <td>-0.090552</td>\n",
              "      <td>0.131097</td>\n",
              "      <td>-0.114702</td>\n",
              "      <td>0.004682</td>\n",
              "      <td>-0.005862</td>\n",
              "      <td>-0.088493</td>\n",
              "      <td>0.028229</td>\n",
              "      <td>-0.096883</td>\n",
              "      <td>0.069276</td>\n",
              "      <td>0.087760</td>\n",
              "      <td>-0.079454</td>\n",
              "      <td>-0.064428</td>\n",
              "      <td>0.007397</td>\n",
              "      <td>0.040175</td>\n",
              "      <td>-0.055697</td>\n",
              "      <td>-0.019431</td>\n",
              "      <td>-0.020874</td>\n",
              "      <td>-0.023238</td>\n",
              "      <td>-0.034625</td>\n",
              "      <td>0.023137</td>\n",
              "      <td>-0.036915</td>\n",
              "      <td>0.006802</td>\n",
              "      <td>-0.063437</td>\n",
              "      <td>0.201322</td>\n",
              "      <td>0.057346</td>\n",
              "      <td>0.079921</td>\n",
              "      <td>0.058680</td>\n",
              "      <td>0.097823</td>\n",
              "      <td>-0.070565</td>\n",
              "      <td>-0.099445</td>\n",
              "      <td>0.058793</td>\n",
              "      <td>0.159615</td>\n",
              "      <td>-0.024909</td>\n",
              "      <td>-0.031443</td>\n",
              "      <td>-0.073702</td>\n",
              "      <td>0.007826</td>\n",
              "      <td>-0.031555</td>\n",
              "      <td>-0.084988</td>\n",
              "      <td>...</td>\n",
              "      <td>-0.012335</td>\n",
              "      <td>-0.022998</td>\n",
              "      <td>-0.062923</td>\n",
              "      <td>-0.012866</td>\n",
              "      <td>-0.027750</td>\n",
              "      <td>-0.027286</td>\n",
              "      <td>-0.045688</td>\n",
              "      <td>-0.048775</td>\n",
              "      <td>-0.006644</td>\n",
              "      <td>-0.094195</td>\n",
              "      <td>-0.055145</td>\n",
              "      <td>0.002797</td>\n",
              "      <td>-0.020036</td>\n",
              "      <td>0.002553</td>\n",
              "      <td>-0.002227</td>\n",
              "      <td>0.035663</td>\n",
              "      <td>0.019767</td>\n",
              "      <td>-0.057048</td>\n",
              "      <td>-0.035309</td>\n",
              "      <td>-0.021486</td>\n",
              "      <td>0.000704</td>\n",
              "      <td>0.005939</td>\n",
              "      <td>-0.044235</td>\n",
              "      <td>0.075231</td>\n",
              "      <td>0.020850</td>\n",
              "      <td>0.076018</td>\n",
              "      <td>-0.056403</td>\n",
              "      <td>0.022038</td>\n",
              "      <td>0.025066</td>\n",
              "      <td>0.006861</td>\n",
              "      <td>-0.008610</td>\n",
              "      <td>0.051964</td>\n",
              "      <td>-0.055305</td>\n",
              "      <td>-0.013503</td>\n",
              "      <td>-0.053781</td>\n",
              "      <td>-0.000156</td>\n",
              "      <td>0.033562</td>\n",
              "      <td>0.024952</td>\n",
              "      <td>-0.069631</td>\n",
              "      <td>5</td>\n",
              "    </tr>\n",
              "  </tbody>\n",
              "</table>\n",
              "<p>550 rows × 146 columns</p>\n",
              "</div>"
            ],
            "text/plain": [
              "          SV1       SV2       SV3  ...     SV144     SV145  rating\n",
              "0    0.164573  0.030458  0.107080  ... -0.003138 -0.018855       1\n",
              "1    0.108511 -0.073923  0.038268  ... -0.054838 -0.001724       1\n",
              "2    0.222860 -0.195912  0.123332  ...  0.019078  0.057743       1\n",
              "3    0.224990 -0.072010 -0.115481  ...  0.040099 -0.023381       1\n",
              "4    0.066585 -0.081237 -0.010339  ...  0.043795 -0.017753       1\n",
              "..        ...       ...       ...  ...       ...       ...     ...\n",
              "545  0.068686 -0.064232 -0.020515  ... -0.009027  0.062650       5\n",
              "546  0.335902  0.324001  0.262945  ...  0.032677  0.014813       5\n",
              "547  0.139757 -0.021910 -0.081128  ... -0.042547  0.066025       5\n",
              "548  0.111481 -0.086832  0.016326  ... -0.038171  0.005318       5\n",
              "549  0.270505  0.042998 -0.090552  ...  0.024952 -0.069631       5\n",
              "\n",
              "[550 rows x 146 columns]"
            ]
          },
          "metadata": {
            "tags": []
          },
          "execution_count": 28
        }
      ]
    },
    {
      "cell_type": "code",
      "metadata": {
        "colab": {
          "base_uri": "https://localhost:8080/"
        },
        "id": "JWSiVBqgOPOY",
        "outputId": "e4a05f4a-1bec-4d98-8f51-7e7a5ad1ceff"
      },
      "source": [
        "#prep df \r\n",
        "lsi.dropna(inplace=True)\r\n",
        "X_train, X_test, y_train, y_test = train_test_split(lsi.iloc[:, :-1],\r\n",
        "                                                    lsi.iloc[:, -1], \r\n",
        "                                                    test_size=0.2, \r\n",
        "                                                    random_state=0, \r\n",
        "                                                    shuffle=True)\r\n",
        "# check distribution of ratings\r\n",
        "print(\"Value counts for Train reviews\")\r\n",
        "print(y_train.value_counts())\r\n",
        "print(\"Value counts for Test resviews\")\r\n",
        "print(y_test.value_counts())"
      ],
      "execution_count": 29,
      "outputs": [
        {
          "output_type": "stream",
          "text": [
            "Value counts for Train reviews\n",
            "2    94\n",
            "3    91\n",
            "4    89\n",
            "1    85\n",
            "5    81\n",
            "Name: rating, dtype: int64\n",
            "Value counts for Test resviews\n",
            "5    29\n",
            "2    22\n",
            "4    21\n",
            "3    19\n",
            "1    19\n",
            "Name: rating, dtype: int64\n"
          ],
          "name": "stdout"
        }
      ]
    },
    {
      "cell_type": "code",
      "metadata": {
        "colab": {
          "base_uri": "https://localhost:8080/"
        },
        "id": "mXRwbg_UOQIs",
        "outputId": "7bbd02bf-16f9-46e2-976d-fbda093d0732"
      },
      "source": [
        "logreg = LogisticRegression(multi_class='multinomial', solver='lbfgs')\r\n",
        "logreg.fit(X_train, y_train)\r\n",
        "# cross validation\r\n",
        "scores_log = cross_val_score(logreg, X_train, y_train, cv = 10, \r\n",
        "                            scoring='f1_weighted')\r\n",
        "print('Cross-validation scores:{}'.format(scores_log))\r\n",
        "avg_score_log = np.mean(scores_log)\r\n",
        "print('Average cross-validation score:{}'.format(avg_score_log))"
      ],
      "execution_count": 30,
      "outputs": [
        {
          "output_type": "stream",
          "text": [
            "Cross-validation scores:[0.48105945 0.71074759 0.54903581 0.55151399 0.52841864 0.49365839\n",
            " 0.57013042 0.61432293 0.52511764 0.44090909]\n",
            "Average cross-validation score:0.5464913945401195\n"
          ],
          "name": "stdout"
        }
      ]
    },
    {
      "cell_type": "code",
      "metadata": {
        "colab": {
          "base_uri": "https://localhost:8080/"
        },
        "id": "dwlWcrQ7OUSx",
        "outputId": "0015f2a1-d7e3-4200-b757-34df320851ad"
      },
      "source": [
        "#classification report \r\n",
        "pred_logreg = logreg.predict(X_test)\r\n",
        "print(classification_report(y_test, pred_logreg))"
      ],
      "execution_count": 31,
      "outputs": [
        {
          "output_type": "stream",
          "text": [
            "              precision    recall  f1-score   support\n",
            "\n",
            "           1       0.41      0.37      0.39        19\n",
            "           2       0.40      0.45      0.43        22\n",
            "           3       0.50      0.63      0.56        19\n",
            "           4       0.35      0.33      0.34        21\n",
            "           5       0.67      0.55      0.60        29\n",
            "\n",
            "    accuracy                           0.47       110\n",
            "   macro avg       0.47      0.47      0.46       110\n",
            "weighted avg       0.48      0.47      0.47       110\n",
            "\n"
          ],
          "name": "stdout"
        }
      ]
    },
    {
      "cell_type": "code",
      "metadata": {
        "colab": {
          "base_uri": "https://localhost:8080/",
          "height": 421
        },
        "id": "9zd41m4eOWon",
        "outputId": "be755986-0299-4bcd-86a5-c2ad330ec538"
      },
      "source": [
        "#confusion matrix\r\n",
        "data = confusion_matrix(y_test, pred_logreg, normalize='true')\r\n",
        "df_cm = pd.DataFrame(data, columns=[1, 2, 3, 4, 5], index=[1, 2, 3, 4, 5])\r\n",
        "df_cm.index.name = 'True label'\r\n",
        "df_cm.columns.name = 'Predicted label'\r\n",
        "plt.figure(figsize = (9, 6))\r\n",
        "plt.title('Confusion Matrix')\r\n",
        "sns.set(font_scale=1.2) \r\n",
        "sns.heatmap(df_cm, cmap=\"Blues\", annot=True, annot_kws={\"size\": 12}, fmt='.1g')"
      ],
      "execution_count": 32,
      "outputs": [
        {
          "output_type": "execute_result",
          "data": {
            "text/plain": [
              "<matplotlib.axes._subplots.AxesSubplot at 0x7f59e767b0b8>"
            ]
          },
          "metadata": {
            "tags": []
          },
          "execution_count": 32
        },
        {
          "output_type": "display_data",
          "data": {
            "image/png": "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\n",
            "text/plain": [
              "<Figure size 648x432 with 2 Axes>"
            ]
          },
          "metadata": {
            "tags": [],
            "needs_background": "light"
          }
        }
      ]
    },
    {
      "cell_type": "markdown",
      "metadata": {
        "id": "UgqhQSCMokau"
      },
      "source": [
        "###Random Forest"
      ]
    },
    {
      "cell_type": "code",
      "metadata": {
        "colab": {
          "base_uri": "https://localhost:8080/"
        },
        "id": "NYgXbzh_m3Mc",
        "outputId": "cde8f592-520f-4ef3-d9a0-6edc6a3b4ed9"
      },
      "source": [
        "#random forest classifier\r\n",
        "rf = RandomForestClassifier()\r\n",
        "rf.fit(X_train, y_train)\r\n",
        "\r\n",
        "scores_rf = cross_val_score(rf, X_train, y_train, cv = 10, \r\n",
        "                            scoring='f1_weighted')\r\n",
        "print('Cross-validation scores:{}'.format(scores_rf))\r\n",
        "avg_score_rf = np.mean(scores_rf)\r\n",
        "print('Average cross-validation score:{}'.format(avg_score_rf))"
      ],
      "execution_count": 33,
      "outputs": [
        {
          "output_type": "stream",
          "text": [
            "Cross-validation scores:[0.45830832 0.52786387 0.4640861  0.41014636 0.48218521 0.26994251\n",
            " 0.59001783 0.47298616 0.34567735 0.40800908]\n",
            "Average cross-validation score:0.4429222773065316\n"
          ],
          "name": "stdout"
        }
      ]
    },
    {
      "cell_type": "code",
      "metadata": {
        "colab": {
          "base_uri": "https://localhost:8080/"
        },
        "id": "rqKzfIe7nHcE",
        "outputId": "2a2269b2-6127-4bd2-a91b-89d3792ace10"
      },
      "source": [
        "pred_labels_rf = rf.predict(X_test)\r\n",
        "print(classification_report(y_test, pred_labels_rf))"
      ],
      "execution_count": 34,
      "outputs": [
        {
          "output_type": "stream",
          "text": [
            "              precision    recall  f1-score   support\n",
            "\n",
            "           1       0.33      0.21      0.26        19\n",
            "           2       0.42      0.50      0.46        22\n",
            "           3       0.43      0.53      0.48        19\n",
            "           4       0.22      0.24      0.23        21\n",
            "           5       0.42      0.38      0.40        29\n",
            "\n",
            "    accuracy                           0.37       110\n",
            "   macro avg       0.37      0.37      0.36       110\n",
            "weighted avg       0.37      0.37      0.37       110\n",
            "\n"
          ],
          "name": "stdout"
        }
      ]
    },
    {
      "cell_type": "code",
      "metadata": {
        "colab": {
          "base_uri": "https://localhost:8080/",
          "height": 415
        },
        "id": "LfnpZO69nJAa",
        "outputId": "792143ab-6953-4e67-9e1c-8bae305761a4"
      },
      "source": [
        "#confusion matrix\r\n",
        "data = confusion_matrix(y_test, pred_labels_rf, normalize='true')\r\n",
        "df_cm = pd.DataFrame(data, columns=[1, 2, 3, 4, 5], index=[1, 2, 3, 4, 5])\r\n",
        "\r\n",
        "df_cm.index.name = 'True label'\r\n",
        "df_cm.columns.name = 'Predicted label'\r\n",
        "plt.figure(figsize = (9, 6))\r\n",
        "plt.title('Normalized confusion matrix')\r\n",
        "sns.set(font_scale=1.2) \r\n",
        "sns.heatmap(df_cm, cmap=\"Blues\", annot=True, annot_kws={\"size\": 12}, fmt='.1g'); "
      ],
      "execution_count": 35,
      "outputs": [
        {
          "output_type": "display_data",
          "data": {
            "image/png": "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\n",
            "text/plain": [
              "<Figure size 648x432 with 2 Axes>"
            ]
          },
          "metadata": {
            "tags": []
          }
        }
      ]
    },
    {
      "cell_type": "markdown",
      "metadata": {
        "id": "SF62sYc3o6_1"
      },
      "source": [
        "The random forest classifier shows better result than the logistic regression classifier."
      ]
    },
    {
      "cell_type": "markdown",
      "metadata": {
        "id": "BlQt91M_mjrP"
      },
      "source": [
        "##Word2vec embedding"
      ]
    },
    {
      "cell_type": "markdown",
      "metadata": {
        "id": "nNyldlb1mtMV"
      },
      "source": [
        "We use a random forest classifier with the word2vec embedding as input."
      ]
    },
    {
      "cell_type": "code",
      "metadata": {
        "colab": {
          "base_uri": "https://localhost:8080/",
          "height": 450
        },
        "id": "AFjerKNZiulM",
        "outputId": "17129220-8cc2-42e9-f22d-c6963feaf3fd"
      },
      "source": [
        "embeddor = Embeddor(corpus=corpus_augmented)\r\n",
        "embeddor.transform(vec_method=\"word2vec\", how=\"PCA\", n=100) #n_opt wasn't offering good results\r\n",
        "word2vec_embed = embeddor.review_embedding\r\n",
        "word2vec_embed['rating'] = ratings\r\n",
        "word2vec_embed"
      ],
      "execution_count": 36,
      "outputs": [
        {
          "output_type": "stream",
          "text": [
            "/usr/local/lib/python3.6/dist-packages/ipykernel_launcher.py:52: DeprecationWarning: Call to deprecated `iter` (Attribute will be removed in 4.0.0, use self.epochs instead).\n"
          ],
          "name": "stderr"
        },
        {
          "output_type": "execute_result",
          "data": {
            "text/html": [
              "<div>\n",
              "<style scoped>\n",
              "    .dataframe tbody tr th:only-of-type {\n",
              "        vertical-align: middle;\n",
              "    }\n",
              "\n",
              "    .dataframe tbody tr th {\n",
              "        vertical-align: top;\n",
              "    }\n",
              "\n",
              "    .dataframe thead th {\n",
              "        text-align: right;\n",
              "    }\n",
              "</style>\n",
              "<table border=\"1\" class=\"dataframe\">\n",
              "  <thead>\n",
              "    <tr style=\"text-align: right;\">\n",
              "      <th></th>\n",
              "      <th>Dimension_1</th>\n",
              "      <th>Dimension_2</th>\n",
              "      <th>Dimension_3</th>\n",
              "      <th>rating</th>\n",
              "    </tr>\n",
              "  </thead>\n",
              "  <tbody>\n",
              "    <tr>\n",
              "      <th>0</th>\n",
              "      <td>23.474189</td>\n",
              "      <td>67.413237</td>\n",
              "      <td>-8.481007</td>\n",
              "      <td>1</td>\n",
              "    </tr>\n",
              "    <tr>\n",
              "      <th>1</th>\n",
              "      <td>48.960746</td>\n",
              "      <td>3.983078</td>\n",
              "      <td>7.674881</td>\n",
              "      <td>1</td>\n",
              "    </tr>\n",
              "    <tr>\n",
              "      <th>2</th>\n",
              "      <td>-0.479100</td>\n",
              "      <td>-212.007366</td>\n",
              "      <td>43.571413</td>\n",
              "      <td>1</td>\n",
              "    </tr>\n",
              "    <tr>\n",
              "      <th>3</th>\n",
              "      <td>125.100155</td>\n",
              "      <td>168.738512</td>\n",
              "      <td>-30.138763</td>\n",
              "      <td>1</td>\n",
              "    </tr>\n",
              "    <tr>\n",
              "      <th>4</th>\n",
              "      <td>-16.325868</td>\n",
              "      <td>11.926529</td>\n",
              "      <td>-23.747934</td>\n",
              "      <td>1</td>\n",
              "    </tr>\n",
              "    <tr>\n",
              "      <th>...</th>\n",
              "      <td>...</td>\n",
              "      <td>...</td>\n",
              "      <td>...</td>\n",
              "      <td>...</td>\n",
              "    </tr>\n",
              "    <tr>\n",
              "      <th>545</th>\n",
              "      <td>-10.779581</td>\n",
              "      <td>27.655723</td>\n",
              "      <td>-20.281371</td>\n",
              "      <td>5</td>\n",
              "    </tr>\n",
              "    <tr>\n",
              "      <th>546</th>\n",
              "      <td>54.155280</td>\n",
              "      <td>70.208684</td>\n",
              "      <td>-2.785050</td>\n",
              "      <td>5</td>\n",
              "    </tr>\n",
              "    <tr>\n",
              "      <th>547</th>\n",
              "      <td>92.732991</td>\n",
              "      <td>87.726616</td>\n",
              "      <td>-36.543880</td>\n",
              "      <td>5</td>\n",
              "    </tr>\n",
              "    <tr>\n",
              "      <th>548</th>\n",
              "      <td>-0.523730</td>\n",
              "      <td>17.147428</td>\n",
              "      <td>-8.957631</td>\n",
              "      <td>5</td>\n",
              "    </tr>\n",
              "    <tr>\n",
              "      <th>549</th>\n",
              "      <td>110.143565</td>\n",
              "      <td>182.548847</td>\n",
              "      <td>-32.567313</td>\n",
              "      <td>5</td>\n",
              "    </tr>\n",
              "  </tbody>\n",
              "</table>\n",
              "<p>550 rows × 4 columns</p>\n",
              "</div>"
            ],
            "text/plain": [
              "     Dimension_1  Dimension_2  Dimension_3  rating\n",
              "0      23.474189    67.413237    -8.481007       1\n",
              "1      48.960746     3.983078     7.674881       1\n",
              "2      -0.479100  -212.007366    43.571413       1\n",
              "3     125.100155   168.738512   -30.138763       1\n",
              "4     -16.325868    11.926529   -23.747934       1\n",
              "..           ...          ...          ...     ...\n",
              "545   -10.779581    27.655723   -20.281371       5\n",
              "546    54.155280    70.208684    -2.785050       5\n",
              "547    92.732991    87.726616   -36.543880       5\n",
              "548    -0.523730    17.147428    -8.957631       5\n",
              "549   110.143565   182.548847   -32.567313       5\n",
              "\n",
              "[550 rows x 4 columns]"
            ]
          },
          "metadata": {
            "tags": []
          },
          "execution_count": 36
        }
      ]
    },
    {
      "cell_type": "code",
      "metadata": {
        "colab": {
          "base_uri": "https://localhost:8080/"
        },
        "id": "I5dd_3AJjHr2",
        "outputId": "db55cc9f-8664-4f29-fea6-2e4af12c2a5f"
      },
      "source": [
        "word2vec_embed.dropna(inplace=True)\r\n",
        "X_train, X_test, y_train, y_test = train_test_split(word2vec_embed.iloc[:, :-1],\r\n",
        "                                                    word2vec_embed.iloc[:, -1], \r\n",
        "                                                    test_size=0.2, \r\n",
        "                                                    random_state=0, \r\n",
        "                                                    shuffle=True)\r\n",
        "# check distribution of ratings\r\n",
        "print(\"Value counts for Train reviews\")\r\n",
        "print(y_train.value_counts())\r\n",
        "print(\"Value counts for Test resviews\")\r\n",
        "print(y_test.value_counts())"
      ],
      "execution_count": 37,
      "outputs": [
        {
          "output_type": "stream",
          "text": [
            "Value counts for Train reviews\n",
            "2    92\n",
            "5    87\n",
            "4    87\n",
            "3    86\n",
            "1    85\n",
            "Name: rating, dtype: int64\n",
            "Value counts for Test resviews\n",
            "3    24\n",
            "5    23\n",
            "4    23\n",
            "2    21\n",
            "1    19\n",
            "Name: rating, dtype: int64\n"
          ],
          "name": "stdout"
        }
      ]
    },
    {
      "cell_type": "code",
      "metadata": {
        "colab": {
          "base_uri": "https://localhost:8080/"
        },
        "id": "4akZfLWZlOXg",
        "outputId": "643333d8-9894-4808-ef38-c3d9c634986f"
      },
      "source": [
        "rf = RandomForestClassifier()\r\n",
        "rf.fit(X_train, y_train)\r\n",
        "\r\n",
        "scores_rf = cross_val_score(rf, X_train, y_train, cv = 10, \r\n",
        "                            scoring='f1_weighted')\r\n",
        "print('Cross-validation scores:{}'.format(scores_rf))\r\n",
        "avg_score_rf = np.mean(scores_rf)\r\n",
        "print('Average cross-validation score:{}'.format(avg_score_rf))"
      ],
      "execution_count": 38,
      "outputs": [
        {
          "output_type": "stream",
          "text": [
            "Cross-validation scores:[0.26388464 0.32633053 0.31454488 0.24539806 0.30457426 0.20038398\n",
            " 0.3039072  0.33425456 0.3660511  0.36409629]\n",
            "Average cross-validation score:0.30234255063782534\n"
          ],
          "name": "stdout"
        }
      ]
    },
    {
      "cell_type": "code",
      "metadata": {
        "colab": {
          "base_uri": "https://localhost:8080/"
        },
        "id": "VMReYkHbmKwJ",
        "outputId": "b6beb87f-ee48-4128-a271-de946d73cb78"
      },
      "source": [
        "#classification reports\r\n",
        "pred_labels_rf = rf.predict(X_test)\r\n",
        "print(classification_report(y_test, pred_labels_rf))"
      ],
      "execution_count": 39,
      "outputs": [
        {
          "output_type": "stream",
          "text": [
            "              precision    recall  f1-score   support\n",
            "\n",
            "           1       0.25      0.21      0.23        19\n",
            "           2       0.48      0.62      0.54        21\n",
            "           3       0.30      0.25      0.27        24\n",
            "           4       0.44      0.65      0.53        23\n",
            "           5       0.15      0.09      0.11        23\n",
            "\n",
            "    accuracy                           0.36       110\n",
            "   macro avg       0.33      0.36      0.34       110\n",
            "weighted avg       0.32      0.36      0.34       110\n",
            "\n"
          ],
          "name": "stdout"
        }
      ]
    },
    {
      "cell_type": "code",
      "metadata": {
        "colab": {
          "base_uri": "https://localhost:8080/",
          "height": 415
        },
        "id": "JWIezYhXmR0h",
        "outputId": "eeb165de-d773-46d0-f629-bdceb8a8e71a"
      },
      "source": [
        "#confusion matrix\r\n",
        "data = confusion_matrix(y_test, pred_labels_rf, normalize='true')\r\n",
        "df_cm = pd.DataFrame(data, columns=[1, 2, 3, 4, 5], index=[1, 2, 3, 4, 5])\r\n",
        "\r\n",
        "df_cm.index.name = 'True label'\r\n",
        "df_cm.columns.name = 'Predicted label'\r\n",
        "plt.figure(figsize = (9, 6))\r\n",
        "plt.title('Normalized confusion matrix')\r\n",
        "sns.set(font_scale=1.2) \r\n",
        "sns.heatmap(df_cm, cmap=\"Blues\", annot=True, annot_kws={\"size\": 12}, fmt='.1g'); "
      ],
      "execution_count": 40,
      "outputs": [
        {
          "output_type": "display_data",
          "data": {
            "image/png": "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\n",
            "text/plain": [
              "<Figure size 648x432 with 2 Axes>"
            ]
          },
          "metadata": {
            "tags": []
          }
        }
      ]
    },
    {
      "cell_type": "markdown",
      "metadata": {
        "id": "CIlPlIpIneBL"
      },
      "source": [
        "##Fasttext Embedding"
      ]
    },
    {
      "cell_type": "markdown",
      "metadata": {
        "id": "VD8XQG0knjE_"
      },
      "source": [
        "We use a random forest classifier with the fasstext embedding as input."
      ]
    },
    {
      "cell_type": "code",
      "metadata": {
        "colab": {
          "base_uri": "https://localhost:8080/",
          "height": 450
        },
        "id": "uXJ8BABJnlj-",
        "outputId": "944429ec-765a-4ed6-926e-5ae3bf36e639"
      },
      "source": [
        "embeddor = Embeddor(corpus=corpus_augmented)\r\n",
        "embeddor.transform(vec_method=\"fasttext\", how=\"PCA\", n=100) #n_opt wasn't offering good results\r\n",
        "fasttext = embeddor.review_embedding\r\n",
        "fasttext['rating'] = ratings\r\n",
        "fasttext"
      ],
      "execution_count": 41,
      "outputs": [
        {
          "output_type": "stream",
          "text": [
            "/usr/local/lib/python3.6/dist-packages/ipykernel_launcher.py:52: DeprecationWarning: Call to deprecated `iter` (Attribute will be removed in 4.0.0, use self.epochs instead).\n"
          ],
          "name": "stderr"
        },
        {
          "output_type": "execute_result",
          "data": {
            "text/html": [
              "<div>\n",
              "<style scoped>\n",
              "    .dataframe tbody tr th:only-of-type {\n",
              "        vertical-align: middle;\n",
              "    }\n",
              "\n",
              "    .dataframe tbody tr th {\n",
              "        vertical-align: top;\n",
              "    }\n",
              "\n",
              "    .dataframe thead th {\n",
              "        text-align: right;\n",
              "    }\n",
              "</style>\n",
              "<table border=\"1\" class=\"dataframe\">\n",
              "  <thead>\n",
              "    <tr style=\"text-align: right;\">\n",
              "      <th></th>\n",
              "      <th>Dimension_1</th>\n",
              "      <th>Dimension_2</th>\n",
              "      <th>Dimension_3</th>\n",
              "      <th>rating</th>\n",
              "    </tr>\n",
              "  </thead>\n",
              "  <tbody>\n",
              "    <tr>\n",
              "      <th>0</th>\n",
              "      <td>80.943394</td>\n",
              "      <td>-28.054576</td>\n",
              "      <td>-10.511530</td>\n",
              "      <td>1</td>\n",
              "    </tr>\n",
              "    <tr>\n",
              "      <th>1</th>\n",
              "      <td>109.981102</td>\n",
              "      <td>-6.212238</td>\n",
              "      <td>23.105268</td>\n",
              "      <td>1</td>\n",
              "    </tr>\n",
              "    <tr>\n",
              "      <th>2</th>\n",
              "      <td>238.961083</td>\n",
              "      <td>-122.314008</td>\n",
              "      <td>-246.266892</td>\n",
              "      <td>1</td>\n",
              "    </tr>\n",
              "    <tr>\n",
              "      <th>3</th>\n",
              "      <td>44.235324</td>\n",
              "      <td>31.317293</td>\n",
              "      <td>61.944333</td>\n",
              "      <td>1</td>\n",
              "    </tr>\n",
              "    <tr>\n",
              "      <th>4</th>\n",
              "      <td>22.833177</td>\n",
              "      <td>51.377106</td>\n",
              "      <td>13.055065</td>\n",
              "      <td>1</td>\n",
              "    </tr>\n",
              "    <tr>\n",
              "      <th>...</th>\n",
              "      <td>...</td>\n",
              "      <td>...</td>\n",
              "      <td>...</td>\n",
              "      <td>...</td>\n",
              "    </tr>\n",
              "    <tr>\n",
              "      <th>545</th>\n",
              "      <td>102.281846</td>\n",
              "      <td>-89.826566</td>\n",
              "      <td>-35.327151</td>\n",
              "      <td>5</td>\n",
              "    </tr>\n",
              "    <tr>\n",
              "      <th>546</th>\n",
              "      <td>55.363115</td>\n",
              "      <td>-20.022117</td>\n",
              "      <td>38.901320</td>\n",
              "      <td>5</td>\n",
              "    </tr>\n",
              "    <tr>\n",
              "      <th>547</th>\n",
              "      <td>116.825649</td>\n",
              "      <td>81.892790</td>\n",
              "      <td>-9.945458</td>\n",
              "      <td>5</td>\n",
              "    </tr>\n",
              "    <tr>\n",
              "      <th>548</th>\n",
              "      <td>80.728913</td>\n",
              "      <td>5.066472</td>\n",
              "      <td>-26.342030</td>\n",
              "      <td>5</td>\n",
              "    </tr>\n",
              "    <tr>\n",
              "      <th>549</th>\n",
              "      <td>179.767035</td>\n",
              "      <td>21.064334</td>\n",
              "      <td>-6.939425</td>\n",
              "      <td>5</td>\n",
              "    </tr>\n",
              "  </tbody>\n",
              "</table>\n",
              "<p>550 rows × 4 columns</p>\n",
              "</div>"
            ],
            "text/plain": [
              "     Dimension_1  Dimension_2  Dimension_3  rating\n",
              "0      80.943394   -28.054576   -10.511530       1\n",
              "1     109.981102    -6.212238    23.105268       1\n",
              "2     238.961083  -122.314008  -246.266892       1\n",
              "3      44.235324    31.317293    61.944333       1\n",
              "4      22.833177    51.377106    13.055065       1\n",
              "..           ...          ...          ...     ...\n",
              "545   102.281846   -89.826566   -35.327151       5\n",
              "546    55.363115   -20.022117    38.901320       5\n",
              "547   116.825649    81.892790    -9.945458       5\n",
              "548    80.728913     5.066472   -26.342030       5\n",
              "549   179.767035    21.064334    -6.939425       5\n",
              "\n",
              "[550 rows x 4 columns]"
            ]
          },
          "metadata": {
            "tags": []
          },
          "execution_count": 41
        }
      ]
    },
    {
      "cell_type": "code",
      "metadata": {
        "colab": {
          "base_uri": "https://localhost:8080/"
        },
        "id": "814tBxbbnxtV",
        "outputId": "73483a6b-e36b-492c-f47c-16e066e2d27c"
      },
      "source": [
        "fasttext.dropna(inplace=True)\r\n",
        "X_train, X_test, y_train, y_test = train_test_split(fasttext.iloc[:, :-1],\r\n",
        "                                                    fasttext.iloc[:, -1], \r\n",
        "                                                    test_size=0.2, \r\n",
        "                                                    random_state=0, \r\n",
        "                                                    shuffle=True)\r\n",
        "# check distribution of ratings\r\n",
        "print(\"Value counts for Train reviews\")\r\n",
        "print(y_train.value_counts())\r\n",
        "print(\"Value counts for Test resviews\")\r\n",
        "print(y_test.value_counts())"
      ],
      "execution_count": 42,
      "outputs": [
        {
          "output_type": "stream",
          "text": [
            "Value counts for Train reviews\n",
            "2    92\n",
            "5    87\n",
            "4    87\n",
            "3    86\n",
            "1    85\n",
            "Name: rating, dtype: int64\n",
            "Value counts for Test resviews\n",
            "3    24\n",
            "5    23\n",
            "4    23\n",
            "2    21\n",
            "1    19\n",
            "Name: rating, dtype: int64\n"
          ],
          "name": "stdout"
        }
      ]
    },
    {
      "cell_type": "code",
      "metadata": {
        "colab": {
          "base_uri": "https://localhost:8080/"
        },
        "id": "-dhUQOXmoImX",
        "outputId": "857bb28b-c84a-4041-93d5-871f9135492b"
      },
      "source": [
        "from sklearn.ensemble import RandomForestClassifier\r\n",
        "rf = RandomForestClassifier()\r\n",
        "rf.fit(X_train, y_train)\r\n",
        "\r\n",
        "scores_rf = cross_val_score(rf, X_train, y_train, cv = 10, \r\n",
        "                            scoring='f1_weighted')\r\n",
        "print('Cross-validation scores:{}'.format(scores_rf))\r\n",
        "avg_score_rf = np.mean(scores_rf)\r\n",
        "print('Average cross-validation score:{}'.format(avg_score_rf))"
      ],
      "execution_count": 43,
      "outputs": [
        {
          "output_type": "stream",
          "text": [
            "Cross-validation scores:[0.32413691 0.29741736 0.40285088 0.35808983 0.33050239 0.32048729\n",
            " 0.32802305 0.27339487 0.34764333 0.29671563]\n",
            "Average cross-validation score:0.32792615253756024\n"
          ],
          "name": "stdout"
        }
      ]
    },
    {
      "cell_type": "code",
      "metadata": {
        "colab": {
          "base_uri": "https://localhost:8080/"
        },
        "id": "ykn8GaQtn80g",
        "outputId": "84977ffe-14ff-49fd-a5b5-07929806f95f"
      },
      "source": [
        "#classification reports\r\n",
        "pred_labels_rf = rf.predict(X_test)\r\n",
        "print(classification_report(y_test, pred_labels_rf))"
      ],
      "execution_count": 44,
      "outputs": [
        {
          "output_type": "stream",
          "text": [
            "              precision    recall  f1-score   support\n",
            "\n",
            "           1       0.31      0.26      0.29        19\n",
            "           2       0.26      0.33      0.29        21\n",
            "           3       0.44      0.33      0.38        24\n",
            "           4       0.31      0.39      0.35        23\n",
            "           5       0.35      0.30      0.33        23\n",
            "\n",
            "    accuracy                           0.33       110\n",
            "   macro avg       0.34      0.33      0.33       110\n",
            "weighted avg       0.34      0.33      0.33       110\n",
            "\n"
          ],
          "name": "stdout"
        }
      ]
    },
    {
      "cell_type": "code",
      "metadata": {
        "colab": {
          "base_uri": "https://localhost:8080/",
          "height": 415
        },
        "id": "SF6R7qZBoPqB",
        "outputId": "ac503ad9-b236-4b58-c988-66770d9de07d"
      },
      "source": [
        "#confusion matrix\r\n",
        "data = confusion_matrix(y_test, pred_labels_rf, normalize='true')\r\n",
        "df_cm = pd.DataFrame(data, columns=[1, 2, 3, 4, 5], index=[1, 2, 3, 4, 5])\r\n",
        "\r\n",
        "df_cm.index.name = 'True label'\r\n",
        "df_cm.columns.name = 'Predicted label'\r\n",
        "plt.figure(figsize = (9, 6))\r\n",
        "plt.title('Normalized confusion matrix')\r\n",
        "sns.set(font_scale=1.2) \r\n",
        "sns.heatmap(df_cm, cmap=\"Blues\", annot=True, annot_kws={\"size\": 12}, fmt='.1g'); "
      ],
      "execution_count": 45,
      "outputs": [
        {
          "output_type": "display_data",
          "data": {
            "image/png": "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\n",
            "text/plain": [
              "<Figure size 648x432 with 2 Axes>"
            ]
          },
          "metadata": {
            "tags": []
          }
        }
      ]
    },
    {
      "cell_type": "markdown",
      "metadata": {
        "id": "uANo-S3SpJth"
      },
      "source": [
        "#Final remark"
      ]
    },
    {
      "cell_type": "markdown",
      "metadata": {
        "id": "tu9_I0EjpMOD"
      },
      "source": [
        "None of our classifier is showing convincing results. However we are aware that several points can be improved: more data can be scrapped, data augmentation should be performed at a higher scale, a deep learning method could outperform the ones we have shown.\r\n",
        "\r\n",
        "It is interesting to note that even if the dataset is balanced between the classes, it appears easier to predict accurately good reviews (rated 4 or 5) than negative ones (rated 1 or 2)."
      ]
>>>>>>> 541c68f48cc2af10c2b8c5f2d85bb5c8a82bab96
    }
   ],
   "source": [
    "import tensorflow_addons"
   ]
  },
  {
   "cell_type": "markdown",
   "metadata": {
    "id": "vvYZ5F-cM6Ho"
   },
   "source": [
    "#Loading the data"
   ]
  },
  {
   "cell_type": "code",
   "execution_count": null,
   "metadata": {
    "id": "TTrQtpHx1Kvu"
   },
   "outputs": [],
   "source": [
    "loader = TADataLoader()\n",
    "df_restos, df_reviews = loader.load_restos(drop_duplicates=True),\\\n",
    "                        loader.load_reviews(drop_duplicates=True)\n",
    "#df_reviews = df_reviews.iloc[:5000]\n",
    "preprocessor = TextPreprocessor(df_reviews, column_to_clean='review_content')\n",
    "preprocessor.transform(n_grams=False)\n",
    "corpus = preprocessor.corpus"
   ]
  },
  {
   "cell_type": "markdown",
   "metadata": {
    "id": "MB2PToUU1qSM"
   },
   "source": [
    "#LSI"
   ]
  },
  {
   "cell_type": "markdown",
   "metadata": {
    "id": "N6c8GEQQ3_71"
   },
   "source": [
    "We first perform LSI with respect to the reviews on the the two first dimensions"
   ]
  },
  {
   "cell_type": "code",
   "execution_count": null,
   "metadata": {
    "colab": {
     "base_uri": "https://localhost:8080/",
     "height": 201
    },
    "id": "yv38a53r1r0w",
    "outputId": "769db82e-5891-43a1-d659-703addbcadbc"
   },
   "outputs": [],
   "source": [
    "embeddor = Embeddor(corpus=corpus) #use our custom class to compute the embedding\n",
    "embeddor.transform(vec_method=\"tfidf\", how=\"SVD\", n=2)\n",
    "lsi = embeddor.review_embedding\n",
    "lsi['corpus'] = corpus  #add columns to link the embedding to the review\n",
    "lsi['rating'] = df_reviews['review_rating']\n",
    "lsi.head()"
   ]
  },
  {
   "cell_type": "markdown",
   "metadata": {
    "id": "gs15-4xB43MH"
   },
   "source": [
    "Now, we compute LSI with as many dimensions as needed to explain a given percentage of the variance. "
   ]
  },
  {
   "cell_type": "code",
   "execution_count": null,
   "metadata": {
    "colab": {
     "base_uri": "https://localhost:8080/",
     "height": 646
    },
    "id": "a9mzD4M94qqj",
    "outputId": "4dc2882c-ecdd-454e-cee4-bc87bbd4e43f"
   },
   "outputs": [],
   "source": [
    "embeddor = Embeddor(corpus=corpus)\n",
    "embeddor.transform(vec_method=\"tfidf\", how=\"SVD\", n=\"n_opt\", threshold=0.5)\n",
    "lsi = embeddor.review_embedding\n",
    "lsi['corpus'] = corpus\n",
    "lsi['rating'] = df_reviews['review_rating']\n",
    "lsi.head()"
   ]
  },
  {
   "cell_type": "markdown",
   "metadata": {
    "id": "rOZMWHDcZsUa"
   },
   "source": [
    "#Word2vec"
   ]
  },
  {
   "cell_type": "markdown",
   "metadata": {
    "id": "1MU6GH_LWZ8U"
   },
   "source": [
    "Now we will use the word2vec embedding"
   ]
  },
  {
   "cell_type": "code",
   "execution_count": null,
   "metadata": {
    "colab": {
     "base_uri": "https://localhost:8080/",
     "height": 255
    },
    "id": "75eHcKCZ_eqX",
    "outputId": "8c6892c6-f891-426b-f2a4-e31de862cbb1"
   },
   "outputs": [],
   "source": [
    "embeddor = Embeddor(corpus=corpus)\n",
    "embeddor.transform(vec_method=\"word2vec\", how=\"PCA\", n=\"n_opt\", threshold=0.95)\n",
    "word2vec_embed = embeddor.review_embedding\n",
    "word2vec_model = embeddor.model\n",
    "word2vec_embed['corpus'] = corpus\n",
    "word2vec_embed['rating'] = df_reviews['review_rating']\n",
    "word2vec_embed.head()"
   ]
  },
  {
   "cell_type": "markdown",
   "metadata": {
    "id": "J2ZQSDrja9e0"
   },
   "source": [
    "Thanks to the word2vec embedding we can see the proximity between terms in our dataset:"
   ]
  },
  {
   "cell_type": "code",
   "execution_count": null,
   "metadata": {
    "colab": {
     "base_uri": "https://localhost:8080/"
    },
    "id": "eiWancMhaq1S",
    "outputId": "7c8a0fe0-3c83-48e9-ec98-dda854e44d98"
   },
   "outputs": [],
   "source": [
    "word2vec_model.wv.most_similar(\"waiter\", topn=10)"
   ]
  },
  {
   "cell_type": "markdown",
   "metadata": {
    "id": "kBr_LeCpdTDM"
   },
   "source": [
    "As we observe what appears to be waiters' names, the embedding is quite accurate"
   ]
  },
  {
   "cell_type": "markdown",
   "metadata": {
    "id": "sRDL435wbVA7"
   },
   "source": [
    "#Fasttext"
   ]
  },
  {
   "cell_type": "markdown",
   "metadata": {
    "id": "iglpZsXeWlMA"
   },
   "source": [
    "Thnaks to our class we can also use a fattext embedding"
   ]
  },
  {
   "cell_type": "code",
   "execution_count": null,
   "metadata": {
    "colab": {
     "base_uri": "https://localhost:8080/",
     "height": 255
    },
    "id": "MlNv2gUzbYy9",
    "outputId": "51efc5a1-df32-4051-f15a-e027542052e4"
   },
   "outputs": [],
   "source": [
    "embeddor = Embeddor(corpus=corpus)\n",
    "embeddor.transform(vec_method=\"fasttext\", how=\"PCA\", n=\"n_opt\", threshold=0.95)\n",
    "fasttext_embed = embeddor.review_embedding\n",
    "fasttext_model = embeddor.model\n",
    "fasttext_embed['corpus'] = corpus\n",
    "fasttext_embed['rating'] = df_reviews['review_rating']\n",
    "fasttext_embed.head()"
   ]
  },
  {
   "cell_type": "code",
   "execution_count": null,
   "metadata": {
    "colab": {
     "base_uri": "https://localhost:8080/"
    },
    "id": "Ps0SK-5FccY8",
    "outputId": "4bc7fd4a-f288-48e3-b44d-11c379671e67"
   },
   "outputs": [],
   "source": [
    "fasttext_model.wv.most_similar(\"waiter\", topn=10)"
   ]
  },
  {
   "cell_type": "markdown",
   "metadata": {
    "id": "Badyhee0WuR6"
   },
   "source": [
    "The most similar words appear to be slightly less accurate thant the ones produced by the word2vec method"
   ]
  },
  {
   "cell_type": "markdown",
   "metadata": {
    "id": "rYz6ZfgScvG1"
   },
   "source": [
    "#Data augmentation"
   ]
  },
  {
   "cell_type": "markdown",
   "metadata": {
    "id": "MSPTr3x_At3N"
   },
   "source": [
    "We observe that our dataset is not balanced which isn't a good point if we want to cluster the different topics or if we want to build a classification model."
   ]
  },
  {
   "cell_type": "code",
   "execution_count": null,
   "metadata": {
    "colab": {
     "base_uri": "https://localhost:8080/",
     "height": 404
    },
    "id": "JL4gX8G_YytN",
    "outputId": "9d30271f-aa1b-4f89-e196-aabdf829eb0f"
   },
   "outputs": [],
   "source": [
    "sns.countplot(x='review_rating', data=df_reviews)\n",
    "plt.title('Number of reviews per rating')\n",
    "plt.xlabel('Rating')\n",
    "plt.ylabel(' ')\n",
    "plt.show()"
   ]
  },
  {
   "cell_type": "markdown",
   "metadata": {
    "id": "d3OeCSCddSf3"
   },
   "source": [
    "To overcome the skewness of our dataset we perform data augmentation. In order to achieve this we create new reviews with similar terms (according to the general word2vec pretrained model). "
   ]
  },
  {
   "cell_type": "markdown",
   "metadata": {
    "id": "_U2Ht71uXQhU"
   },
   "source": [
    "At this point we can either load the augmented corpus that has been obtained or rerun the following steps."
   ]
  },
  {
   "cell_type": "code",
   "execution_count": null,
   "metadata": {
    "id": "3f-NVkP4Xut1"
   },
   "outputs": [],
   "source": [
    "#load augmented corpus\n",
    "path = 'balanced_corpus.txt'\n",
    "with open(path, 'r') as f:\n",
    "  corpus_augmented = literal_eval(f.read())"
   ]
  },
  {
   "cell_type": "markdown",
   "metadata": {
    "id": "jeeOuL1iZIHY"
   },
   "source": [
    "##Creating augmented corpus"
   ]
  },
  {
   "cell_type": "code",
   "execution_count": null,
   "metadata": {
    "colab": {
     "base_uri": "https://localhost:8080/"
    },
    "id": "dFL6FqNnbn0Y",
    "outputId": "5697d208-1bf3-4203-cee5-2a2ff567f6aa"
   },
   "outputs": [],
   "source": [
    "#load pretrained model for augmentation\n",
    "wv = api.load('word2vec-google-news-300')\n"
   ]
  },
  {
   "cell_type": "code",
   "execution_count": null,
   "metadata": {
    "id": "thfiPZ_qf5NL"
   },
   "outputs": [],
   "source": [
    "#corpus per rating\n",
    "for i in range(1,6):\n",
    "    exec(f'r{i} = df_reviews[df_reviews.loc[:,\"review_rating\"]==i]')\n",
    "    exec(f\"preprocessor = TextPreprocessor(r{i}, column_to_clean='review_content')\")\n",
    "    preprocessor.transform(n_grams=False)\n",
    "    exec(f'corpus{i} = preprocessor.corpus')"
   ]
  },
  {
   "cell_type": "code",
   "execution_count": null,
   "metadata": {
    "id": "dK_eH4UVqnY8"
   },
   "outputs": [],
   "source": [
    "def similar(corp):\n",
    "    for i in range(len(corp)):\n",
    "        print(i)                                      \n",
    "        for j in range(len(corp[i])):\n",
    "            n = randint(2)\n",
    "            try:\n",
    "                corp[i][j] = wv.most_similar(corp[i][j], topn=3)[n][0]\n",
    "            except:\n",
    "                continue\n",
    "    return corp"
   ]
  },
  {
   "cell_type": "code",
   "execution_count": null,
   "metadata": {
    "id": "ICGhPFGsjG8T"
   },
   "outputs": [],
   "source": [
    "#we augment the number of reviews for ratings 1 and 2\n",
    "corpus1_augmented = corpus1.copy()\n",
    "corpus1_augmented = similar(corpus1_augmented)\n",
    "corpus2_augmented = corpus2.copy()\n",
    "corpus2_augmented = similar(corpus2_augmented)"
   ]
  },
  {
   "cell_type": "code",
   "execution_count": null,
   "metadata": {
    "id": "7SBl2BBLTf2I"
   },
   "outputs": [],
   "source": [
    "#create a balanced datset\n",
    "corpus_augmented = corpus1 + corpus1_augmented[1:36] + corpus2\\\n",
    "                   + corpus2_augmented + corpus3[:110] + corpus4[:110]\\\n",
    "                   + corpus5[:110]"
   ]
  },
  {
   "cell_type": "markdown",
   "metadata": {
    "id": "gdKkShHTZMxQ"
   },
   "source": [
    "##Augmented corpus results"
   ]
  },
  {
   "cell_type": "code",
   "execution_count": null,
   "metadata": {
    "colab": {
     "base_uri": "https://localhost:8080/",
     "height": 450
    },
    "id": "ApulvO0bLmLO",
    "outputId": "b6b00d05-fc4c-4ac1-835c-64556a708623"
   },
   "outputs": [],
   "source": [
    "embeddor = Embeddor(corpus=corpus_augmented)\n",
    "embeddor.transform(vec_method=\"tfidf\", how=\"SVD\", n=\"n_opt\", threshold=0.5)\n",
    "lsi = embeddor.review_embedding\n",
    "lsi"
   ]
  },
  {
   "cell_type": "code",
   "execution_count": null,
   "metadata": {
    "id": "EEmJ5KlQahCJ"
   },
   "outputs": [],
   "source": [
    "ratings = [1]*104 + [2]*116 + [3]*110 + [4]*110 + [5]*110"
   ]
  },
  {
   "cell_type": "code",
   "execution_count": null,
   "metadata": {
    "colab": {
     "base_uri": "https://localhost:8080/",
     "height": 629
    },
    "id": "6nL7WHkccYeJ",
    "outputId": "44606920-0256-4d22-dd9a-c3b123efc31b"
   },
   "outputs": [],
   "source": [
    "embeddor = Embeddor(corpus=corpus_augmented)\n",
    "embeddor.transform(vec_method=\"tfidf\", how=\"SVD\", n=\"n_opt\", threshold=0.5)\n",
    "lsi = embeddor.review_embedding\n",
    "lsi['corpus'] = corpus_augmented\n",
    "lsi['rating'] = ratings\n",
    "lsi.head()"
   ]
  },
  {
   "cell_type": "code",
   "execution_count": null,
   "metadata": {
    "colab": {
     "base_uri": "https://localhost:8080/",
     "height": 404
    },
    "id": "54poCxBaUV4u",
    "outputId": "8dd344a0-f5c8-4cd6-b578-d140d115ca72"
   },
   "outputs": [],
   "source": [
    "sns.countplot(x='rating', data=lsi)\n",
    "plt.title('Number of reviews per rating after data augmentation')\n",
    "plt.xlabel('Rating')\n",
    "plt.ylabel(' ')\n",
    "plt.show()"
   ]
  },
  {
   "cell_type": "markdown",
   "metadata": {
    "id": "sMGCl4BhDBfZ"
   },
   "source": [
    "Let's see how the different topics are linked to the quality of the reviews (for the first 25 directions):"
   ]
  },
  {
   "cell_type": "code",
   "execution_count": null,
   "metadata": {
    "colab": {
     "base_uri": "https://localhost:8080/"
    },
    "id": "gk3iwuv6a4Kf",
    "outputId": "7f268fb0-863a-4d49-bd7b-780ba6501187"
   },
   "outputs": [],
   "source": [
    "for i in range(25):\n",
    "    rat_list = []\n",
    "    lsi[f'SV{i+1}'] = np.abs(lsi[f'SV{i+1}'])\n",
    "    top_words = lsi.sort_values(f'SV{i+1}', ascending=False).index[:20]\n",
    "    print(f\"Average rating for topic {i} is : \")\n",
    "    for ind in list(top_words):\n",
    "        rat_list.append(ratings[ind])\n",
    "    print(sum(rat_list)/20)"
   ]
  },
  {
   "cell_type": "markdown",
   "metadata": {
    "id": "F_0HVHgCBUlD"
   },
   "source": [
    "We can now visualize how the quality of a review is related to a topic. In the following example the topic 1 is mostly associated with good reviews while the second topic is mostly associated with bad reviews. "
   ]
  },
  {
   "cell_type": "code",
   "execution_count": null,
   "metadata": {
    "colab": {
     "base_uri": "https://localhost:8080/",
     "height": 623
    },
    "id": "WhxlWJpq8p3A",
    "outputId": "081ce043-efaf-4f5d-9ab6-374a35a814f5"
   },
   "outputs": [],
   "source": [
    "fig, ax = plt.subplots(figsize=(10,10))\n",
    "\n",
    "colors = ['red', 'orange', 'yellow', 'yellowgreen', 'green']\n",
    "\n",
    "for val in lsi['rating'].unique():\n",
    "    topic_1 = np.abs(lsi[lsi['rating']==val]['SV1'].values)\n",
    "    topic_2 = np.abs(lsi[lsi['rating']==val]['SV66'].values)\n",
    "    color = colors[val-1]\n",
    "    ax.scatter(topic_1, topic_2, alpha=0.7, label=val, color=color)\n",
    "    \n",
    "ax.set_xlabel('First Topic')\n",
    "ax.set_ylabel('Second Topic')\n",
    "ax.axvline(linewidth=0.5)\n",
    "ax.axhline(linewidth=0.5)\n",
    "ax.legend()"
   ]
  },
  {
   "cell_type": "markdown",
   "metadata": {
    "id": "k5UZYUhWCL8u"
   },
   "source": [
    "Let's see what are the top reviews associated with each topic. We observe that \"food\" is often mentioned in the reviews associated with the first topics while the service appears several times in the reviews associated with the second topic. We conclude that food is the differentiating factor for restaurants and bars while service is only a requirement. \n"
   ]
  },
  {
   "cell_type": "code",
   "execution_count": null,
   "metadata": {
    "colab": {
     "base_uri": "https://localhost:8080/"
    },
    "id": "7MKwyAw3bjf2",
    "outputId": "aa06958b-1668-4b1d-a91c-e90419edc71d"
   },
   "outputs": [],
   "source": [
    "for i in [0, 65]:\n",
    "    rat_list = []\n",
    "    lsi[f'SV{i+1}'] = np.abs(lsi[f'SV{i+1}'])\n",
    "    top_words = lsi.sort_values(f'SV{i+1}', ascending=False).index[:5]\n",
    "    print(f\"Top review for topic {i} is: \")\n",
    "    for ind in list(top_words):\n",
    "        print(lsi.corpus[ind])"
   ]
  },
  {
   "cell_type": "markdown",
   "metadata": {
    "id": "ssS-PsilOMur"
   },
   "source": [
    "#Classification Model"
   ]
  },
  {
   "cell_type": "markdown",
   "metadata": {
    "id": "qPSGLQjgo09R"
   },
   "source": [
    "##LSI embedding"
   ]
  },
  {
   "cell_type": "markdown",
   "metadata": {
    "id": "ftOKyB69o3iR"
   },
   "source": [
    "###Logistic regression"
   ]
  },
  {
   "cell_type": "code",
   "execution_count": null,
   "metadata": {
    "colab": {
     "base_uri": "https://localhost:8080/",
     "height": 450
    },
    "id": "W7lcKxpbRUkH",
    "outputId": "d1dbe20c-c02f-43b6-d2e7-196a436e126a"
   },
   "outputs": [],
   "source": [
    "embeddor = Embeddor(corpus=corpus_augmented)\n",
    "embeddor.transform(vec_method=\"tfidf\", how=\"SVD\", n=\"n_opt\", threshold=0.5)\n",
    "lsi = embeddor.review_embedding\n",
    "lsi['rating'] = ratings\n",
    "lsi"
   ]
  },
  {
   "cell_type": "code",
   "execution_count": null,
   "metadata": {
    "colab": {
     "base_uri": "https://localhost:8080/"
    },
    "id": "JWSiVBqgOPOY",
    "outputId": "e4a05f4a-1bec-4d98-8f51-7e7a5ad1ceff"
   },
   "outputs": [],
   "source": [
    "#prep df \n",
    "lsi.dropna(inplace=True)\n",
    "X_train, X_test, y_train, y_test = train_test_split(lsi.iloc[:, :-1],\n",
    "                                                    lsi.iloc[:, -1], \n",
    "                                                    test_size=0.2, \n",
    "                                                    random_state=0, \n",
    "                                                    shuffle=True)\n",
    "# check distribution of ratings\n",
    "print(\"Value counts for Train reviews\")\n",
    "print(y_train.value_counts())\n",
    "print(\"Value counts for Test resviews\")\n",
    "print(y_test.value_counts())"
   ]
  },
  {
   "cell_type": "code",
   "execution_count": null,
   "metadata": {
    "colab": {
     "base_uri": "https://localhost:8080/"
    },
    "id": "mXRwbg_UOQIs",
    "outputId": "7bbd02bf-16f9-46e2-976d-fbda093d0732"
   },
   "outputs": [],
   "source": [
    "logreg = LogisticRegression(multi_class='multinomial', solver='lbfgs')\n",
    "logreg.fit(X_train, y_train)\n",
    "# cross validation\n",
    "scores_log = cross_val_score(logreg, X_train, y_train, cv = 10, \n",
    "                            scoring='f1_weighted')\n",
    "print('Cross-validation scores:{}'.format(scores_log))\n",
    "avg_score_log = np.mean(scores_log)\n",
    "print('Average cross-validation score:{}'.format(avg_score_log))"
   ]
  },
  {
   "cell_type": "code",
   "execution_count": null,
   "metadata": {
    "colab": {
     "base_uri": "https://localhost:8080/"
    },
    "id": "dwlWcrQ7OUSx",
    "outputId": "0015f2a1-d7e3-4200-b757-34df320851ad"
   },
   "outputs": [],
   "source": [
    "#classification report \n",
    "pred_logreg = logreg.predict(X_test)\n",
    "print(classification_report(y_test, pred_logreg))"
   ]
  },
  {
   "cell_type": "code",
   "execution_count": null,
   "metadata": {
    "colab": {
     "base_uri": "https://localhost:8080/",
     "height": 421
    },
    "id": "9zd41m4eOWon",
    "outputId": "be755986-0299-4bcd-86a5-c2ad330ec538"
   },
   "outputs": [],
   "source": [
    "#confusion matrix\n",
    "data = confusion_matrix(y_test, pred_logreg, normalize='true')\n",
    "df_cm = pd.DataFrame(data, columns=[1, 2, 3, 4, 5], index=[1, 2, 3, 4, 5])\n",
    "df_cm.index.name = 'True label'\n",
    "df_cm.columns.name = 'Predicted label'\n",
    "plt.figure(figsize = (9, 6))\n",
    "plt.title('Confusion Matrix')\n",
    "sns.set(font_scale=1.2) \n",
    "sns.heatmap(df_cm, cmap=\"Blues\", annot=True, annot_kws={\"size\": 12}, fmt='.1g')"
   ]
  },
  {
   "cell_type": "markdown",
   "metadata": {
    "id": "UgqhQSCMokau"
   },
   "source": [
    "###Random Forest"
   ]
  },
  {
   "cell_type": "code",
   "execution_count": null,
   "metadata": {
    "colab": {
     "base_uri": "https://localhost:8080/"
    },
    "id": "NYgXbzh_m3Mc",
    "outputId": "cde8f592-520f-4ef3-d9a0-6edc6a3b4ed9"
   },
   "outputs": [],
   "source": [
    "#random forest classifier\n",
    "rf = RandomForestClassifier()\n",
    "rf.fit(X_train, y_train)\n",
    "\n",
    "scores_rf = cross_val_score(rf, X_train, y_train, cv = 10, \n",
    "                            scoring='f1_weighted')\n",
    "print('Cross-validation scores:{}'.format(scores_rf))\n",
    "avg_score_rf = np.mean(scores_rf)\n",
    "print('Average cross-validation score:{}'.format(avg_score_rf))"
   ]
  },
  {
   "cell_type": "code",
   "execution_count": null,
   "metadata": {
    "colab": {
     "base_uri": "https://localhost:8080/"
    },
    "id": "rqKzfIe7nHcE",
    "outputId": "2a2269b2-6127-4bd2-a91b-89d3792ace10"
   },
   "outputs": [],
   "source": [
    "pred_labels_rf = rf.predict(X_test)\n",
    "print(classification_report(y_test, pred_labels_rf))"
   ]
  },
  {
   "cell_type": "code",
   "execution_count": null,
   "metadata": {
    "colab": {
     "base_uri": "https://localhost:8080/",
     "height": 415
    },
    "id": "LfnpZO69nJAa",
    "outputId": "792143ab-6953-4e67-9e1c-8bae305761a4"
   },
   "outputs": [],
   "source": [
    "#confusion matrix\n",
    "data = confusion_matrix(y_test, pred_labels_rf, normalize='true')\n",
    "df_cm = pd.DataFrame(data, columns=[1, 2, 3, 4, 5], index=[1, 2, 3, 4, 5])\n",
    "\n",
    "df_cm.index.name = 'True label'\n",
    "df_cm.columns.name = 'Predicted label'\n",
    "plt.figure(figsize = (9, 6))\n",
    "plt.title('Normalized confusion matrix')\n",
    "sns.set(font_scale=1.2) \n",
    "sns.heatmap(df_cm, cmap=\"Blues\", annot=True, annot_kws={\"size\": 12}, fmt='.1g'); "
   ]
  },
  {
   "cell_type": "markdown",
   "metadata": {
    "id": "SF62sYc3o6_1"
   },
   "source": [
    "The random forest classifier shows better result than the logistic regression classifier."
   ]
  },
  {
   "cell_type": "markdown",
   "metadata": {
    "id": "BlQt91M_mjrP"
   },
   "source": [
    "##Word2vec embedding"
   ]
  },
  {
   "cell_type": "markdown",
   "metadata": {
    "id": "nNyldlb1mtMV"
   },
   "source": [
    "We use a random forest classifier with the word2vec embedding as input."
   ]
  },
  {
   "cell_type": "code",
   "execution_count": null,
   "metadata": {
    "colab": {
     "base_uri": "https://localhost:8080/",
     "height": 450
    },
    "id": "AFjerKNZiulM",
    "outputId": "17129220-8cc2-42e9-f22d-c6963feaf3fd"
   },
   "outputs": [],
   "source": [
    "embeddor = Embeddor(corpus=corpus_augmented)\n",
    "embeddor.transform(vec_method=\"word2vec\", how=\"PCA\", n=100) #n_opt wasn't offering good results\n",
    "word2vec_embed = embeddor.review_embedding\n",
    "word2vec_embed['rating'] = ratings\n",
    "word2vec_embed"
   ]
  },
  {
   "cell_type": "code",
   "execution_count": null,
   "metadata": {
    "colab": {
     "base_uri": "https://localhost:8080/"
    },
    "id": "I5dd_3AJjHr2",
    "outputId": "db55cc9f-8664-4f29-fea6-2e4af12c2a5f"
   },
   "outputs": [],
   "source": [
    "word2vec_embed.dropna(inplace=True)\n",
    "X_train, X_test, y_train, y_test = train_test_split(word2vec_embed.iloc[:, :-1],\n",
    "                                                    word2vec_embed.iloc[:, -1], \n",
    "                                                    test_size=0.2, \n",
    "                                                    random_state=0, \n",
    "                                                    shuffle=True)\n",
    "# check distribution of ratings\n",
    "print(\"Value counts for Train reviews\")\n",
    "print(y_train.value_counts())\n",
    "print(\"Value counts for Test resviews\")\n",
    "print(y_test.value_counts())"
   ]
  },
  {
   "cell_type": "code",
   "execution_count": null,
   "metadata": {
    "colab": {
     "base_uri": "https://localhost:8080/"
    },
    "id": "4akZfLWZlOXg",
    "outputId": "643333d8-9894-4808-ef38-c3d9c634986f"
   },
   "outputs": [],
   "source": [
    "rf = RandomForestClassifier()\n",
    "rf.fit(X_train, y_train)\n",
    "\n",
    "scores_rf = cross_val_score(rf, X_train, y_train, cv = 10, \n",
    "                            scoring='f1_weighted')\n",
    "print('Cross-validation scores:{}'.format(scores_rf))\n",
    "avg_score_rf = np.mean(scores_rf)\n",
    "print('Average cross-validation score:{}'.format(avg_score_rf))"
   ]
  },
  {
   "cell_type": "code",
   "execution_count": null,
   "metadata": {
    "colab": {
     "base_uri": "https://localhost:8080/"
    },
    "id": "VMReYkHbmKwJ",
    "outputId": "b6beb87f-ee48-4128-a271-de946d73cb78"
   },
   "outputs": [],
   "source": [
    "#classification reports\n",
    "pred_labels_rf = rf.predict(X_test)\n",
    "print(classification_report(y_test, pred_labels_rf))"
   ]
  },
  {
   "cell_type": "code",
   "execution_count": null,
   "metadata": {
    "colab": {
     "base_uri": "https://localhost:8080/",
     "height": 415
    },
    "id": "JWIezYhXmR0h",
    "outputId": "eeb165de-d773-46d0-f629-bdceb8a8e71a"
   },
   "outputs": [],
   "source": [
    "#confusion matrix\n",
    "data = confusion_matrix(y_test, pred_labels_rf, normalize='true')\n",
    "df_cm = pd.DataFrame(data, columns=[1, 2, 3, 4, 5], index=[1, 2, 3, 4, 5])\n",
    "\n",
    "df_cm.index.name = 'True label'\n",
    "df_cm.columns.name = 'Predicted label'\n",
    "plt.figure(figsize = (9, 6))\n",
    "plt.title('Normalized confusion matrix')\n",
    "sns.set(font_scale=1.2) \n",
    "sns.heatmap(df_cm, cmap=\"Blues\", annot=True, annot_kws={\"size\": 12}, fmt='.1g'); "
   ]
  },
  {
   "cell_type": "markdown",
   "metadata": {
    "id": "CIlPlIpIneBL"
   },
   "source": [
    "##Fasttext Embedding"
   ]
  },
  {
   "cell_type": "markdown",
   "metadata": {
    "id": "VD8XQG0knjE_"
   },
   "source": [
    "We use a random forest classifier with the fasstext embedding as input."
   ]
  },
  {
   "cell_type": "code",
   "execution_count": null,
   "metadata": {
    "colab": {
     "base_uri": "https://localhost:8080/",
     "height": 450
    },
    "id": "uXJ8BABJnlj-",
    "outputId": "944429ec-765a-4ed6-926e-5ae3bf36e639"
   },
   "outputs": [],
   "source": [
    "embeddor = Embeddor(corpus=corpus_augmented)\n",
    "embeddor.transform(vec_method=\"fasttext\", how=\"PCA\", n=100) #n_opt wasn't offering good results\n",
    "fasttext = embeddor.review_embedding\n",
    "fasttext['rating'] = ratings\n",
    "fasttext"
   ]
  },
  {
   "cell_type": "code",
   "execution_count": null,
   "metadata": {
    "colab": {
     "base_uri": "https://localhost:8080/"
    },
    "id": "814tBxbbnxtV",
    "outputId": "73483a6b-e36b-492c-f47c-16e066e2d27c"
   },
   "outputs": [],
   "source": [
    "fasttext.dropna(inplace=True)\n",
    "X_train, X_test, y_train, y_test = train_test_split(fasttext.iloc[:, :-1],\n",
    "                                                    fasttext.iloc[:, -1], \n",
    "                                                    test_size=0.2, \n",
    "                                                    random_state=0, \n",
    "                                                    shuffle=True)\n",
    "# check distribution of ratings\n",
    "print(\"Value counts for Train reviews\")\n",
    "print(y_train.value_counts())\n",
    "print(\"Value counts for Test resviews\")\n",
    "print(y_test.value_counts())"
   ]
  },
  {
   "cell_type": "code",
   "execution_count": null,
   "metadata": {
    "colab": {
     "base_uri": "https://localhost:8080/"
    },
    "id": "-dhUQOXmoImX",
    "outputId": "857bb28b-c84a-4041-93d5-871f9135492b"
   },
   "outputs": [],
   "source": [
    "from sklearn.ensemble import RandomForestClassifier\n",
    "rf = RandomForestClassifier()\n",
    "rf.fit(X_train, y_train)\n",
    "\n",
    "scores_rf = cross_val_score(rf, X_train, y_train, cv = 10, \n",
    "                            scoring='f1_weighted')\n",
    "print('Cross-validation scores:{}'.format(scores_rf))\n",
    "avg_score_rf = np.mean(scores_rf)\n",
    "print('Average cross-validation score:{}'.format(avg_score_rf))"
   ]
  },
  {
   "cell_type": "code",
   "execution_count": null,
   "metadata": {
    "colab": {
     "base_uri": "https://localhost:8080/"
    },
    "id": "ykn8GaQtn80g",
    "outputId": "84977ffe-14ff-49fd-a5b5-07929806f95f"
   },
   "outputs": [],
   "source": [
    "#classification reports\n",
    "pred_labels_rf = rf.predict(X_test)\n",
    "print(classification_report(y_test, pred_labels_rf))"
   ]
  },
  {
   "cell_type": "code",
   "execution_count": null,
   "metadata": {
    "colab": {
     "base_uri": "https://localhost:8080/",
     "height": 415
    },
    "id": "SF6R7qZBoPqB",
    "outputId": "ac503ad9-b236-4b58-c988-66770d9de07d"
   },
   "outputs": [],
   "source": [
    "#confusion matrix\n",
    "data = confusion_matrix(y_test, pred_labels_rf, normalize='true')\n",
    "df_cm = pd.DataFrame(data, columns=[1, 2, 3, 4, 5], index=[1, 2, 3, 4, 5])\n",
    "\n",
    "df_cm.index.name = 'True label'\n",
    "df_cm.columns.name = 'Predicted label'\n",
    "plt.figure(figsize = (9, 6))\n",
    "plt.title('Normalized confusion matrix')\n",
    "sns.set(font_scale=1.2) \n",
    "sns.heatmap(df_cm, cmap=\"Blues\", annot=True, annot_kws={\"size\": 12}, fmt='.1g'); "
   ]
  },
  {
   "cell_type": "markdown",
   "metadata": {
    "id": "uANo-S3SpJth"
   },
   "source": [
    "#Final remark"
   ]
  },
  {
   "cell_type": "markdown",
   "metadata": {
    "id": "tu9_I0EjpMOD"
   },
   "source": [
    "None of our classifier is showing convincing results. However we are aware that several points can be improved: more data can be scrapped, data augmentation should be performed at a higher scale, a deep learning method could outperform the ones we have shown.\n",
    "\n",
    "It is interesting to note that even if the dataset is balanced between the classes, it appears easier to predict accurately good reviews (rated 4 or 5) than negative ones (rated 1 or 2)."
   ]
  }
 ],
 "metadata": {
  "colab": {
   "collapsed_sections": [],
   "name": "Deliverable_3.ipynb",
   "provenance": []
  },
  "kernelspec": {
   "display_name": "Python 3",
   "language": "python",
   "name": "python3"
  },
  "language_info": {
   "codemirror_mode": {
    "name": "ipython",
    "version": 3
   },
   "file_extension": ".py",
   "mimetype": "text/x-python",
   "name": "python",
   "nbconvert_exporter": "python",
   "pygments_lexer": "ipython3",
   "version": "3.7.7"
  }
 },
 "nbformat": 4,
 "nbformat_minor": 1
}
